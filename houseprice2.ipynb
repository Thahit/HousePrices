{
 "cells": [
  {
   "cell_type": "markdown",
   "metadata": {
    "papermill": {
     "duration": 0.059881,
     "end_time": "2020-09-11T07:11:03.976280",
     "exception": false,
     "start_time": "2020-09-11T07:11:03.916399",
     "status": "completed"
    },
    "tags": []
   },
   "source": [
    "# House Price Prediction2\n",
    "I decided to Fork the Notebook and  change some of the features.(log of saleprice).\n",
    "Scaling the Saleprice seems to have a very positive impact on the acc. of the models.\n",
    "\n",
    "# Imports"
   ]
  },
  {
   "cell_type": "code",
   "execution_count": 1,
   "metadata": {
    "_cell_guid": "b1076dfc-b9ad-4769-8c92-a6c4dae69d19",
    "_uuid": "8f2839f25d086af736a60e9eeb907d3b93b6e0e5",
    "execution": {
     "iopub.execute_input": "2020-09-11T07:11:04.098953Z",
     "iopub.status.busy": "2020-09-11T07:11:04.098325Z",
     "iopub.status.idle": "2020-09-11T07:11:05.149713Z",
     "shell.execute_reply": "2020-09-11T07:11:05.148913Z"
    },
    "papermill": {
     "duration": 1.116151,
     "end_time": "2020-09-11T07:11:05.149861",
     "exception": false,
     "start_time": "2020-09-11T07:11:04.033710",
     "status": "completed"
    },
    "tags": []
   },
   "outputs": [
    {
     "name": "stdout",
     "output_type": "stream",
     "text": [
      "/kaggle/input/house-prices-advanced-regression-techniques/data_description.txt\n",
      "/kaggle/input/house-prices-advanced-regression-techniques/sample_submission.csv\n",
      "/kaggle/input/house-prices-advanced-regression-techniques/test.csv\n",
      "/kaggle/input/house-prices-advanced-regression-techniques/train.csv\n",
      "imports sucessful\n"
     ]
    }
   ],
   "source": [
    "import numpy as np \n",
    "import pandas as pd \n",
    "\n",
    "\n",
    "# plot\n",
    "import os\n",
    "import matplotlib.pyplot as plt\n",
    "import seaborn as sns\n",
    "from scipy import stats\n",
    "\n",
    "from sklearn.preprocessing import MinMaxScaler, OneHotEncoder\n",
    "from sklearn.metrics import mean_squared_error\n",
    "\n",
    "from sklearn.model_selection import RandomizedSearchCV\n",
    "from scipy.stats import  norm\n",
    "from sklearn.pipeline import make_pipeline\n",
    "\n",
    "from sklearn.preprocessing import RobustScaler \n",
    "#This Scaler removes the median and scales the data according to the quantile range\n",
    "# better for models like SVR\n",
    "\n",
    "import os\n",
    "for dirname, _, filenames in os.walk('/kaggle/input'):\n",
    "    for filename in filenames:\n",
    "        print(os.path.join(dirname, filename))\n",
    "        \n",
    "# import warnings \n",
    "# warnings.filterwarnings('ignore')\n",
    "\n",
    "print(\"imports sucessful\")"
   ]
  },
  {
   "cell_type": "markdown",
   "metadata": {
    "papermill": {
     "duration": 0.058138,
     "end_time": "2020-09-11T07:11:05.269364",
     "exception": false,
     "start_time": "2020-09-11T07:11:05.211226",
     "status": "completed"
    },
    "tags": []
   },
   "source": [
    "# Data Processing"
   ]
  },
  {
   "cell_type": "code",
   "execution_count": 2,
   "metadata": {
    "_cell_guid": "79c7e3d0-c299-4dcb-8224-4455121ee9b0",
    "_uuid": "d629ff2d2480ee46fbb7e2d37f6b5fab8052498a",
    "execution": {
     "iopub.execute_input": "2020-09-11T07:11:05.394839Z",
     "iopub.status.busy": "2020-09-11T07:11:05.394126Z",
     "iopub.status.idle": "2020-09-11T07:11:05.499212Z",
     "shell.execute_reply": "2020-09-11T07:11:05.498706Z"
    },
    "papermill": {
     "duration": 0.170543,
     "end_time": "2020-09-11T07:11:05.499314",
     "exception": false,
     "start_time": "2020-09-11T07:11:05.328771",
     "status": "completed"
    },
    "tags": []
   },
   "outputs": [
    {
     "data": {
      "text/html": [
       "<div>\n",
       "<style scoped>\n",
       "    .dataframe tbody tr th:only-of-type {\n",
       "        vertical-align: middle;\n",
       "    }\n",
       "\n",
       "    .dataframe tbody tr th {\n",
       "        vertical-align: top;\n",
       "    }\n",
       "\n",
       "    .dataframe thead th {\n",
       "        text-align: right;\n",
       "    }\n",
       "</style>\n",
       "<table border=\"1\" class=\"dataframe\">\n",
       "  <thead>\n",
       "    <tr style=\"text-align: right;\">\n",
       "      <th></th>\n",
       "      <th>MSSubClass</th>\n",
       "      <th>MSZoning</th>\n",
       "      <th>LotFrontage</th>\n",
       "      <th>LotArea</th>\n",
       "      <th>Street</th>\n",
       "      <th>Alley</th>\n",
       "      <th>LotShape</th>\n",
       "      <th>LandContour</th>\n",
       "      <th>Utilities</th>\n",
       "      <th>LotConfig</th>\n",
       "      <th>...</th>\n",
       "      <th>PoolArea</th>\n",
       "      <th>PoolQC</th>\n",
       "      <th>Fence</th>\n",
       "      <th>MiscFeature</th>\n",
       "      <th>MiscVal</th>\n",
       "      <th>MoSold</th>\n",
       "      <th>YrSold</th>\n",
       "      <th>SaleType</th>\n",
       "      <th>SaleCondition</th>\n",
       "      <th>SalePrice</th>\n",
       "    </tr>\n",
       "    <tr>\n",
       "      <th>Id</th>\n",
       "      <th></th>\n",
       "      <th></th>\n",
       "      <th></th>\n",
       "      <th></th>\n",
       "      <th></th>\n",
       "      <th></th>\n",
       "      <th></th>\n",
       "      <th></th>\n",
       "      <th></th>\n",
       "      <th></th>\n",
       "      <th></th>\n",
       "      <th></th>\n",
       "      <th></th>\n",
       "      <th></th>\n",
       "      <th></th>\n",
       "      <th></th>\n",
       "      <th></th>\n",
       "      <th></th>\n",
       "      <th></th>\n",
       "      <th></th>\n",
       "      <th></th>\n",
       "    </tr>\n",
       "  </thead>\n",
       "  <tbody>\n",
       "    <tr>\n",
       "      <th>1</th>\n",
       "      <td>60</td>\n",
       "      <td>RL</td>\n",
       "      <td>65.0</td>\n",
       "      <td>8450</td>\n",
       "      <td>Pave</td>\n",
       "      <td>NaN</td>\n",
       "      <td>Reg</td>\n",
       "      <td>Lvl</td>\n",
       "      <td>AllPub</td>\n",
       "      <td>Inside</td>\n",
       "      <td>...</td>\n",
       "      <td>0</td>\n",
       "      <td>NaN</td>\n",
       "      <td>NaN</td>\n",
       "      <td>NaN</td>\n",
       "      <td>0</td>\n",
       "      <td>2</td>\n",
       "      <td>2008</td>\n",
       "      <td>WD</td>\n",
       "      <td>Normal</td>\n",
       "      <td>208500</td>\n",
       "    </tr>\n",
       "    <tr>\n",
       "      <th>2</th>\n",
       "      <td>20</td>\n",
       "      <td>RL</td>\n",
       "      <td>80.0</td>\n",
       "      <td>9600</td>\n",
       "      <td>Pave</td>\n",
       "      <td>NaN</td>\n",
       "      <td>Reg</td>\n",
       "      <td>Lvl</td>\n",
       "      <td>AllPub</td>\n",
       "      <td>FR2</td>\n",
       "      <td>...</td>\n",
       "      <td>0</td>\n",
       "      <td>NaN</td>\n",
       "      <td>NaN</td>\n",
       "      <td>NaN</td>\n",
       "      <td>0</td>\n",
       "      <td>5</td>\n",
       "      <td>2007</td>\n",
       "      <td>WD</td>\n",
       "      <td>Normal</td>\n",
       "      <td>181500</td>\n",
       "    </tr>\n",
       "    <tr>\n",
       "      <th>3</th>\n",
       "      <td>60</td>\n",
       "      <td>RL</td>\n",
       "      <td>68.0</td>\n",
       "      <td>11250</td>\n",
       "      <td>Pave</td>\n",
       "      <td>NaN</td>\n",
       "      <td>IR1</td>\n",
       "      <td>Lvl</td>\n",
       "      <td>AllPub</td>\n",
       "      <td>Inside</td>\n",
       "      <td>...</td>\n",
       "      <td>0</td>\n",
       "      <td>NaN</td>\n",
       "      <td>NaN</td>\n",
       "      <td>NaN</td>\n",
       "      <td>0</td>\n",
       "      <td>9</td>\n",
       "      <td>2008</td>\n",
       "      <td>WD</td>\n",
       "      <td>Normal</td>\n",
       "      <td>223500</td>\n",
       "    </tr>\n",
       "    <tr>\n",
       "      <th>4</th>\n",
       "      <td>70</td>\n",
       "      <td>RL</td>\n",
       "      <td>60.0</td>\n",
       "      <td>9550</td>\n",
       "      <td>Pave</td>\n",
       "      <td>NaN</td>\n",
       "      <td>IR1</td>\n",
       "      <td>Lvl</td>\n",
       "      <td>AllPub</td>\n",
       "      <td>Corner</td>\n",
       "      <td>...</td>\n",
       "      <td>0</td>\n",
       "      <td>NaN</td>\n",
       "      <td>NaN</td>\n",
       "      <td>NaN</td>\n",
       "      <td>0</td>\n",
       "      <td>2</td>\n",
       "      <td>2006</td>\n",
       "      <td>WD</td>\n",
       "      <td>Abnorml</td>\n",
       "      <td>140000</td>\n",
       "    </tr>\n",
       "    <tr>\n",
       "      <th>5</th>\n",
       "      <td>60</td>\n",
       "      <td>RL</td>\n",
       "      <td>84.0</td>\n",
       "      <td>14260</td>\n",
       "      <td>Pave</td>\n",
       "      <td>NaN</td>\n",
       "      <td>IR1</td>\n",
       "      <td>Lvl</td>\n",
       "      <td>AllPub</td>\n",
       "      <td>FR2</td>\n",
       "      <td>...</td>\n",
       "      <td>0</td>\n",
       "      <td>NaN</td>\n",
       "      <td>NaN</td>\n",
       "      <td>NaN</td>\n",
       "      <td>0</td>\n",
       "      <td>12</td>\n",
       "      <td>2008</td>\n",
       "      <td>WD</td>\n",
       "      <td>Normal</td>\n",
       "      <td>250000</td>\n",
       "    </tr>\n",
       "    <tr>\n",
       "      <th>...</th>\n",
       "      <td>...</td>\n",
       "      <td>...</td>\n",
       "      <td>...</td>\n",
       "      <td>...</td>\n",
       "      <td>...</td>\n",
       "      <td>...</td>\n",
       "      <td>...</td>\n",
       "      <td>...</td>\n",
       "      <td>...</td>\n",
       "      <td>...</td>\n",
       "      <td>...</td>\n",
       "      <td>...</td>\n",
       "      <td>...</td>\n",
       "      <td>...</td>\n",
       "      <td>...</td>\n",
       "      <td>...</td>\n",
       "      <td>...</td>\n",
       "      <td>...</td>\n",
       "      <td>...</td>\n",
       "      <td>...</td>\n",
       "      <td>...</td>\n",
       "    </tr>\n",
       "    <tr>\n",
       "      <th>1456</th>\n",
       "      <td>60</td>\n",
       "      <td>RL</td>\n",
       "      <td>62.0</td>\n",
       "      <td>7917</td>\n",
       "      <td>Pave</td>\n",
       "      <td>NaN</td>\n",
       "      <td>Reg</td>\n",
       "      <td>Lvl</td>\n",
       "      <td>AllPub</td>\n",
       "      <td>Inside</td>\n",
       "      <td>...</td>\n",
       "      <td>0</td>\n",
       "      <td>NaN</td>\n",
       "      <td>NaN</td>\n",
       "      <td>NaN</td>\n",
       "      <td>0</td>\n",
       "      <td>8</td>\n",
       "      <td>2007</td>\n",
       "      <td>WD</td>\n",
       "      <td>Normal</td>\n",
       "      <td>175000</td>\n",
       "    </tr>\n",
       "    <tr>\n",
       "      <th>1457</th>\n",
       "      <td>20</td>\n",
       "      <td>RL</td>\n",
       "      <td>85.0</td>\n",
       "      <td>13175</td>\n",
       "      <td>Pave</td>\n",
       "      <td>NaN</td>\n",
       "      <td>Reg</td>\n",
       "      <td>Lvl</td>\n",
       "      <td>AllPub</td>\n",
       "      <td>Inside</td>\n",
       "      <td>...</td>\n",
       "      <td>0</td>\n",
       "      <td>NaN</td>\n",
       "      <td>MnPrv</td>\n",
       "      <td>NaN</td>\n",
       "      <td>0</td>\n",
       "      <td>2</td>\n",
       "      <td>2010</td>\n",
       "      <td>WD</td>\n",
       "      <td>Normal</td>\n",
       "      <td>210000</td>\n",
       "    </tr>\n",
       "    <tr>\n",
       "      <th>1458</th>\n",
       "      <td>70</td>\n",
       "      <td>RL</td>\n",
       "      <td>66.0</td>\n",
       "      <td>9042</td>\n",
       "      <td>Pave</td>\n",
       "      <td>NaN</td>\n",
       "      <td>Reg</td>\n",
       "      <td>Lvl</td>\n",
       "      <td>AllPub</td>\n",
       "      <td>Inside</td>\n",
       "      <td>...</td>\n",
       "      <td>0</td>\n",
       "      <td>NaN</td>\n",
       "      <td>GdPrv</td>\n",
       "      <td>Shed</td>\n",
       "      <td>2500</td>\n",
       "      <td>5</td>\n",
       "      <td>2010</td>\n",
       "      <td>WD</td>\n",
       "      <td>Normal</td>\n",
       "      <td>266500</td>\n",
       "    </tr>\n",
       "    <tr>\n",
       "      <th>1459</th>\n",
       "      <td>20</td>\n",
       "      <td>RL</td>\n",
       "      <td>68.0</td>\n",
       "      <td>9717</td>\n",
       "      <td>Pave</td>\n",
       "      <td>NaN</td>\n",
       "      <td>Reg</td>\n",
       "      <td>Lvl</td>\n",
       "      <td>AllPub</td>\n",
       "      <td>Inside</td>\n",
       "      <td>...</td>\n",
       "      <td>0</td>\n",
       "      <td>NaN</td>\n",
       "      <td>NaN</td>\n",
       "      <td>NaN</td>\n",
       "      <td>0</td>\n",
       "      <td>4</td>\n",
       "      <td>2010</td>\n",
       "      <td>WD</td>\n",
       "      <td>Normal</td>\n",
       "      <td>142125</td>\n",
       "    </tr>\n",
       "    <tr>\n",
       "      <th>1460</th>\n",
       "      <td>20</td>\n",
       "      <td>RL</td>\n",
       "      <td>75.0</td>\n",
       "      <td>9937</td>\n",
       "      <td>Pave</td>\n",
       "      <td>NaN</td>\n",
       "      <td>Reg</td>\n",
       "      <td>Lvl</td>\n",
       "      <td>AllPub</td>\n",
       "      <td>Inside</td>\n",
       "      <td>...</td>\n",
       "      <td>0</td>\n",
       "      <td>NaN</td>\n",
       "      <td>NaN</td>\n",
       "      <td>NaN</td>\n",
       "      <td>0</td>\n",
       "      <td>6</td>\n",
       "      <td>2008</td>\n",
       "      <td>WD</td>\n",
       "      <td>Normal</td>\n",
       "      <td>147500</td>\n",
       "    </tr>\n",
       "  </tbody>\n",
       "</table>\n",
       "<p>1460 rows × 80 columns</p>\n",
       "</div>"
      ],
      "text/plain": [
       "      MSSubClass MSZoning  LotFrontage  LotArea Street Alley LotShape  \\\n",
       "Id                                                                      \n",
       "1             60       RL         65.0     8450   Pave   NaN      Reg   \n",
       "2             20       RL         80.0     9600   Pave   NaN      Reg   \n",
       "3             60       RL         68.0    11250   Pave   NaN      IR1   \n",
       "4             70       RL         60.0     9550   Pave   NaN      IR1   \n",
       "5             60       RL         84.0    14260   Pave   NaN      IR1   \n",
       "...          ...      ...          ...      ...    ...   ...      ...   \n",
       "1456          60       RL         62.0     7917   Pave   NaN      Reg   \n",
       "1457          20       RL         85.0    13175   Pave   NaN      Reg   \n",
       "1458          70       RL         66.0     9042   Pave   NaN      Reg   \n",
       "1459          20       RL         68.0     9717   Pave   NaN      Reg   \n",
       "1460          20       RL         75.0     9937   Pave   NaN      Reg   \n",
       "\n",
       "     LandContour Utilities LotConfig  ... PoolArea PoolQC  Fence MiscFeature  \\\n",
       "Id                                    ...                                      \n",
       "1            Lvl    AllPub    Inside  ...        0    NaN    NaN         NaN   \n",
       "2            Lvl    AllPub       FR2  ...        0    NaN    NaN         NaN   \n",
       "3            Lvl    AllPub    Inside  ...        0    NaN    NaN         NaN   \n",
       "4            Lvl    AllPub    Corner  ...        0    NaN    NaN         NaN   \n",
       "5            Lvl    AllPub       FR2  ...        0    NaN    NaN         NaN   \n",
       "...          ...       ...       ...  ...      ...    ...    ...         ...   \n",
       "1456         Lvl    AllPub    Inside  ...        0    NaN    NaN         NaN   \n",
       "1457         Lvl    AllPub    Inside  ...        0    NaN  MnPrv         NaN   \n",
       "1458         Lvl    AllPub    Inside  ...        0    NaN  GdPrv        Shed   \n",
       "1459         Lvl    AllPub    Inside  ...        0    NaN    NaN         NaN   \n",
       "1460         Lvl    AllPub    Inside  ...        0    NaN    NaN         NaN   \n",
       "\n",
       "     MiscVal MoSold  YrSold  SaleType  SaleCondition  SalePrice  \n",
       "Id                                                               \n",
       "1          0      2    2008        WD         Normal     208500  \n",
       "2          0      5    2007        WD         Normal     181500  \n",
       "3          0      9    2008        WD         Normal     223500  \n",
       "4          0      2    2006        WD        Abnorml     140000  \n",
       "5          0     12    2008        WD         Normal     250000  \n",
       "...      ...    ...     ...       ...            ...        ...  \n",
       "1456       0      8    2007        WD         Normal     175000  \n",
       "1457       0      2    2010        WD         Normal     210000  \n",
       "1458    2500      5    2010        WD         Normal     266500  \n",
       "1459       0      4    2010        WD         Normal     142125  \n",
       "1460       0      6    2008        WD         Normal     147500  \n",
       "\n",
       "[1460 rows x 80 columns]"
      ]
     },
     "execution_count": 2,
     "metadata": {},
     "output_type": "execute_result"
    }
   ],
   "source": [
    "train=pd.read_csv(\"../input/house-prices-advanced-regression-techniques/train.csv\", index_col=\"Id\")\n",
    "test=pd.read_csv(\"../input/house-prices-advanced-regression-techniques/test.csv\", index_col=\"Id\")\n",
    "train"
   ]
  },
  {
   "cell_type": "code",
   "execution_count": 3,
   "metadata": {
    "execution": {
     "iopub.execute_input": "2020-09-11T07:11:05.624867Z",
     "iopub.status.busy": "2020-09-11T07:11:05.624277Z",
     "iopub.status.idle": "2020-09-11T07:11:05.627841Z",
     "shell.execute_reply": "2020-09-11T07:11:05.627139Z"
    },
    "papermill": {
     "duration": 0.068668,
     "end_time": "2020-09-11T07:11:05.627981",
     "exception": false,
     "start_time": "2020-09-11T07:11:05.559313",
     "status": "completed"
    },
    "tags": []
   },
   "outputs": [
    {
     "name": "stdout",
     "output_type": "stream",
     "text": [
      "Train.shape:  (1460, 80) \tTest.shape:  (1459, 79)\n"
     ]
    }
   ],
   "source": [
    "print(\"Train.shape: \", train.shape, \"\\tTest.shape: \", test.shape)"
   ]
  },
  {
   "cell_type": "code",
   "execution_count": 4,
   "metadata": {
    "execution": {
     "iopub.execute_input": "2020-09-11T07:11:05.755655Z",
     "iopub.status.busy": "2020-09-11T07:11:05.754854Z",
     "iopub.status.idle": "2020-09-11T07:11:05.759783Z",
     "shell.execute_reply": "2020-09-11T07:11:05.758616Z"
    },
    "papermill": {
     "duration": 0.070536,
     "end_time": "2020-09-11T07:11:05.759901",
     "exception": false,
     "start_time": "2020-09-11T07:11:05.689365",
     "status": "completed"
    },
    "tags": []
   },
   "outputs": [
    {
     "data": {
      "text/plain": [
       "Id\n",
       "1       208500\n",
       "2       181500\n",
       "3       223500\n",
       "4       140000\n",
       "5       250000\n",
       "         ...  \n",
       "1456    175000\n",
       "1457    210000\n",
       "1458    266500\n",
       "1459    142125\n",
       "1460    147500\n",
       "Name: SalePrice, Length: 1460, dtype: int64"
      ]
     },
     "execution_count": 4,
     "metadata": {},
     "output_type": "execute_result"
    }
   ],
   "source": [
    "trainY=train.pop(\"SalePrice\")\n",
    "trainY"
   ]
  },
  {
   "cell_type": "code",
   "execution_count": 5,
   "metadata": {
    "execution": {
     "iopub.execute_input": "2020-09-11T07:11:05.888765Z",
     "iopub.status.busy": "2020-09-11T07:11:05.887696Z",
     "iopub.status.idle": "2020-09-11T07:11:05.936324Z",
     "shell.execute_reply": "2020-09-11T07:11:05.935732Z"
    },
    "papermill": {
     "duration": 0.1162,
     "end_time": "2020-09-11T07:11:05.936426",
     "exception": false,
     "start_time": "2020-09-11T07:11:05.820226",
     "status": "completed"
    },
    "tags": []
   },
   "outputs": [
    {
     "data": {
      "text/html": [
       "<div>\n",
       "<style scoped>\n",
       "    .dataframe tbody tr th:only-of-type {\n",
       "        vertical-align: middle;\n",
       "    }\n",
       "\n",
       "    .dataframe tbody tr th {\n",
       "        vertical-align: top;\n",
       "    }\n",
       "\n",
       "    .dataframe thead th {\n",
       "        text-align: right;\n",
       "    }\n",
       "</style>\n",
       "<table border=\"1\" class=\"dataframe\">\n",
       "  <thead>\n",
       "    <tr style=\"text-align: right;\">\n",
       "      <th></th>\n",
       "      <th>MSSubClass</th>\n",
       "      <th>MSZoning</th>\n",
       "      <th>LotFrontage</th>\n",
       "      <th>LotArea</th>\n",
       "      <th>Street</th>\n",
       "      <th>Alley</th>\n",
       "      <th>LotShape</th>\n",
       "      <th>LandContour</th>\n",
       "      <th>Utilities</th>\n",
       "      <th>LotConfig</th>\n",
       "      <th>...</th>\n",
       "      <th>ScreenPorch</th>\n",
       "      <th>PoolArea</th>\n",
       "      <th>PoolQC</th>\n",
       "      <th>Fence</th>\n",
       "      <th>MiscFeature</th>\n",
       "      <th>MiscVal</th>\n",
       "      <th>MoSold</th>\n",
       "      <th>YrSold</th>\n",
       "      <th>SaleType</th>\n",
       "      <th>SaleCondition</th>\n",
       "    </tr>\n",
       "  </thead>\n",
       "  <tbody>\n",
       "    <tr>\n",
       "      <th>0</th>\n",
       "      <td>60</td>\n",
       "      <td>RL</td>\n",
       "      <td>65.0</td>\n",
       "      <td>8450</td>\n",
       "      <td>Pave</td>\n",
       "      <td>NaN</td>\n",
       "      <td>Reg</td>\n",
       "      <td>Lvl</td>\n",
       "      <td>AllPub</td>\n",
       "      <td>Inside</td>\n",
       "      <td>...</td>\n",
       "      <td>0</td>\n",
       "      <td>0</td>\n",
       "      <td>NaN</td>\n",
       "      <td>NaN</td>\n",
       "      <td>NaN</td>\n",
       "      <td>0</td>\n",
       "      <td>2</td>\n",
       "      <td>2008</td>\n",
       "      <td>WD</td>\n",
       "      <td>Normal</td>\n",
       "    </tr>\n",
       "    <tr>\n",
       "      <th>1</th>\n",
       "      <td>20</td>\n",
       "      <td>RL</td>\n",
       "      <td>80.0</td>\n",
       "      <td>9600</td>\n",
       "      <td>Pave</td>\n",
       "      <td>NaN</td>\n",
       "      <td>Reg</td>\n",
       "      <td>Lvl</td>\n",
       "      <td>AllPub</td>\n",
       "      <td>FR2</td>\n",
       "      <td>...</td>\n",
       "      <td>0</td>\n",
       "      <td>0</td>\n",
       "      <td>NaN</td>\n",
       "      <td>NaN</td>\n",
       "      <td>NaN</td>\n",
       "      <td>0</td>\n",
       "      <td>5</td>\n",
       "      <td>2007</td>\n",
       "      <td>WD</td>\n",
       "      <td>Normal</td>\n",
       "    </tr>\n",
       "    <tr>\n",
       "      <th>2</th>\n",
       "      <td>60</td>\n",
       "      <td>RL</td>\n",
       "      <td>68.0</td>\n",
       "      <td>11250</td>\n",
       "      <td>Pave</td>\n",
       "      <td>NaN</td>\n",
       "      <td>IR1</td>\n",
       "      <td>Lvl</td>\n",
       "      <td>AllPub</td>\n",
       "      <td>Inside</td>\n",
       "      <td>...</td>\n",
       "      <td>0</td>\n",
       "      <td>0</td>\n",
       "      <td>NaN</td>\n",
       "      <td>NaN</td>\n",
       "      <td>NaN</td>\n",
       "      <td>0</td>\n",
       "      <td>9</td>\n",
       "      <td>2008</td>\n",
       "      <td>WD</td>\n",
       "      <td>Normal</td>\n",
       "    </tr>\n",
       "    <tr>\n",
       "      <th>3</th>\n",
       "      <td>70</td>\n",
       "      <td>RL</td>\n",
       "      <td>60.0</td>\n",
       "      <td>9550</td>\n",
       "      <td>Pave</td>\n",
       "      <td>NaN</td>\n",
       "      <td>IR1</td>\n",
       "      <td>Lvl</td>\n",
       "      <td>AllPub</td>\n",
       "      <td>Corner</td>\n",
       "      <td>...</td>\n",
       "      <td>0</td>\n",
       "      <td>0</td>\n",
       "      <td>NaN</td>\n",
       "      <td>NaN</td>\n",
       "      <td>NaN</td>\n",
       "      <td>0</td>\n",
       "      <td>2</td>\n",
       "      <td>2006</td>\n",
       "      <td>WD</td>\n",
       "      <td>Abnorml</td>\n",
       "    </tr>\n",
       "    <tr>\n",
       "      <th>4</th>\n",
       "      <td>60</td>\n",
       "      <td>RL</td>\n",
       "      <td>84.0</td>\n",
       "      <td>14260</td>\n",
       "      <td>Pave</td>\n",
       "      <td>NaN</td>\n",
       "      <td>IR1</td>\n",
       "      <td>Lvl</td>\n",
       "      <td>AllPub</td>\n",
       "      <td>FR2</td>\n",
       "      <td>...</td>\n",
       "      <td>0</td>\n",
       "      <td>0</td>\n",
       "      <td>NaN</td>\n",
       "      <td>NaN</td>\n",
       "      <td>NaN</td>\n",
       "      <td>0</td>\n",
       "      <td>12</td>\n",
       "      <td>2008</td>\n",
       "      <td>WD</td>\n",
       "      <td>Normal</td>\n",
       "    </tr>\n",
       "    <tr>\n",
       "      <th>...</th>\n",
       "      <td>...</td>\n",
       "      <td>...</td>\n",
       "      <td>...</td>\n",
       "      <td>...</td>\n",
       "      <td>...</td>\n",
       "      <td>...</td>\n",
       "      <td>...</td>\n",
       "      <td>...</td>\n",
       "      <td>...</td>\n",
       "      <td>...</td>\n",
       "      <td>...</td>\n",
       "      <td>...</td>\n",
       "      <td>...</td>\n",
       "      <td>...</td>\n",
       "      <td>...</td>\n",
       "      <td>...</td>\n",
       "      <td>...</td>\n",
       "      <td>...</td>\n",
       "      <td>...</td>\n",
       "      <td>...</td>\n",
       "      <td>...</td>\n",
       "    </tr>\n",
       "    <tr>\n",
       "      <th>2914</th>\n",
       "      <td>160</td>\n",
       "      <td>RM</td>\n",
       "      <td>21.0</td>\n",
       "      <td>1936</td>\n",
       "      <td>Pave</td>\n",
       "      <td>NaN</td>\n",
       "      <td>Reg</td>\n",
       "      <td>Lvl</td>\n",
       "      <td>AllPub</td>\n",
       "      <td>Inside</td>\n",
       "      <td>...</td>\n",
       "      <td>0</td>\n",
       "      <td>0</td>\n",
       "      <td>NaN</td>\n",
       "      <td>NaN</td>\n",
       "      <td>NaN</td>\n",
       "      <td>0</td>\n",
       "      <td>6</td>\n",
       "      <td>2006</td>\n",
       "      <td>WD</td>\n",
       "      <td>Normal</td>\n",
       "    </tr>\n",
       "    <tr>\n",
       "      <th>2915</th>\n",
       "      <td>160</td>\n",
       "      <td>RM</td>\n",
       "      <td>21.0</td>\n",
       "      <td>1894</td>\n",
       "      <td>Pave</td>\n",
       "      <td>NaN</td>\n",
       "      <td>Reg</td>\n",
       "      <td>Lvl</td>\n",
       "      <td>AllPub</td>\n",
       "      <td>Inside</td>\n",
       "      <td>...</td>\n",
       "      <td>0</td>\n",
       "      <td>0</td>\n",
       "      <td>NaN</td>\n",
       "      <td>NaN</td>\n",
       "      <td>NaN</td>\n",
       "      <td>0</td>\n",
       "      <td>4</td>\n",
       "      <td>2006</td>\n",
       "      <td>WD</td>\n",
       "      <td>Abnorml</td>\n",
       "    </tr>\n",
       "    <tr>\n",
       "      <th>2916</th>\n",
       "      <td>20</td>\n",
       "      <td>RL</td>\n",
       "      <td>160.0</td>\n",
       "      <td>20000</td>\n",
       "      <td>Pave</td>\n",
       "      <td>NaN</td>\n",
       "      <td>Reg</td>\n",
       "      <td>Lvl</td>\n",
       "      <td>AllPub</td>\n",
       "      <td>Inside</td>\n",
       "      <td>...</td>\n",
       "      <td>0</td>\n",
       "      <td>0</td>\n",
       "      <td>NaN</td>\n",
       "      <td>NaN</td>\n",
       "      <td>NaN</td>\n",
       "      <td>0</td>\n",
       "      <td>9</td>\n",
       "      <td>2006</td>\n",
       "      <td>WD</td>\n",
       "      <td>Abnorml</td>\n",
       "    </tr>\n",
       "    <tr>\n",
       "      <th>2917</th>\n",
       "      <td>85</td>\n",
       "      <td>RL</td>\n",
       "      <td>62.0</td>\n",
       "      <td>10441</td>\n",
       "      <td>Pave</td>\n",
       "      <td>NaN</td>\n",
       "      <td>Reg</td>\n",
       "      <td>Lvl</td>\n",
       "      <td>AllPub</td>\n",
       "      <td>Inside</td>\n",
       "      <td>...</td>\n",
       "      <td>0</td>\n",
       "      <td>0</td>\n",
       "      <td>NaN</td>\n",
       "      <td>MnPrv</td>\n",
       "      <td>Shed</td>\n",
       "      <td>700</td>\n",
       "      <td>7</td>\n",
       "      <td>2006</td>\n",
       "      <td>WD</td>\n",
       "      <td>Normal</td>\n",
       "    </tr>\n",
       "    <tr>\n",
       "      <th>2918</th>\n",
       "      <td>60</td>\n",
       "      <td>RL</td>\n",
       "      <td>74.0</td>\n",
       "      <td>9627</td>\n",
       "      <td>Pave</td>\n",
       "      <td>NaN</td>\n",
       "      <td>Reg</td>\n",
       "      <td>Lvl</td>\n",
       "      <td>AllPub</td>\n",
       "      <td>Inside</td>\n",
       "      <td>...</td>\n",
       "      <td>0</td>\n",
       "      <td>0</td>\n",
       "      <td>NaN</td>\n",
       "      <td>NaN</td>\n",
       "      <td>NaN</td>\n",
       "      <td>0</td>\n",
       "      <td>11</td>\n",
       "      <td>2006</td>\n",
       "      <td>WD</td>\n",
       "      <td>Normal</td>\n",
       "    </tr>\n",
       "  </tbody>\n",
       "</table>\n",
       "<p>2919 rows × 79 columns</p>\n",
       "</div>"
      ],
      "text/plain": [
       "      MSSubClass MSZoning  LotFrontage  LotArea Street Alley LotShape  \\\n",
       "0             60       RL         65.0     8450   Pave   NaN      Reg   \n",
       "1             20       RL         80.0     9600   Pave   NaN      Reg   \n",
       "2             60       RL         68.0    11250   Pave   NaN      IR1   \n",
       "3             70       RL         60.0     9550   Pave   NaN      IR1   \n",
       "4             60       RL         84.0    14260   Pave   NaN      IR1   \n",
       "...          ...      ...          ...      ...    ...   ...      ...   \n",
       "2914         160       RM         21.0     1936   Pave   NaN      Reg   \n",
       "2915         160       RM         21.0     1894   Pave   NaN      Reg   \n",
       "2916          20       RL        160.0    20000   Pave   NaN      Reg   \n",
       "2917          85       RL         62.0    10441   Pave   NaN      Reg   \n",
       "2918          60       RL         74.0     9627   Pave   NaN      Reg   \n",
       "\n",
       "     LandContour Utilities LotConfig  ... ScreenPorch PoolArea PoolQC  Fence  \\\n",
       "0            Lvl    AllPub    Inside  ...           0        0    NaN    NaN   \n",
       "1            Lvl    AllPub       FR2  ...           0        0    NaN    NaN   \n",
       "2            Lvl    AllPub    Inside  ...           0        0    NaN    NaN   \n",
       "3            Lvl    AllPub    Corner  ...           0        0    NaN    NaN   \n",
       "4            Lvl    AllPub       FR2  ...           0        0    NaN    NaN   \n",
       "...          ...       ...       ...  ...         ...      ...    ...    ...   \n",
       "2914         Lvl    AllPub    Inside  ...           0        0    NaN    NaN   \n",
       "2915         Lvl    AllPub    Inside  ...           0        0    NaN    NaN   \n",
       "2916         Lvl    AllPub    Inside  ...           0        0    NaN    NaN   \n",
       "2917         Lvl    AllPub    Inside  ...           0        0    NaN  MnPrv   \n",
       "2918         Lvl    AllPub    Inside  ...           0        0    NaN    NaN   \n",
       "\n",
       "     MiscFeature MiscVal  MoSold  YrSold  SaleType  SaleCondition  \n",
       "0            NaN       0       2    2008        WD         Normal  \n",
       "1            NaN       0       5    2007        WD         Normal  \n",
       "2            NaN       0       9    2008        WD         Normal  \n",
       "3            NaN       0       2    2006        WD        Abnorml  \n",
       "4            NaN       0      12    2008        WD         Normal  \n",
       "...          ...     ...     ...     ...       ...            ...  \n",
       "2914         NaN       0       6    2006        WD         Normal  \n",
       "2915         NaN       0       4    2006        WD        Abnorml  \n",
       "2916         NaN       0       9    2006        WD        Abnorml  \n",
       "2917        Shed     700       7    2006        WD         Normal  \n",
       "2918         NaN       0      11    2006        WD         Normal  \n",
       "\n",
       "[2919 rows x 79 columns]"
      ]
     },
     "execution_count": 5,
     "metadata": {},
     "output_type": "execute_result"
    }
   ],
   "source": [
    "trainLen=len(train)\n",
    "allData=pd.concat((train,test)).reset_index(drop=True)\n",
    "allData"
   ]
  },
  {
   "cell_type": "markdown",
   "metadata": {
    "papermill": {
     "duration": 0.05991,
     "end_time": "2020-09-11T07:11:06.056769",
     "exception": false,
     "start_time": "2020-09-11T07:11:05.996859",
     "status": "completed"
    },
    "tags": []
   },
   "source": [
    "We first want to find and get rid of NaN"
   ]
  },
  {
   "cell_type": "code",
   "execution_count": 6,
   "metadata": {
    "execution": {
     "iopub.execute_input": "2020-09-11T07:11:06.184398Z",
     "iopub.status.busy": "2020-09-11T07:11:06.183813Z",
     "iopub.status.idle": "2020-09-11T07:11:06.197183Z",
     "shell.execute_reply": "2020-09-11T07:11:06.197570Z"
    },
    "papermill": {
     "duration": 0.079242,
     "end_time": "2020-09-11T07:11:06.197703",
     "exception": false,
     "start_time": "2020-09-11T07:11:06.118461",
     "status": "completed"
    },
    "tags": []
   },
   "outputs": [
    {
     "data": {
      "text/plain": [
       "Index(['MSZoning', 'Street', 'Alley', 'LotShape', 'LandContour', 'Utilities',\n",
       "       'LotConfig', 'LandSlope', 'Neighborhood', 'Condition1', 'Condition2',\n",
       "       'BldgType', 'HouseStyle', 'RoofStyle', 'RoofMatl', 'Exterior1st',\n",
       "       'Exterior2nd', 'MasVnrType', 'ExterQual', 'ExterCond', 'Foundation',\n",
       "       'BsmtQual', 'BsmtCond', 'BsmtExposure', 'BsmtFinType1', 'BsmtFinType2',\n",
       "       'Heating', 'HeatingQC', 'CentralAir', 'Electrical', 'KitchenQual',\n",
       "       'Functional', 'FireplaceQu', 'GarageType', 'GarageFinish', 'GarageQual',\n",
       "       'GarageCond', 'PavedDrive', 'PoolQC', 'Fence', 'MiscFeature',\n",
       "       'SaleType', 'SaleCondition'],\n",
       "      dtype='object')"
      ]
     },
     "execution_count": 6,
     "metadata": {},
     "output_type": "execute_result"
    }
   ],
   "source": [
    "objCols = allData.select_dtypes(include=['object']).columns\n",
    "numCols =allData.select_dtypes(exclude=['object']).columns\n",
    "objCols"
   ]
  },
  {
   "cell_type": "code",
   "execution_count": 7,
   "metadata": {
    "execution": {
     "iopub.execute_input": "2020-09-11T07:11:06.322268Z",
     "iopub.status.busy": "2020-09-11T07:11:06.321668Z",
     "iopub.status.idle": "2020-09-11T07:11:06.327003Z",
     "shell.execute_reply": "2020-09-11T07:11:06.326555Z"
    },
    "papermill": {
     "duration": 0.06882,
     "end_time": "2020-09-11T07:11:06.327129",
     "exception": false,
     "start_time": "2020-09-11T07:11:06.258309",
     "status": "completed"
    },
    "tags": []
   },
   "outputs": [
    {
     "data": {
      "text/plain": [
       "Index(['MSSubClass', 'LotFrontage', 'LotArea', 'OverallQual', 'OverallCond',\n",
       "       'YearBuilt', 'YearRemodAdd', 'MasVnrArea', 'BsmtFinSF1', 'BsmtFinSF2',\n",
       "       'BsmtUnfSF', 'TotalBsmtSF', '1stFlrSF', '2ndFlrSF', 'LowQualFinSF',\n",
       "       'GrLivArea', 'BsmtFullBath', 'BsmtHalfBath', 'FullBath', 'HalfBath',\n",
       "       'BedroomAbvGr', 'KitchenAbvGr', 'TotRmsAbvGrd', 'Fireplaces',\n",
       "       'GarageYrBlt', 'GarageCars', 'GarageArea', 'WoodDeckSF', 'OpenPorchSF',\n",
       "       'EnclosedPorch', '3SsnPorch', 'ScreenPorch', 'PoolArea', 'MiscVal',\n",
       "       'MoSold', 'YrSold'],\n",
       "      dtype='object')"
      ]
     },
     "execution_count": 7,
     "metadata": {},
     "output_type": "execute_result"
    }
   ],
   "source": [
    "numCols"
   ]
  },
  {
   "cell_type": "code",
   "execution_count": 8,
   "metadata": {
    "execution": {
     "iopub.execute_input": "2020-09-11T07:11:06.457293Z",
     "iopub.status.busy": "2020-09-11T07:11:06.456426Z",
     "iopub.status.idle": "2020-09-11T07:11:06.461655Z",
     "shell.execute_reply": "2020-09-11T07:11:06.461179Z"
    },
    "papermill": {
     "duration": 0.071335,
     "end_time": "2020-09-11T07:11:06.461756",
     "exception": false,
     "start_time": "2020-09-11T07:11:06.390421",
     "status": "completed"
    },
    "tags": []
   },
   "outputs": [
    {
     "name": "stdout",
     "output_type": "stream",
     "text": [
      "len num:  36 \tlen num:  43\n"
     ]
    }
   ],
   "source": [
    "print(\"len num: \", len(numCols),\"\\tlen num: \", len(objCols))  #a+b=79   so check if we have all in a category"
   ]
  },
  {
   "cell_type": "code",
   "execution_count": 9,
   "metadata": {
    "execution": {
     "iopub.execute_input": "2020-09-11T07:11:06.608359Z",
     "iopub.status.busy": "2020-09-11T07:11:06.607766Z",
     "iopub.status.idle": "2020-09-11T07:11:06.613954Z",
     "shell.execute_reply": "2020-09-11T07:11:06.614377Z"
    },
    "papermill": {
     "duration": 0.091164,
     "end_time": "2020-09-11T07:11:06.614517",
     "exception": false,
     "start_time": "2020-09-11T07:11:06.523353",
     "status": "completed"
    },
    "tags": []
   },
   "outputs": [
    {
     "name": "stdout",
     "output_type": "stream",
     "text": [
      "['MSZoning', 'LotFrontage', 'Alley', 'Utilities', 'Exterior1st', 'Exterior2nd', 'MasVnrType', 'MasVnrArea', 'BsmtQual', 'BsmtCond', 'BsmtExposure', 'BsmtFinType1', 'BsmtFinSF1', 'BsmtFinType2', 'BsmtFinSF2', 'BsmtUnfSF', 'TotalBsmtSF', 'Electrical', 'BsmtFullBath', 'BsmtHalfBath', 'KitchenQual', 'Functional', 'FireplaceQu', 'GarageType', 'GarageYrBlt', 'GarageFinish', 'GarageCars', 'GarageArea', 'GarageQual', 'GarageCond', 'PoolQC', 'Fence', 'MiscFeature', 'SaleType']\n"
     ]
    }
   ],
   "source": [
    "nan=[col for col in allData.columns if allData[col].isnull().sum()>0] #List of Cols with nan\n",
    "print(nan)"
   ]
  },
  {
   "cell_type": "code",
   "execution_count": 10,
   "metadata": {
    "execution": {
     "iopub.execute_input": "2020-09-11T07:11:06.741778Z",
     "iopub.status.busy": "2020-09-11T07:11:06.741237Z",
     "iopub.status.idle": "2020-09-11T07:11:06.747356Z",
     "shell.execute_reply": "2020-09-11T07:11:06.746911Z"
    },
    "papermill": {
     "duration": 0.070408,
     "end_time": "2020-09-11T07:11:06.747458",
     "exception": false,
     "start_time": "2020-09-11T07:11:06.677050",
     "status": "completed"
    },
    "tags": []
   },
   "outputs": [
    {
     "name": "stdout",
     "output_type": "stream",
     "text": [
      "24 23\n"
     ]
    }
   ],
   "source": [
    "print(allData['MasVnrType'].isnull().sum(),allData[\"MasVnrArea\"].isnull().sum()) # =no type=> no area? =>no mas.."
   ]
  },
  {
   "cell_type": "code",
   "execution_count": 11,
   "metadata": {
    "execution": {
     "iopub.execute_input": "2020-09-11T07:11:06.876995Z",
     "iopub.status.busy": "2020-09-11T07:11:06.876427Z",
     "iopub.status.idle": "2020-09-11T07:11:06.879427Z",
     "shell.execute_reply": "2020-09-11T07:11:06.880000Z"
    },
    "papermill": {
     "duration": 0.070906,
     "end_time": "2020-09-11T07:11:06.880192",
     "exception": false,
     "start_time": "2020-09-11T07:11:06.809286",
     "status": "completed"
    },
    "tags": []
   },
   "outputs": [
    {
     "name": "stdout",
     "output_type": "stream",
     "text": [
      "157 159\n"
     ]
    }
   ],
   "source": [
    "print(allData['GarageType'].isnull().sum(),allData[\"GarageYrBlt\"].isnull().sum())  #similar => no garage=> no jear built"
   ]
  },
  {
   "cell_type": "code",
   "execution_count": 12,
   "metadata": {
    "execution": {
     "iopub.execute_input": "2020-09-11T07:11:07.009643Z",
     "iopub.status.busy": "2020-09-11T07:11:07.009100Z",
     "iopub.status.idle": "2020-09-11T07:11:07.015724Z",
     "shell.execute_reply": "2020-09-11T07:11:07.015252Z"
    },
    "papermill": {
     "duration": 0.072225,
     "end_time": "2020-09-11T07:11:07.015838",
     "exception": false,
     "start_time": "2020-09-11T07:11:06.943613",
     "status": "completed"
    },
    "tags": []
   },
   "outputs": [
    {
     "data": {
      "text/plain": [
       "1"
      ]
     },
     "execution_count": 12,
     "metadata": {},
     "output_type": "execute_result"
    }
   ],
   "source": [
    "allData['KitchenQual'].isnull().sum()  # 1 missing   maybe no kitchen"
   ]
  },
  {
   "cell_type": "code",
   "execution_count": 13,
   "metadata": {
    "execution": {
     "iopub.execute_input": "2020-09-11T07:11:07.144545Z",
     "iopub.status.busy": "2020-09-11T07:11:07.143872Z",
     "iopub.status.idle": "2020-09-11T07:11:07.157317Z",
     "shell.execute_reply": "2020-09-11T07:11:07.157860Z"
    },
    "papermill": {
     "duration": 0.079098,
     "end_time": "2020-09-11T07:11:07.158003",
     "exception": false,
     "start_time": "2020-09-11T07:11:07.078905",
     "status": "completed"
    },
    "tags": []
   },
   "outputs": [],
   "source": [
    "# a nan in fireplace. pool etc => no pool/fireplace etc.  Exterior2nd=Nan=probl just 1 material    no basement parameters=> probl no basement...\n",
    "# you can get information from the data_description.txt\n",
    "# these assumtions might be false sometime, but the results should be much better than dropping important cols like pool\n",
    "cat=[\"Fence\",\"PoolQC\", \"MiscFeature\", \"Alley\",'FireplaceQu', 'MasVnrType',\"Exterior2nd\", \"BsmtCond\",\"BsmtExposure\",\"BsmtFinType1\", \"BsmtFinType2\", \"KitchenQual\", \n",
    "   \"GarageType\", \"GarageFinish\", \"GarageQual\", 'GarageCond', \"BsmtQual\"]#fill with None\n",
    "num=[\"BsmtFinSF1\",\"MasVnrArea\",\"BsmtFinSF2\", \"BsmtUnfSF\", \"TotalBsmtSF\", \"BsmtFullBath\", \"BsmtHalfBath\", \"GarageYrBlt\", \"GarageCars\", \"GarageArea\", ] #fill with 0\n",
    "for i in cat:\n",
    "    allData[i].fillna(value=\"None\", inplace=True)\n",
    "for i in num:\n",
    "    allData[i].fillna(value=0, inplace=True)"
   ]
  },
  {
   "cell_type": "code",
   "execution_count": 14,
   "metadata": {
    "execution": {
     "iopub.execute_input": "2020-09-11T07:11:07.298231Z",
     "iopub.status.busy": "2020-09-11T07:11:07.297671Z",
     "iopub.status.idle": "2020-09-11T07:11:07.319061Z",
     "shell.execute_reply": "2020-09-11T07:11:07.319563Z"
    },
    "papermill": {
     "duration": 0.092787,
     "end_time": "2020-09-11T07:11:07.319702",
     "exception": false,
     "start_time": "2020-09-11T07:11:07.226915",
     "status": "completed"
    },
    "tags": []
   },
   "outputs": [
    {
     "name": "stdout",
     "output_type": "stream",
     "text": [
      "['MSZoning', 'LotFrontage', 'Utilities', 'Exterior1st', 'Electrical', 'Functional', 'SaleType']\n"
     ]
    }
   ],
   "source": [
    "nan=[col for col in allData.columns if allData[col].isnull().sum()>0] #List of Cols with nan   after filling in stuff\n",
    "print(nan) # these are the Parameters that you cant fill as easily(as far as i can see)"
   ]
  },
  {
   "cell_type": "code",
   "execution_count": 15,
   "metadata": {
    "execution": {
     "iopub.execute_input": "2020-09-11T07:11:07.493551Z",
     "iopub.status.busy": "2020-09-11T07:11:07.492954Z",
     "iopub.status.idle": "2020-09-11T07:11:07.502231Z",
     "shell.execute_reply": "2020-09-11T07:11:07.501602Z"
    },
    "papermill": {
     "duration": 0.074994,
     "end_time": "2020-09-11T07:11:07.502338",
     "exception": false,
     "start_time": "2020-09-11T07:11:07.427344",
     "status": "completed"
    },
    "tags": []
   },
   "outputs": [
    {
     "name": "stdout",
     "output_type": "stream",
     "text": [
      "4\n",
      "486\n",
      "2\n",
      "1\n",
      "1\n",
      "2\n",
      "1\n"
     ]
    }
   ],
   "source": [
    "for i in nan:\n",
    "    print(allData[i].isnull().sum())  # only LotFrontage has a lot of missing vals"
   ]
  },
  {
   "cell_type": "code",
   "execution_count": 16,
   "metadata": {
    "execution": {
     "iopub.execute_input": "2020-09-11T07:11:07.636265Z",
     "iopub.status.busy": "2020-09-11T07:11:07.635606Z",
     "iopub.status.idle": "2020-09-11T07:11:07.673422Z",
     "shell.execute_reply": "2020-09-11T07:11:07.672890Z"
    },
    "papermill": {
     "duration": 0.107675,
     "end_time": "2020-09-11T07:11:07.673529",
     "exception": false,
     "start_time": "2020-09-11T07:11:07.565854",
     "status": "completed"
    },
    "tags": []
   },
   "outputs": [],
   "source": [
    "tiny=['MSZoning', 'Utilities', 'Exterior1st', 'Electrical', 'Functional','SaleType']\n",
    "allData[tiny] = allData[tiny].fillna(allData.mode().iloc[0])  #fill cat with most common"
   ]
  },
  {
   "cell_type": "code",
   "execution_count": 17,
   "metadata": {
    "execution": {
     "iopub.execute_input": "2020-09-11T07:11:07.833513Z",
     "iopub.status.busy": "2020-09-11T07:11:07.832592Z",
     "iopub.status.idle": "2020-09-11T07:11:07.837018Z",
     "shell.execute_reply": "2020-09-11T07:11:07.836464Z"
    },
    "papermill": {
     "duration": 0.099507,
     "end_time": "2020-09-11T07:11:07.837137",
     "exception": false,
     "start_time": "2020-09-11T07:11:07.737630",
     "status": "completed"
    },
    "tags": []
   },
   "outputs": [
    {
     "data": {
      "text/plain": [
       "['LotFrontage']"
      ]
     },
     "execution_count": 17,
     "metadata": {},
     "output_type": "execute_result"
    }
   ],
   "source": [
    "nan=[col for col in allData.columns if allData[col].isnull().sum()>0] #List of Cols with nan   after filling in stuff\n",
    "nan # LotFrontage is numerical  = Linear feet of street connected to property\n",
    "#there are a lot of missing vals   I don't think this parametier is very Important to the price of a House but im not an expert"
   ]
  },
  {
   "cell_type": "code",
   "execution_count": 18,
   "metadata": {
    "execution": {
     "iopub.execute_input": "2020-09-11T07:11:07.976149Z",
     "iopub.status.busy": "2020-09-11T07:11:07.975510Z",
     "iopub.status.idle": "2020-09-11T07:11:07.978154Z",
     "shell.execute_reply": "2020-09-11T07:11:07.977695Z"
    },
    "papermill": {
     "duration": 0.074639,
     "end_time": "2020-09-11T07:11:07.978263",
     "exception": false,
     "start_time": "2020-09-11T07:11:07.903624",
     "status": "completed"
    },
    "tags": []
   },
   "outputs": [],
   "source": [
    "allData[\"LotFrontage\"] = allData[\"LotFrontage\"].fillna(allData[\"LotFrontage\"].mean())  #fill with mean"
   ]
  },
  {
   "cell_type": "markdown",
   "metadata": {
    "papermill": {
     "duration": 0.063932,
     "end_time": "2020-09-11T07:11:08.106574",
     "exception": false,
     "start_time": "2020-09-11T07:11:08.042642",
     "status": "completed"
    },
    "tags": []
   },
   "source": [
    "now that we have gotten rid of NaN we have to further prep the data"
   ]
  },
  {
   "cell_type": "code",
   "execution_count": 19,
   "metadata": {
    "execution": {
     "iopub.execute_input": "2020-09-11T07:11:08.239367Z",
     "iopub.status.busy": "2020-09-11T07:11:08.238799Z",
     "iopub.status.idle": "2020-09-11T07:11:08.241634Z",
     "shell.execute_reply": "2020-09-11T07:11:08.242160Z"
    },
    "papermill": {
     "duration": 0.071714,
     "end_time": "2020-09-11T07:11:08.242306",
     "exception": false,
     "start_time": "2020-09-11T07:11:08.170592",
     "status": "completed"
    },
    "tags": []
   },
   "outputs": [
    {
     "data": {
      "text/plain": [
       "Index(['MSSubClass', 'LotFrontage', 'LotArea', 'OverallQual', 'OverallCond',\n",
       "       'YearBuilt', 'YearRemodAdd', 'MasVnrArea', 'BsmtFinSF1', 'BsmtFinSF2',\n",
       "       'BsmtUnfSF', 'TotalBsmtSF', '1stFlrSF', '2ndFlrSF', 'LowQualFinSF',\n",
       "       'GrLivArea', 'BsmtFullBath', 'BsmtHalfBath', 'FullBath', 'HalfBath',\n",
       "       'BedroomAbvGr', 'KitchenAbvGr', 'TotRmsAbvGrd', 'Fireplaces',\n",
       "       'GarageYrBlt', 'GarageCars', 'GarageArea', 'WoodDeckSF', 'OpenPorchSF',\n",
       "       'EnclosedPorch', '3SsnPorch', 'ScreenPorch', 'PoolArea', 'MiscVal',\n",
       "       'MoSold', 'YrSold'],\n",
       "      dtype='object')"
      ]
     },
     "execution_count": 19,
     "metadata": {},
     "output_type": "execute_result"
    }
   ],
   "source": [
    "numCols"
   ]
  },
  {
   "cell_type": "markdown",
   "metadata": {
    "papermill": {
     "duration": 0.064083,
     "end_time": "2020-09-11T07:11:08.370951",
     "exception": false,
     "start_time": "2020-09-11T07:11:08.306868",
     "status": "completed"
    },
    "tags": []
   },
   "source": [
    "notes: <br>\n",
    "- Maybe we could change YrSold and similar parameters to sold x years ago, which could improve the performance, but I dont't know what time the data has been collected. I will use 2020 as the \"now\" time. \n",
    "- I decide not to combine month and year. Month on its own shows which season the sale took place which could have an impact."
   ]
  },
  {
   "cell_type": "code",
   "execution_count": 20,
   "metadata": {
    "execution": {
     "iopub.execute_input": "2020-09-11T07:11:08.502965Z",
     "iopub.status.busy": "2020-09-11T07:11:08.502419Z",
     "iopub.status.idle": "2020-09-11T07:11:08.529464Z",
     "shell.execute_reply": "2020-09-11T07:11:08.528929Z"
    },
    "papermill": {
     "duration": 0.094246,
     "end_time": "2020-09-11T07:11:08.529574",
     "exception": false,
     "start_time": "2020-09-11T07:11:08.435328",
     "status": "completed"
    },
    "tags": []
   },
   "outputs": [
    {
     "data": {
      "text/plain": [
       "0       12\n",
       "1       13\n",
       "2       12\n",
       "3       14\n",
       "4       12\n",
       "        ..\n",
       "2914    14\n",
       "2915    14\n",
       "2916    14\n",
       "2917    14\n",
       "2918    14\n",
       "Name: SoldYrAgo, Length: 2919, dtype: int64"
      ]
     },
     "execution_count": 20,
     "metadata": {},
     "output_type": "execute_result"
    }
   ],
   "source": [
    "# new cols, that might get insight/make it more obvious\n",
    "allData[\"SoldYrAgo\"]=2020-allData[\"YrSold\"]\n",
    "allData[\"GarageYrBltAgo\"]=2020-allData[\"GarageYrBlt\"]\n",
    "allData[\"BuiltAgo\"]=2020-allData[\"YearBuilt\"]\n",
    "allData[\"SoldYrAgo\"]"
   ]
  },
  {
   "cell_type": "code",
   "execution_count": 21,
   "metadata": {
    "execution": {
     "iopub.execute_input": "2020-09-11T07:11:08.669836Z",
     "iopub.status.busy": "2020-09-11T07:11:08.668934Z",
     "iopub.status.idle": "2020-09-11T07:11:08.673919Z",
     "shell.execute_reply": "2020-09-11T07:11:08.673142Z"
    },
    "papermill": {
     "duration": 0.079534,
     "end_time": "2020-09-11T07:11:08.674108",
     "exception": false,
     "start_time": "2020-09-11T07:11:08.594574",
     "status": "completed"
    },
    "tags": []
   },
   "outputs": [
    {
     "name": "stderr",
     "output_type": "stream",
     "text": [
      "/opt/conda/lib/python3.7/site-packages/ipykernel_launcher.py:3: SettingWithCopyWarning: \n",
      "A value is trying to be set on a copy of a slice from a DataFrame.\n",
      "Try using .loc[row_indexer,col_indexer] = value instead\n",
      "\n",
      "See the caveats in the documentation: https://pandas.pydata.org/pandas-docs/stable/user_guide/indexing.html#returning-a-view-versus-a-copy\n",
      "  This is separate from the ipykernel package so we can avoid doing imports until\n"
     ]
    }
   ],
   "source": [
    "#creating the data to plot with later   before scaling... happens\n",
    "plotdata=allData[:trainLen]\n",
    "plotdata[\"Saleprice\"]=trainY"
   ]
  },
  {
   "cell_type": "code",
   "execution_count": 22,
   "metadata": {
    "execution": {
     "iopub.execute_input": "2020-09-11T07:11:08.811189Z",
     "iopub.status.busy": "2020-09-11T07:11:08.810599Z",
     "iopub.status.idle": "2020-09-11T07:11:08.812561Z",
     "shell.execute_reply": "2020-09-11T07:11:08.813050Z"
    },
    "papermill": {
     "duration": 0.072062,
     "end_time": "2020-09-11T07:11:08.813199",
     "exception": false,
     "start_time": "2020-09-11T07:11:08.741137",
     "status": "completed"
    },
    "tags": []
   },
   "outputs": [],
   "source": [
    "#onehot cols that are not linear\n",
    "# i dont replace all categorical cols, because some should work fine in 1 col, i m looking at the data_description\n",
    "neededOneHot=[\"MSZoning\", \"MSSubClass\", \"LandContour\", \"Utilities\", \"LotConfig\", \"Neighborhood\", \"Condition1\", \"Condition2\", \"BldgType\", \"HouseStyle\", \"RoofStyle\", \n",
    "       \"RoofMatl\", \"Exterior1st\", \"Exterior2nd\", \"MasVnrType\", \"ExterCond\",  \"Foundation\",  \"Heating\", \"Electrical\", \"GarageType\", \"MiscFeature\",\n",
    "        \"SaleType\", \"SaleCondition\"]"
   ]
  },
  {
   "cell_type": "code",
   "execution_count": 23,
   "metadata": {
    "execution": {
     "iopub.execute_input": "2020-09-11T07:11:08.946770Z",
     "iopub.status.busy": "2020-09-11T07:11:08.946177Z",
     "iopub.status.idle": "2020-09-11T07:11:09.211594Z",
     "shell.execute_reply": "2020-09-11T07:11:09.210930Z"
    },
    "papermill": {
     "duration": 0.333383,
     "end_time": "2020-09-11T07:11:09.211706",
     "exception": false,
     "start_time": "2020-09-11T07:11:08.878323",
     "status": "completed"
    },
    "tags": []
   },
   "outputs": [],
   "source": [
    "enc = OneHotEncoder(handle_unknown='ignore')\n",
    "for col in neededOneHot:\n",
    "    allData=pd.concat([allData,pd.get_dummies(allData[col],prefix=col)], axis=1)\n",
    "    allData.drop([col],axis=1, inplace=True)"
   ]
  },
  {
   "cell_type": "code",
   "execution_count": 24,
   "metadata": {
    "execution": {
     "iopub.execute_input": "2020-09-11T07:11:09.346453Z",
     "iopub.status.busy": "2020-09-11T07:11:09.345829Z",
     "iopub.status.idle": "2020-09-11T07:11:09.349056Z",
     "shell.execute_reply": "2020-09-11T07:11:09.349541Z"
    },
    "papermill": {
     "duration": 0.072777,
     "end_time": "2020-09-11T07:11:09.349674",
     "exception": false,
     "start_time": "2020-09-11T07:11:09.276897",
     "status": "completed"
    },
    "tags": []
   },
   "outputs": [
    {
     "data": {
      "text/plain": [
       "(2919, 245)"
      ]
     },
     "execution_count": 24,
     "metadata": {},
     "output_type": "execute_result"
    }
   ],
   "source": [
    "allData.shape"
   ]
  },
  {
   "cell_type": "code",
   "execution_count": 25,
   "metadata": {
    "execution": {
     "iopub.execute_input": "2020-09-11T07:11:09.484264Z",
     "iopub.status.busy": "2020-09-11T07:11:09.483669Z",
     "iopub.status.idle": "2020-09-11T07:11:09.489822Z",
     "shell.execute_reply": "2020-09-11T07:11:09.489283Z"
    },
    "papermill": {
     "duration": 0.074336,
     "end_time": "2020-09-11T07:11:09.489919",
     "exception": false,
     "start_time": "2020-09-11T07:11:09.415583",
     "status": "completed"
    },
    "tags": []
   },
   "outputs": [
    {
     "data": {
      "text/plain": [
       "array(['Unf', 'BLQ', 'None', 'ALQ', 'Rec', 'LwQ', 'GLQ'], dtype=object)"
      ]
     },
     "execution_count": 25,
     "metadata": {},
     "output_type": "execute_result"
    }
   ],
   "source": [
    "allData.BsmtFinType2.unique()"
   ]
  },
  {
   "cell_type": "code",
   "execution_count": 26,
   "metadata": {
    "execution": {
     "iopub.execute_input": "2020-09-11T07:11:09.644560Z",
     "iopub.status.busy": "2020-09-11T07:11:09.643551Z",
     "iopub.status.idle": "2020-09-11T07:11:09.670204Z",
     "shell.execute_reply": "2020-09-11T07:11:09.669739Z"
    },
    "papermill": {
     "duration": 0.114463,
     "end_time": "2020-09-11T07:11:09.670313",
     "exception": false,
     "start_time": "2020-09-11T07:11:09.555850",
     "status": "completed"
    },
    "tags": []
   },
   "outputs": [],
   "source": [
    "# manually concerting \"quality\" parameters\n",
    "trans = {\"Grvl\": 0, \"Pave\": 1, \"None\": 2,}\n",
    "allData['Alley']= allData['Alley'].map(trans)\n",
    "\n",
    "trans = {\"Reg\": 0, \"IR1\": 1, \"IR2\": 2, \"IR3\": 3, \"None\": 4}\n",
    "allData['LotShape']= allData['LotShape'].map(trans)\n",
    "\n",
    "trans = {\"Gtl\": 0, \"Mod\": 1, \"Sev\": 2, \"None\": 3}\n",
    "allData['LandSlope']= allData['LandSlope'].map(trans)\n",
    "\n",
    "trans = {\"Ex\": 0, \"Gd\": 1, \"TA\": 2, \"Fa\": 3, \"Po\": 4, \"None\": 5}\n",
    "allData['ExterQual']= allData['ExterQual'].map(trans)\n",
    "\n",
    "trans = {\"Ex\": 0, \"Gd\": 1, \"TA\": 2, \"Fa\": 3, \"Po\": 4,  \"None\": 5}\n",
    "allData['BsmtQual']= allData['BsmtQual'].map(trans)\n",
    "\n",
    "trans = {\"Ex\": 0, \"Gd\": 1, \"TA\": 2, \"Fa\": 3, \"Po\": 4,  \"None\": 5}\n",
    "allData['BsmtCond']= allData['BsmtCond'].map(trans)\n",
    "\n",
    "trans = { \"Gd\": 1, \"Av\": 2, \"Mn\": 3, \"No\": 4,  \"None\": 5}\n",
    "allData['BsmtExposure']= allData['BsmtExposure'].map(trans)\n",
    "\n",
    "trans = {\"GLQ\": 0, \"ALQ\": 1, \"BLQ\": 2, \"Rec\": 3, \"LwQ\": 4,  \"Unf\": 5, \"None\": 6}\n",
    "allData['BsmtFinType1']= allData['BsmtFinType1'].map(trans)\n",
    "\n",
    "trans = {\"GLQ\": 0, \"ALQ\": 1, \"BLQ\": 2, \"Rec\": 3, \"LwQ\": 4,  \"Unf\": 5, \"None\": 6}\n",
    "allData['BsmtFinType2']= allData['BsmtFinType2'].map(trans)\n",
    "\n",
    "trans = {\"Ex\": 0, \"Gd\": 1, \"TA\": 2, \"Fa\": 3, \"Po\": 4, \"None\": 5}\n",
    "allData['HeatingQC']= allData['HeatingQC'].map(trans)\n",
    "\n",
    "trans = {\"Ex\": 0, \"Gd\": 1, \"TA\": 2, \"Fa\": 3, \"Po\": 4, \"None\": 5}\n",
    "allData['KitchenQual']= allData['KitchenQual'].map(trans)\n",
    "\n",
    "trans = {\"Typ\": 0, \"Min1\": 1, \"Min2\": 2, \"Mod\": 3, \"Maj1\": 4,  \"Maj2\": 5,\"Sev\": 6,\"Sal\": 7, \"None\": 8}\n",
    "allData['Functional']= allData['Functional'].map(trans)\n",
    "\n",
    "trans = {\"Ex\": 0, \"Gd\": 1, \"TA\": 2, \"Fa\": 3, \"Po\": 4, \"None\": 5}\n",
    "allData['FireplaceQu']= allData['FireplaceQu'].map(trans)\n",
    "\n",
    "trans = {\"Fin\": 0, \"RFn\": 1, \"Unf\": 2,  \"None\": 3}\n",
    "allData['GarageFinish']= allData['GarageFinish'].map(trans)\n",
    "\n",
    "trans = {\"Ex\": 0, \"Gd\": 1, \"TA\": 2, \"Fa\": 3, \"Po\": 4, \"None\": 5}\n",
    "allData['GarageQual']= allData['GarageQual'].map(trans)\n",
    "\n",
    "trans = {\"Ex\": 0, \"Gd\": 1, \"TA\": 2, \"Fa\": 3, \"Po\": 4, \"None\": 5}\n",
    "allData['GarageCond']= allData['GarageCond'].map(trans)\n",
    "\n",
    "trans = {\"Ex\": 0, \"Gd\": 1, \"TA\": 2, \"Fa\": 3, \"Po\": 4, \"None\": 5}\n",
    "allData['PoolQC']= allData['PoolQC'].map(trans)\n",
    "\n",
    "trans = {\"GdPrv\": 0, \"MnPrv\": 1, \"GdWo\": 2, \"MnWw\": 3,  \"None\": 5}\n",
    "allData['Fence']= allData['Fence'].map(trans)"
   ]
  },
  {
   "cell_type": "code",
   "execution_count": 27,
   "metadata": {
    "execution": {
     "iopub.execute_input": "2020-09-11T07:11:09.810618Z",
     "iopub.status.busy": "2020-09-11T07:11:09.809707Z",
     "iopub.status.idle": "2020-09-11T07:11:09.819893Z",
     "shell.execute_reply": "2020-09-11T07:11:09.819202Z"
    },
    "papermill": {
     "duration": 0.08303,
     "end_time": "2020-09-11T07:11:09.820034",
     "exception": false,
     "start_time": "2020-09-11T07:11:09.737004",
     "status": "completed"
    },
    "tags": []
   },
   "outputs": [
    {
     "name": "stdout",
     "output_type": "stream",
     "text": [
      "[0    Pave\n",
      "1    Pave\n",
      "2    Pave\n",
      "3    Pave\n",
      "4    Pave\n",
      "Name: Street, dtype: object, 0    Y\n",
      "1    Y\n",
      "2    Y\n",
      "3    Y\n",
      "4    Y\n",
      "Name: CentralAir, dtype: object, 0    Y\n",
      "1    Y\n",
      "2    Y\n",
      "3    Y\n",
      "4    Y\n",
      "Name: PavedDrive, dtype: object]\n"
     ]
    }
   ],
   "source": [
    "#redo after onehot etc\n",
    "objCols = allData.select_dtypes(include=['object']).columns\n",
    "numCols =allData.select_dtypes(exclude=['object']).columns\n",
    "l=[]\n",
    "for i in objCols: #showing cat data example\n",
    "    l.append(allData[i][0:5])\n",
    "print(l)"
   ]
  },
  {
   "cell_type": "code",
   "execution_count": 28,
   "metadata": {
    "execution": {
     "iopub.execute_input": "2020-09-11T07:11:09.959148Z",
     "iopub.status.busy": "2020-09-11T07:11:09.957911Z",
     "iopub.status.idle": "2020-09-11T07:11:09.973784Z",
     "shell.execute_reply": "2020-09-11T07:11:09.974513Z"
    },
    "papermill": {
     "duration": 0.087512,
     "end_time": "2020-09-11T07:11:09.974708",
     "exception": false,
     "start_time": "2020-09-11T07:11:09.887196",
     "status": "completed"
    },
    "tags": []
   },
   "outputs": [
    {
     "name": "stdout",
     "output_type": "stream",
     "text": [
      "[0    1\n",
      "1    1\n",
      "2    1\n",
      "3    1\n",
      "4    1\n",
      "Name: Street, dtype: int8, 0    1\n",
      "1    1\n",
      "2    1\n",
      "3    1\n",
      "4    1\n",
      "Name: CentralAir, dtype: int8, 0    2\n",
      "1    2\n",
      "2    2\n",
      "3    2\n",
      "4    2\n",
      "Name: PavedDrive, dtype: int8]\n"
     ]
    }
   ],
   "source": [
    "#changing cat. data to num\n",
    "for i in objCols:\n",
    "    allData[i]= allData[i].astype('category').cat.codes\n",
    "\n",
    "l=[]\n",
    "for i in objCols: #showing they changed to num\n",
    "    l.append(allData[i][0:5])\n",
    "print(l)   "
   ]
  },
  {
   "cell_type": "code",
   "execution_count": 29,
   "metadata": {
    "execution": {
     "iopub.execute_input": "2020-09-11T07:11:10.148038Z",
     "iopub.status.busy": "2020-09-11T07:11:10.147443Z",
     "iopub.status.idle": "2020-09-11T07:11:10.156424Z",
     "shell.execute_reply": "2020-09-11T07:11:10.156912Z"
    },
    "papermill": {
     "duration": 0.085249,
     "end_time": "2020-09-11T07:11:10.157054",
     "exception": false,
     "start_time": "2020-09-11T07:11:10.071805",
     "status": "completed"
    },
    "tags": []
   },
   "outputs": [],
   "source": [
    "#drop the cols we have twice\n",
    "allData.drop(\"YrSold\", axis=1, inplace=True)\n",
    "allData.drop(\"GarageYrBltAgo\", axis=1, inplace=True)\n",
    "allData.drop(\"BuiltAgo\", axis=1, inplace=True)"
   ]
  },
  {
   "cell_type": "code",
   "execution_count": 30,
   "metadata": {
    "execution": {
     "iopub.execute_input": "2020-09-11T07:11:10.309331Z",
     "iopub.status.busy": "2020-09-11T07:11:10.308763Z",
     "iopub.status.idle": "2020-09-11T07:11:10.313342Z",
     "shell.execute_reply": "2020-09-11T07:11:10.313724Z"
    },
    "papermill": {
     "duration": 0.080118,
     "end_time": "2020-09-11T07:11:10.313854",
     "exception": false,
     "start_time": "2020-09-11T07:11:10.233736",
     "status": "completed"
    },
    "tags": []
   },
   "outputs": [
    {
     "data": {
      "text/plain": [
       "(2919, 242)"
      ]
     },
     "execution_count": 30,
     "metadata": {},
     "output_type": "execute_result"
    }
   ],
   "source": [
    "allData.shape #the shape stays the same"
   ]
  },
  {
   "cell_type": "code",
   "execution_count": 31,
   "metadata": {
    "execution": {
     "iopub.execute_input": "2020-09-11T07:11:10.451315Z",
     "iopub.status.busy": "2020-09-11T07:11:10.450763Z",
     "iopub.status.idle": "2020-09-11T07:11:10.581299Z",
     "shell.execute_reply": "2020-09-11T07:11:10.580753Z"
    },
    "papermill": {
     "duration": 0.19991,
     "end_time": "2020-09-11T07:11:10.581420",
     "exception": false,
     "start_time": "2020-09-11T07:11:10.381510",
     "status": "completed"
    },
    "tags": []
   },
   "outputs": [],
   "source": [
    "scaler = MinMaxScaler()\n",
    "for col in allData.columns:\n",
    "    allData[col] = scaler.fit_transform(allData[col].values.reshape(-1,1))"
   ]
  },
  {
   "cell_type": "code",
   "execution_count": 32,
   "metadata": {
    "execution": {
     "iopub.execute_input": "2020-09-11T07:11:10.740238Z",
     "iopub.status.busy": "2020-09-11T07:11:10.739624Z",
     "iopub.status.idle": "2020-09-11T07:11:10.767632Z",
     "shell.execute_reply": "2020-09-11T07:11:10.768047Z"
    },
    "papermill": {
     "duration": 0.104775,
     "end_time": "2020-09-11T07:11:10.768234",
     "exception": false,
     "start_time": "2020-09-11T07:11:10.663459",
     "status": "completed"
    },
    "tags": []
   },
   "outputs": [
    {
     "data": {
      "text/html": [
       "<div>\n",
       "<style scoped>\n",
       "    .dataframe tbody tr th:only-of-type {\n",
       "        vertical-align: middle;\n",
       "    }\n",
       "\n",
       "    .dataframe tbody tr th {\n",
       "        vertical-align: top;\n",
       "    }\n",
       "\n",
       "    .dataframe thead th {\n",
       "        text-align: right;\n",
       "    }\n",
       "</style>\n",
       "<table border=\"1\" class=\"dataframe\">\n",
       "  <thead>\n",
       "    <tr style=\"text-align: right;\">\n",
       "      <th></th>\n",
       "      <th>LotFrontage</th>\n",
       "      <th>LotArea</th>\n",
       "      <th>Street</th>\n",
       "      <th>Alley</th>\n",
       "      <th>LotShape</th>\n",
       "      <th>LandSlope</th>\n",
       "      <th>OverallQual</th>\n",
       "      <th>OverallCond</th>\n",
       "      <th>YearBuilt</th>\n",
       "      <th>YearRemodAdd</th>\n",
       "      <th>...</th>\n",
       "      <th>SaleType_ConLw</th>\n",
       "      <th>SaleType_New</th>\n",
       "      <th>SaleType_Oth</th>\n",
       "      <th>SaleType_WD</th>\n",
       "      <th>SaleCondition_Abnorml</th>\n",
       "      <th>SaleCondition_AdjLand</th>\n",
       "      <th>SaleCondition_Alloca</th>\n",
       "      <th>SaleCondition_Family</th>\n",
       "      <th>SaleCondition_Normal</th>\n",
       "      <th>SaleCondition_Partial</th>\n",
       "    </tr>\n",
       "  </thead>\n",
       "  <tbody>\n",
       "    <tr>\n",
       "      <th>0</th>\n",
       "      <td>0.150685</td>\n",
       "      <td>0.033420</td>\n",
       "      <td>1.0</td>\n",
       "      <td>1.0</td>\n",
       "      <td>0.000000</td>\n",
       "      <td>0.0</td>\n",
       "      <td>0.666667</td>\n",
       "      <td>0.500</td>\n",
       "      <td>0.949275</td>\n",
       "      <td>0.883333</td>\n",
       "      <td>...</td>\n",
       "      <td>0.0</td>\n",
       "      <td>0.0</td>\n",
       "      <td>0.0</td>\n",
       "      <td>1.0</td>\n",
       "      <td>0.0</td>\n",
       "      <td>0.0</td>\n",
       "      <td>0.0</td>\n",
       "      <td>0.0</td>\n",
       "      <td>1.0</td>\n",
       "      <td>0.0</td>\n",
       "    </tr>\n",
       "    <tr>\n",
       "      <th>1</th>\n",
       "      <td>0.202055</td>\n",
       "      <td>0.038795</td>\n",
       "      <td>1.0</td>\n",
       "      <td>1.0</td>\n",
       "      <td>0.000000</td>\n",
       "      <td>0.0</td>\n",
       "      <td>0.555556</td>\n",
       "      <td>0.875</td>\n",
       "      <td>0.753623</td>\n",
       "      <td>0.433333</td>\n",
       "      <td>...</td>\n",
       "      <td>0.0</td>\n",
       "      <td>0.0</td>\n",
       "      <td>0.0</td>\n",
       "      <td>1.0</td>\n",
       "      <td>0.0</td>\n",
       "      <td>0.0</td>\n",
       "      <td>0.0</td>\n",
       "      <td>0.0</td>\n",
       "      <td>1.0</td>\n",
       "      <td>0.0</td>\n",
       "    </tr>\n",
       "    <tr>\n",
       "      <th>2</th>\n",
       "      <td>0.160959</td>\n",
       "      <td>0.046507</td>\n",
       "      <td>1.0</td>\n",
       "      <td>1.0</td>\n",
       "      <td>0.333333</td>\n",
       "      <td>0.0</td>\n",
       "      <td>0.666667</td>\n",
       "      <td>0.500</td>\n",
       "      <td>0.934783</td>\n",
       "      <td>0.866667</td>\n",
       "      <td>...</td>\n",
       "      <td>0.0</td>\n",
       "      <td>0.0</td>\n",
       "      <td>0.0</td>\n",
       "      <td>1.0</td>\n",
       "      <td>0.0</td>\n",
       "      <td>0.0</td>\n",
       "      <td>0.0</td>\n",
       "      <td>0.0</td>\n",
       "      <td>1.0</td>\n",
       "      <td>0.0</td>\n",
       "    </tr>\n",
       "    <tr>\n",
       "      <th>3</th>\n",
       "      <td>0.133562</td>\n",
       "      <td>0.038561</td>\n",
       "      <td>1.0</td>\n",
       "      <td>1.0</td>\n",
       "      <td>0.333333</td>\n",
       "      <td>0.0</td>\n",
       "      <td>0.666667</td>\n",
       "      <td>0.500</td>\n",
       "      <td>0.311594</td>\n",
       "      <td>0.333333</td>\n",
       "      <td>...</td>\n",
       "      <td>0.0</td>\n",
       "      <td>0.0</td>\n",
       "      <td>0.0</td>\n",
       "      <td>1.0</td>\n",
       "      <td>1.0</td>\n",
       "      <td>0.0</td>\n",
       "      <td>0.0</td>\n",
       "      <td>0.0</td>\n",
       "      <td>0.0</td>\n",
       "      <td>0.0</td>\n",
       "    </tr>\n",
       "    <tr>\n",
       "      <th>4</th>\n",
       "      <td>0.215753</td>\n",
       "      <td>0.060576</td>\n",
       "      <td>1.0</td>\n",
       "      <td>1.0</td>\n",
       "      <td>0.333333</td>\n",
       "      <td>0.0</td>\n",
       "      <td>0.777778</td>\n",
       "      <td>0.500</td>\n",
       "      <td>0.927536</td>\n",
       "      <td>0.833333</td>\n",
       "      <td>...</td>\n",
       "      <td>0.0</td>\n",
       "      <td>0.0</td>\n",
       "      <td>0.0</td>\n",
       "      <td>1.0</td>\n",
       "      <td>0.0</td>\n",
       "      <td>0.0</td>\n",
       "      <td>0.0</td>\n",
       "      <td>0.0</td>\n",
       "      <td>1.0</td>\n",
       "      <td>0.0</td>\n",
       "    </tr>\n",
       "    <tr>\n",
       "      <th>...</th>\n",
       "      <td>...</td>\n",
       "      <td>...</td>\n",
       "      <td>...</td>\n",
       "      <td>...</td>\n",
       "      <td>...</td>\n",
       "      <td>...</td>\n",
       "      <td>...</td>\n",
       "      <td>...</td>\n",
       "      <td>...</td>\n",
       "      <td>...</td>\n",
       "      <td>...</td>\n",
       "      <td>...</td>\n",
       "      <td>...</td>\n",
       "      <td>...</td>\n",
       "      <td>...</td>\n",
       "      <td>...</td>\n",
       "      <td>...</td>\n",
       "      <td>...</td>\n",
       "      <td>...</td>\n",
       "      <td>...</td>\n",
       "      <td>...</td>\n",
       "    </tr>\n",
       "    <tr>\n",
       "      <th>2914</th>\n",
       "      <td>0.000000</td>\n",
       "      <td>0.002973</td>\n",
       "      <td>1.0</td>\n",
       "      <td>1.0</td>\n",
       "      <td>0.000000</td>\n",
       "      <td>0.0</td>\n",
       "      <td>0.333333</td>\n",
       "      <td>0.750</td>\n",
       "      <td>0.710145</td>\n",
       "      <td>0.333333</td>\n",
       "      <td>...</td>\n",
       "      <td>0.0</td>\n",
       "      <td>0.0</td>\n",
       "      <td>0.0</td>\n",
       "      <td>1.0</td>\n",
       "      <td>0.0</td>\n",
       "      <td>0.0</td>\n",
       "      <td>0.0</td>\n",
       "      <td>0.0</td>\n",
       "      <td>1.0</td>\n",
       "      <td>0.0</td>\n",
       "    </tr>\n",
       "    <tr>\n",
       "      <th>2915</th>\n",
       "      <td>0.000000</td>\n",
       "      <td>0.002776</td>\n",
       "      <td>1.0</td>\n",
       "      <td>1.0</td>\n",
       "      <td>0.000000</td>\n",
       "      <td>0.0</td>\n",
       "      <td>0.333333</td>\n",
       "      <td>0.500</td>\n",
       "      <td>0.710145</td>\n",
       "      <td>0.333333</td>\n",
       "      <td>...</td>\n",
       "      <td>0.0</td>\n",
       "      <td>0.0</td>\n",
       "      <td>0.0</td>\n",
       "      <td>1.0</td>\n",
       "      <td>1.0</td>\n",
       "      <td>0.0</td>\n",
       "      <td>0.0</td>\n",
       "      <td>0.0</td>\n",
       "      <td>0.0</td>\n",
       "      <td>0.0</td>\n",
       "    </tr>\n",
       "    <tr>\n",
       "      <th>2916</th>\n",
       "      <td>0.476027</td>\n",
       "      <td>0.087406</td>\n",
       "      <td>1.0</td>\n",
       "      <td>1.0</td>\n",
       "      <td>0.000000</td>\n",
       "      <td>0.0</td>\n",
       "      <td>0.444444</td>\n",
       "      <td>0.750</td>\n",
       "      <td>0.637681</td>\n",
       "      <td>0.766667</td>\n",
       "      <td>...</td>\n",
       "      <td>0.0</td>\n",
       "      <td>0.0</td>\n",
       "      <td>0.0</td>\n",
       "      <td>1.0</td>\n",
       "      <td>1.0</td>\n",
       "      <td>0.0</td>\n",
       "      <td>0.0</td>\n",
       "      <td>0.0</td>\n",
       "      <td>0.0</td>\n",
       "      <td>0.0</td>\n",
       "    </tr>\n",
       "    <tr>\n",
       "      <th>2917</th>\n",
       "      <td>0.140411</td>\n",
       "      <td>0.042726</td>\n",
       "      <td>1.0</td>\n",
       "      <td>1.0</td>\n",
       "      <td>0.000000</td>\n",
       "      <td>0.0</td>\n",
       "      <td>0.444444</td>\n",
       "      <td>0.500</td>\n",
       "      <td>0.869565</td>\n",
       "      <td>0.700000</td>\n",
       "      <td>...</td>\n",
       "      <td>0.0</td>\n",
       "      <td>0.0</td>\n",
       "      <td>0.0</td>\n",
       "      <td>1.0</td>\n",
       "      <td>0.0</td>\n",
       "      <td>0.0</td>\n",
       "      <td>0.0</td>\n",
       "      <td>0.0</td>\n",
       "      <td>1.0</td>\n",
       "      <td>0.0</td>\n",
       "    </tr>\n",
       "    <tr>\n",
       "      <th>2918</th>\n",
       "      <td>0.181507</td>\n",
       "      <td>0.038921</td>\n",
       "      <td>1.0</td>\n",
       "      <td>1.0</td>\n",
       "      <td>0.000000</td>\n",
       "      <td>0.5</td>\n",
       "      <td>0.666667</td>\n",
       "      <td>0.500</td>\n",
       "      <td>0.876812</td>\n",
       "      <td>0.733333</td>\n",
       "      <td>...</td>\n",
       "      <td>0.0</td>\n",
       "      <td>0.0</td>\n",
       "      <td>0.0</td>\n",
       "      <td>1.0</td>\n",
       "      <td>0.0</td>\n",
       "      <td>0.0</td>\n",
       "      <td>0.0</td>\n",
       "      <td>0.0</td>\n",
       "      <td>1.0</td>\n",
       "      <td>0.0</td>\n",
       "    </tr>\n",
       "  </tbody>\n",
       "</table>\n",
       "<p>2919 rows × 242 columns</p>\n",
       "</div>"
      ],
      "text/plain": [
       "      LotFrontage   LotArea  Street  Alley  LotShape  LandSlope  OverallQual  \\\n",
       "0        0.150685  0.033420     1.0    1.0  0.000000        0.0     0.666667   \n",
       "1        0.202055  0.038795     1.0    1.0  0.000000        0.0     0.555556   \n",
       "2        0.160959  0.046507     1.0    1.0  0.333333        0.0     0.666667   \n",
       "3        0.133562  0.038561     1.0    1.0  0.333333        0.0     0.666667   \n",
       "4        0.215753  0.060576     1.0    1.0  0.333333        0.0     0.777778   \n",
       "...           ...       ...     ...    ...       ...        ...          ...   \n",
       "2914     0.000000  0.002973     1.0    1.0  0.000000        0.0     0.333333   \n",
       "2915     0.000000  0.002776     1.0    1.0  0.000000        0.0     0.333333   \n",
       "2916     0.476027  0.087406     1.0    1.0  0.000000        0.0     0.444444   \n",
       "2917     0.140411  0.042726     1.0    1.0  0.000000        0.0     0.444444   \n",
       "2918     0.181507  0.038921     1.0    1.0  0.000000        0.5     0.666667   \n",
       "\n",
       "      OverallCond  YearBuilt  YearRemodAdd  ...  SaleType_ConLw  SaleType_New  \\\n",
       "0           0.500   0.949275      0.883333  ...             0.0           0.0   \n",
       "1           0.875   0.753623      0.433333  ...             0.0           0.0   \n",
       "2           0.500   0.934783      0.866667  ...             0.0           0.0   \n",
       "3           0.500   0.311594      0.333333  ...             0.0           0.0   \n",
       "4           0.500   0.927536      0.833333  ...             0.0           0.0   \n",
       "...           ...        ...           ...  ...             ...           ...   \n",
       "2914        0.750   0.710145      0.333333  ...             0.0           0.0   \n",
       "2915        0.500   0.710145      0.333333  ...             0.0           0.0   \n",
       "2916        0.750   0.637681      0.766667  ...             0.0           0.0   \n",
       "2917        0.500   0.869565      0.700000  ...             0.0           0.0   \n",
       "2918        0.500   0.876812      0.733333  ...             0.0           0.0   \n",
       "\n",
       "      SaleType_Oth  SaleType_WD  SaleCondition_Abnorml  SaleCondition_AdjLand  \\\n",
       "0              0.0          1.0                    0.0                    0.0   \n",
       "1              0.0          1.0                    0.0                    0.0   \n",
       "2              0.0          1.0                    0.0                    0.0   \n",
       "3              0.0          1.0                    1.0                    0.0   \n",
       "4              0.0          1.0                    0.0                    0.0   \n",
       "...            ...          ...                    ...                    ...   \n",
       "2914           0.0          1.0                    0.0                    0.0   \n",
       "2915           0.0          1.0                    1.0                    0.0   \n",
       "2916           0.0          1.0                    1.0                    0.0   \n",
       "2917           0.0          1.0                    0.0                    0.0   \n",
       "2918           0.0          1.0                    0.0                    0.0   \n",
       "\n",
       "      SaleCondition_Alloca  SaleCondition_Family  SaleCondition_Normal  \\\n",
       "0                      0.0                   0.0                   1.0   \n",
       "1                      0.0                   0.0                   1.0   \n",
       "2                      0.0                   0.0                   1.0   \n",
       "3                      0.0                   0.0                   0.0   \n",
       "4                      0.0                   0.0                   1.0   \n",
       "...                    ...                   ...                   ...   \n",
       "2914                   0.0                   0.0                   1.0   \n",
       "2915                   0.0                   0.0                   0.0   \n",
       "2916                   0.0                   0.0                   0.0   \n",
       "2917                   0.0                   0.0                   1.0   \n",
       "2918                   0.0                   0.0                   1.0   \n",
       "\n",
       "      SaleCondition_Partial  \n",
       "0                       0.0  \n",
       "1                       0.0  \n",
       "2                       0.0  \n",
       "3                       0.0  \n",
       "4                       0.0  \n",
       "...                     ...  \n",
       "2914                    0.0  \n",
       "2915                    0.0  \n",
       "2916                    0.0  \n",
       "2917                    0.0  \n",
       "2918                    0.0  \n",
       "\n",
       "[2919 rows x 242 columns]"
      ]
     },
     "execution_count": 32,
     "metadata": {},
     "output_type": "execute_result"
    }
   ],
   "source": [
    "allData"
   ]
  },
  {
   "cell_type": "markdown",
   "metadata": {
    "papermill": {
     "duration": 0.076168,
     "end_time": "2020-09-11T07:11:10.915137",
     "exception": false,
     "start_time": "2020-09-11T07:11:10.838969",
     "status": "completed"
    },
    "tags": []
   },
   "source": [
    "notes:\n",
    "I don't think I should remove any col."
   ]
  },
  {
   "cell_type": "code",
   "execution_count": 33,
   "metadata": {
    "execution": {
     "iopub.execute_input": "2020-09-11T07:11:11.054165Z",
     "iopub.status.busy": "2020-09-11T07:11:11.053628Z",
     "iopub.status.idle": "2020-09-11T07:11:11.058972Z",
     "shell.execute_reply": "2020-09-11T07:11:11.059501Z"
    },
    "papermill": {
     "duration": 0.076162,
     "end_time": "2020-09-11T07:11:11.059660",
     "exception": false,
     "start_time": "2020-09-11T07:11:10.983498",
     "status": "completed"
    },
    "tags": []
   },
   "outputs": [
    {
     "data": {
      "text/plain": [
       "Id\n",
       "1       208500\n",
       "2       181500\n",
       "3       223500\n",
       "4       140000\n",
       "5       250000\n",
       "         ...  \n",
       "1456    175000\n",
       "1457    210000\n",
       "1458    266500\n",
       "1459    142125\n",
       "1460    147500\n",
       "Name: SalePrice, Length: 1460, dtype: int64"
      ]
     },
     "execution_count": 33,
     "metadata": {},
     "output_type": "execute_result"
    }
   ],
   "source": [
    "trainY"
   ]
  },
  {
   "cell_type": "code",
   "execution_count": 34,
   "metadata": {
    "execution": {
     "iopub.execute_input": "2020-09-11T07:11:11.199900Z",
     "iopub.status.busy": "2020-09-11T07:11:11.199037Z",
     "iopub.status.idle": "2020-09-11T07:11:11.202803Z",
     "shell.execute_reply": "2020-09-11T07:11:11.203199Z"
    },
    "papermill": {
     "duration": 0.075286,
     "end_time": "2020-09-11T07:11:11.203328",
     "exception": false,
     "start_time": "2020-09-11T07:11:11.128042",
     "status": "completed"
    },
    "tags": []
   },
   "outputs": [],
   "source": [
    "# log of saleprice as new saleprice\n",
    "trainY=np.log1p(trainY)"
   ]
  },
  {
   "cell_type": "code",
   "execution_count": 35,
   "metadata": {
    "execution": {
     "iopub.execute_input": "2020-09-11T07:11:11.343329Z",
     "iopub.status.busy": "2020-09-11T07:11:11.342473Z",
     "iopub.status.idle": "2020-09-11T07:11:11.349462Z",
     "shell.execute_reply": "2020-09-11T07:11:11.348952Z"
    },
    "papermill": {
     "duration": 0.078248,
     "end_time": "2020-09-11T07:11:11.349567",
     "exception": false,
     "start_time": "2020-09-11T07:11:11.271319",
     "status": "completed"
    },
    "tags": []
   },
   "outputs": [
    {
     "data": {
      "text/plain": [
       "Id\n",
       "1       12.247699\n",
       "2       12.109016\n",
       "3       12.317171\n",
       "4       11.849405\n",
       "5       12.429220\n",
       "          ...    \n",
       "1456    12.072547\n",
       "1457    12.254868\n",
       "1458    12.493133\n",
       "1459    11.864469\n",
       "1460    11.901590\n",
       "Name: SalePrice, Length: 1460, dtype: float64"
      ]
     },
     "execution_count": 35,
     "metadata": {},
     "output_type": "execute_result"
    }
   ],
   "source": [
    "trainY"
   ]
  },
  {
   "cell_type": "markdown",
   "metadata": {
    "papermill": {
     "duration": 0.068166,
     "end_time": "2020-09-11T07:11:11.485893",
     "exception": false,
     "start_time": "2020-09-11T07:11:11.417727",
     "status": "completed"
    },
    "tags": []
   },
   "source": [
    "# Plot\n",
    "I don't know what I want to plot as the nr. of cols is overwhelming and I don't know much about House-Prices. I will edit the data if I see it is needed in here."
   ]
  },
  {
   "cell_type": "code",
   "execution_count": 36,
   "metadata": {
    "execution": {
     "iopub.execute_input": "2020-09-11T07:11:11.627703Z",
     "iopub.status.busy": "2020-09-11T07:11:11.626836Z",
     "iopub.status.idle": "2020-09-11T07:11:11.630144Z",
     "shell.execute_reply": "2020-09-11T07:11:11.629630Z"
    },
    "papermill": {
     "duration": 0.076282,
     "end_time": "2020-09-11T07:11:11.630249",
     "exception": false,
     "start_time": "2020-09-11T07:11:11.553967",
     "status": "completed"
    },
    "tags": []
   },
   "outputs": [],
   "source": [
    "# #attention this will take a while\n",
    "# plt.figure(figsize=(64,48))\n",
    "# sns.heatmap(plotdata.corr(),annot=True,cmap='Reds')\n",
    "# plt.show()# a lot of small correlations"
   ]
  },
  {
   "cell_type": "markdown",
   "metadata": {
    "papermill": {
     "duration": 0.069601,
     "end_time": "2020-09-11T07:11:11.771208",
     "exception": false,
     "start_time": "2020-09-11T07:11:11.701607",
     "status": "completed"
    },
    "tags": []
   },
   "source": [
    "As seen on the Heatmap, the correlations between the parameters and Saleprice are very small.<br>\n",
    "It is also notable that YearBuilt and BuiltAgo for example have the same correlation, which is logical as they say the same thing"
   ]
  },
  {
   "cell_type": "code",
   "execution_count": 37,
   "metadata": {
    "execution": {
     "iopub.execute_input": "2020-09-11T07:11:11.913202Z",
     "iopub.status.busy": "2020-09-11T07:11:11.912613Z",
     "iopub.status.idle": "2020-09-11T07:11:11.917827Z",
     "shell.execute_reply": "2020-09-11T07:11:11.918312Z"
    },
    "papermill": {
     "duration": 0.078635,
     "end_time": "2020-09-11T07:11:11.918458",
     "exception": false,
     "start_time": "2020-09-11T07:11:11.839823",
     "status": "completed"
    },
    "tags": []
   },
   "outputs": [
    {
     "data": {
      "text/plain": [
       "Index(['MSSubClass', 'MSZoning', 'LotFrontage', 'LotArea', 'Street', 'Alley',\n",
       "       'LotShape', 'LandContour', 'Utilities', 'LotConfig', 'LandSlope',\n",
       "       'Neighborhood', 'Condition1', 'Condition2', 'BldgType', 'HouseStyle',\n",
       "       'OverallQual', 'OverallCond', 'YearBuilt', 'YearRemodAdd', 'RoofStyle',\n",
       "       'RoofMatl', 'Exterior1st', 'Exterior2nd', 'MasVnrType', 'MasVnrArea',\n",
       "       'ExterQual', 'ExterCond', 'Foundation', 'BsmtQual', 'BsmtCond',\n",
       "       'BsmtExposure', 'BsmtFinType1', 'BsmtFinSF1', 'BsmtFinType2',\n",
       "       'BsmtFinSF2', 'BsmtUnfSF', 'TotalBsmtSF', 'Heating', 'HeatingQC',\n",
       "       'CentralAir', 'Electrical', '1stFlrSF', '2ndFlrSF', 'LowQualFinSF',\n",
       "       'GrLivArea', 'BsmtFullBath', 'BsmtHalfBath', 'FullBath', 'HalfBath',\n",
       "       'BedroomAbvGr', 'KitchenAbvGr', 'KitchenQual', 'TotRmsAbvGrd',\n",
       "       'Functional', 'Fireplaces', 'FireplaceQu', 'GarageType', 'GarageYrBlt',\n",
       "       'GarageFinish', 'GarageCars', 'GarageArea', 'GarageQual', 'GarageCond',\n",
       "       'PavedDrive', 'WoodDeckSF', 'OpenPorchSF', 'EnclosedPorch', '3SsnPorch',\n",
       "       'ScreenPorch', 'PoolArea', 'PoolQC', 'Fence', 'MiscFeature', 'MiscVal',\n",
       "       'MoSold', 'YrSold', 'SaleType', 'SaleCondition', 'SoldYrAgo',\n",
       "       'GarageYrBltAgo', 'BuiltAgo', 'Saleprice'],\n",
       "      dtype='object')"
      ]
     },
     "execution_count": 37,
     "metadata": {},
     "output_type": "execute_result"
    }
   ],
   "source": [
    "plotdata.columns#seel what I can plot with"
   ]
  },
  {
   "cell_type": "markdown",
   "metadata": {
    "papermill": {
     "duration": 0.076297,
     "end_time": "2020-09-11T07:11:12.069854",
     "exception": false,
     "start_time": "2020-09-11T07:11:11.993557",
     "status": "completed"
    },
    "tags": []
   },
   "source": [
    "Looking at the distribution of some cols"
   ]
  },
  {
   "cell_type": "code",
   "execution_count": 38,
   "metadata": {
    "execution": {
     "iopub.execute_input": "2020-09-11T07:11:12.225200Z",
     "iopub.status.busy": "2020-09-11T07:11:12.224258Z",
     "iopub.status.idle": "2020-09-11T07:11:12.605441Z",
     "shell.execute_reply": "2020-09-11T07:11:12.604887Z"
    },
    "papermill": {
     "duration": 0.460825,
     "end_time": "2020-09-11T07:11:12.605569",
     "exception": false,
     "start_time": "2020-09-11T07:11:12.144744",
     "status": "completed"
    },
    "tags": []
   },
   "outputs": [
    {
     "data": {
      "image/png": "[encoded data removed]",
      "text/plain": [
       "<Figure size 576x360 with 1 Axes>"
      ]
     },
     "metadata": {
      "needs_background": "light"
     },
     "output_type": "display_data"
    },
    {
     "data": {
      "image/png": "[encoded data removed]",
      "text/plain": [
       "<Figure size 432x288 with 1 Axes>"
      ]
     },
     "metadata": {
      "needs_background": "light"
     },
     "output_type": "display_data"
    }
   ],
   "source": [
    "plt.figure(figsize=(8,5))\n",
    "sns.distplot(plotdata['Saleprice'],bins=30,color='m', fit=norm)\n",
    "fig = plt.figure()\n",
    "res = stats.probplot(plotdata['Saleprice'], plot=plt)\n",
    "# prob. plot from https://www.kaggle.com/serigne/stacked-regressions-top-4-on-leaderboard"
   ]
  },
  {
   "cell_type": "code",
   "execution_count": 39,
   "metadata": {
    "execution": {
     "iopub.execute_input": "2020-09-11T07:11:12.756796Z",
     "iopub.status.busy": "2020-09-11T07:11:12.756246Z",
     "iopub.status.idle": "2020-09-11T07:11:12.758473Z",
     "shell.execute_reply": "2020-09-11T07:11:12.758867Z"
    },
    "papermill": {
     "duration": 0.0796,
     "end_time": "2020-09-11T07:11:12.758986",
     "exception": false,
     "start_time": "2020-09-11T07:11:12.679386",
     "status": "completed"
    },
    "tags": []
   },
   "outputs": [
    {
     "name": "stderr",
     "output_type": "stream",
     "text": [
      "/opt/conda/lib/python3.7/site-packages/ipykernel_launcher.py:2: SettingWithCopyWarning: \n",
      "A value is trying to be set on a copy of a slice from a DataFrame.\n",
      "Try using .loc[row_indexer,col_indexer] = value instead\n",
      "\n",
      "See the caveats in the documentation: https://pandas.pydata.org/pandas-docs/stable/user_guide/indexing.html#returning-a-view-versus-a-copy\n",
      "  \n"
     ]
    }
   ],
   "source": [
    "# a lot of ml models work better with norm dist.\n",
    "plotdata[\"SalepriceLog\"] = np.log1p(plotdata[\"Saleprice\"])\n",
    "# allData[\"Saleprice\"] = np.log1p(allData[\"Saleprice\"])"
   ]
  },
  {
   "cell_type": "code",
   "execution_count": 40,
   "metadata": {
    "execution": {
     "iopub.execute_input": "2020-09-11T07:11:12.907837Z",
     "iopub.status.busy": "2020-09-11T07:11:12.907273Z",
     "iopub.status.idle": "2020-09-11T07:11:13.297475Z",
     "shell.execute_reply": "2020-09-11T07:11:13.296952Z"
    },
    "papermill": {
     "duration": 0.46759,
     "end_time": "2020-09-11T07:11:13.297580",
     "exception": false,
     "start_time": "2020-09-11T07:11:12.829990",
     "status": "completed"
    },
    "tags": []
   },
   "outputs": [
    {
     "data": {
      "image/png": "[encoded data removed]",
      "text/plain": [
       "<Figure size 576x360 with 1 Axes>"
      ]
     },
     "metadata": {
      "needs_background": "light"
     },
     "output_type": "display_data"
    },
    {
     "data": {
      "image/png": "[encoded data removed]",
      "text/plain": [
       "<Figure size 432x288 with 1 Axes>"
      ]
     },
     "metadata": {
      "needs_background": "light"
     },
     "output_type": "display_data"
    }
   ],
   "source": [
    "plt.figure(figsize=(8,5))\n",
    "sns.distplot(plotdata['SalepriceLog'],bins=30,color='m', fit=norm)\n",
    "fig = plt.figure()\n",
    "res = stats.probplot(plotdata['SalepriceLog'], plot=plt)# much better\n",
    "# need to np.expm1() the output to undo the log. for submitting results"
   ]
  },
  {
   "cell_type": "code",
   "execution_count": 41,
   "metadata": {
    "execution": {
     "iopub.execute_input": "2020-09-11T07:11:13.452903Z",
     "iopub.status.busy": "2020-09-11T07:11:13.452323Z",
     "iopub.status.idle": "2020-09-11T07:11:13.628678Z",
     "shell.execute_reply": "2020-09-11T07:11:13.628222Z"
    },
    "papermill": {
     "duration": 0.258622,
     "end_time": "2020-09-11T07:11:13.628776",
     "exception": false,
     "start_time": "2020-09-11T07:11:13.370154",
     "status": "completed"
    },
    "tags": []
   },
   "outputs": [
    {
     "data": {
      "text/plain": [
       "<matplotlib.axes._subplots.AxesSubplot at 0x7f66fe5c0050>"
      ]
     },
     "execution_count": 41,
     "metadata": {},
     "output_type": "execute_result"
    },
    {
     "data": {
      "image/png": "[encoded data removed]",
      "text/plain": [
       "<Figure size 576x360 with 1 Axes>"
      ]
     },
     "metadata": {
      "needs_background": "light"
     },
     "output_type": "display_data"
    }
   ],
   "source": [
    "plt.figure(figsize=(8,5))# not a used col\n",
    "sns.distplot(plotdata['BuiltAgo'],bins=30, fit=norm)# most houses are not that old"
   ]
  },
  {
   "cell_type": "code",
   "execution_count": 42,
   "metadata": {
    "execution": {
     "iopub.execute_input": "2020-09-11T07:11:13.791346Z",
     "iopub.status.busy": "2020-09-11T07:11:13.784684Z",
     "iopub.status.idle": "2020-09-11T07:11:13.964811Z",
     "shell.execute_reply": "2020-09-11T07:11:13.964330Z"
    },
    "papermill": {
     "duration": 0.261912,
     "end_time": "2020-09-11T07:11:13.964910",
     "exception": false,
     "start_time": "2020-09-11T07:11:13.702998",
     "status": "completed"
    },
    "tags": []
   },
   "outputs": [
    {
     "name": "stderr",
     "output_type": "stream",
     "text": [
      "/opt/conda/lib/python3.7/site-packages/ipykernel_launcher.py:2: SettingWithCopyWarning: \n",
      "A value is trying to be set on a copy of a slice from a DataFrame.\n",
      "Try using .loc[row_indexer,col_indexer] = value instead\n",
      "\n",
      "See the caveats in the documentation: https://pandas.pydata.org/pandas-docs/stable/user_guide/indexing.html#returning-a-view-versus-a-copy\n",
      "  \n"
     ]
    },
    {
     "data": {
      "text/plain": [
       "<matplotlib.axes._subplots.AxesSubplot at 0x7f66ff557850>"
      ]
     },
     "execution_count": 42,
     "metadata": {},
     "output_type": "execute_result"
    },
    {
     "data": {
      "image/png": "[encoded data removed]",
      "text/plain": [
       "<Figure size 576x360 with 1 Axes>"
      ]
     },
     "metadata": {
      "needs_background": "light"
     },
     "output_type": "display_data"
    }
   ],
   "source": [
    "# a lot of ml models work better with norm dist.\n",
    "plotdata[\"BuiltAgo\"] = np.log1p(plotdata[\"BuiltAgo\"])\n",
    "plt.figure(figsize=(8,5))\n",
    "sns.distplot(plotdata['BuiltAgo'],bins=30, fit=norm)# dont know if this is better as it has several bumps I dont change the allData"
   ]
  },
  {
   "cell_type": "code",
   "execution_count": 43,
   "metadata": {
    "execution": {
     "iopub.execute_input": "2020-09-11T07:11:14.125175Z",
     "iopub.status.busy": "2020-09-11T07:11:14.124569Z",
     "iopub.status.idle": "2020-09-11T07:11:14.299338Z",
     "shell.execute_reply": "2020-09-11T07:11:14.299759Z"
    },
    "papermill": {
     "duration": 0.259773,
     "end_time": "2020-09-11T07:11:14.299901",
     "exception": false,
     "start_time": "2020-09-11T07:11:14.040128",
     "status": "completed"
    },
    "tags": []
   },
   "outputs": [
    {
     "data": {
      "text/plain": [
       "<matplotlib.axes._subplots.AxesSubplot at 0x7f66fe4d0110>"
      ]
     },
     "execution_count": 43,
     "metadata": {},
     "output_type": "execute_result"
    },
    {
     "data": {
      "image/png": "[encoded data removed]",
      "text/plain": [
       "<Figure size 576x360 with 1 Axes>"
      ]
     },
     "metadata": {
      "needs_background": "light"
     },
     "output_type": "display_data"
    }
   ],
   "source": [
    "plt.figure(figsize=(8,5))\n",
    "sns.distplot(plotdata['YearBuilt'],bins=30, fit=norm,color='r')# most houses are not that old"
   ]
  },
  {
   "cell_type": "code",
   "execution_count": 44,
   "metadata": {
    "execution": {
     "iopub.execute_input": "2020-09-11T07:11:14.455666Z",
     "iopub.status.busy": "2020-09-11T07:11:14.455025Z",
     "iopub.status.idle": "2020-09-11T07:11:14.629332Z",
     "shell.execute_reply": "2020-09-11T07:11:14.629747Z"
    },
    "papermill": {
     "duration": 0.253544,
     "end_time": "2020-09-11T07:11:14.629885",
     "exception": false,
     "start_time": "2020-09-11T07:11:14.376341",
     "status": "completed"
    },
    "tags": []
   },
   "outputs": [
    {
     "data": {
      "text/plain": [
       "<matplotlib.axes._subplots.AxesSubplot at 0x7f66fe413250>"
      ]
     },
     "execution_count": 44,
     "metadata": {},
     "output_type": "execute_result"
    },
    {
     "data": {
      "image/png": "[encoded data removed]",
      "text/plain": [
       "<Figure size 576x360 with 1 Axes>"
      ]
     },
     "metadata": {
      "needs_background": "light"
     },
     "output_type": "display_data"
    }
   ],
   "source": [
    "plt.figure(figsize=(8,5))\n",
    "sns.distplot(plotdata['GarageArea'],bins=30, fit=norm,color='g')"
   ]
  },
  {
   "cell_type": "code",
   "execution_count": 45,
   "metadata": {
    "execution": {
     "iopub.execute_input": "2020-09-11T07:11:14.789963Z",
     "iopub.status.busy": "2020-09-11T07:11:14.789419Z",
     "iopub.status.idle": "2020-09-11T07:11:14.958842Z",
     "shell.execute_reply": "2020-09-11T07:11:14.959278Z"
    },
    "papermill": {
     "duration": 0.250581,
     "end_time": "2020-09-11T07:11:14.959419",
     "exception": false,
     "start_time": "2020-09-11T07:11:14.708838",
     "status": "completed"
    },
    "tags": []
   },
   "outputs": [
    {
     "name": "stderr",
     "output_type": "stream",
     "text": [
      "/opt/conda/lib/python3.7/site-packages/ipykernel_launcher.py:1: SettingWithCopyWarning: \n",
      "A value is trying to be set on a copy of a slice from a DataFrame.\n",
      "Try using .loc[row_indexer,col_indexer] = value instead\n",
      "\n",
      "See the caveats in the documentation: https://pandas.pydata.org/pandas-docs/stable/user_guide/indexing.html#returning-a-view-versus-a-copy\n",
      "  \"\"\"Entry point for launching an IPython kernel.\n"
     ]
    },
    {
     "data": {
      "text/plain": [
       "<matplotlib.axes._subplots.AxesSubplot at 0x7f66fe364450>"
      ]
     },
     "execution_count": 45,
     "metadata": {},
     "output_type": "execute_result"
    },
    {
     "data": {
      "image/png": "[encoded data removed]",
      "text/plain": [
       "<Figure size 576x360 with 1 Axes>"
      ]
     },
     "metadata": {
      "needs_background": "light"
     },
     "output_type": "display_data"
    }
   ],
   "source": [
    "plotdata[\"GarageArea\"] = np.log1p(plotdata[\"GarageArea\"])\n",
    "plt.figure(figsize=(8,5))\n",
    "sns.distplot(plotdata['GarageArea'],bins=30, fit=norm,color='g')# much worse?"
   ]
  },
  {
   "cell_type": "code",
   "execution_count": 46,
   "metadata": {
    "execution": {
     "iopub.execute_input": "2020-09-11T07:11:15.121012Z",
     "iopub.status.busy": "2020-09-11T07:11:15.120405Z",
     "iopub.status.idle": "2020-09-11T07:11:15.302359Z",
     "shell.execute_reply": "2020-09-11T07:11:15.302787Z"
    },
    "papermill": {
     "duration": 0.264164,
     "end_time": "2020-09-11T07:11:15.302926",
     "exception": false,
     "start_time": "2020-09-11T07:11:15.038762",
     "status": "completed"
    },
    "tags": []
   },
   "outputs": [
    {
     "data": {
      "text/plain": [
       "<matplotlib.axes._subplots.AxesSubplot at 0x7f66fe2f2110>"
      ]
     },
     "execution_count": 46,
     "metadata": {},
     "output_type": "execute_result"
    },
    {
     "data": {
      "image/png": "[encoded data removed]",
      "text/plain": [
       "<Figure size 576x360 with 1 Axes>"
      ]
     },
     "metadata": {
      "needs_background": "light"
     },
     "output_type": "display_data"
    }
   ],
   "source": [
    "plt.figure(figsize=(8,5))\n",
    "sns.distplot(plotdata['GrLivArea'],bins=30, fit=norm,color='m')# much worse"
   ]
  },
  {
   "cell_type": "code",
   "execution_count": 47,
   "metadata": {
    "execution": {
     "iopub.execute_input": "2020-09-11T07:11:15.466358Z",
     "iopub.status.busy": "2020-09-11T07:11:15.465779Z",
     "iopub.status.idle": "2020-09-11T07:11:15.613211Z",
     "shell.execute_reply": "2020-09-11T07:11:15.613638Z"
    },
    "papermill": {
     "duration": 0.230539,
     "end_time": "2020-09-11T07:11:15.613775",
     "exception": false,
     "start_time": "2020-09-11T07:11:15.383236",
     "status": "completed"
    },
    "tags": []
   },
   "outputs": [
    {
     "data": {
      "text/plain": [
       "<matplotlib.axes._subplots.AxesSubplot at 0x7f66fe1e68d0>"
      ]
     },
     "execution_count": 47,
     "metadata": {},
     "output_type": "execute_result"
    },
    {
     "data": {
      "image/png": "[encoded data removed]",
      "text/plain": [
       "<Figure size 576x360 with 1 Axes>"
      ]
     },
     "metadata": {
      "needs_background": "light"
     },
     "output_type": "display_data"
    }
   ],
   "source": [
    "plt.figure(figsize=(8,5))\n",
    "sns.scatterplot(x=\"GrLivArea\",y=\"Saleprice\",  data=plotdata)"
   ]
  },
  {
   "cell_type": "code",
   "execution_count": 48,
   "metadata": {
    "execution": {
     "iopub.execute_input": "2020-09-11T07:11:15.791498Z",
     "iopub.status.busy": "2020-09-11T07:11:15.790541Z",
     "iopub.status.idle": "2020-09-11T07:11:16.029492Z",
     "shell.execute_reply": "2020-09-11T07:11:16.029948Z"
    },
    "papermill": {
     "duration": 0.33013,
     "end_time": "2020-09-11T07:11:16.030096",
     "exception": false,
     "start_time": "2020-09-11T07:11:15.699966",
     "status": "completed"
    },
    "tags": []
   },
   "outputs": [
    {
     "data": {
      "text/plain": [
       "<matplotlib.axes._subplots.AxesSubplot at 0x7f66fe29e150>"
      ]
     },
     "execution_count": 48,
     "metadata": {},
     "output_type": "execute_result"
    },
    {
     "data": {
      "image/png": "[encoded data removed]",
      "text/plain": [
       "<Figure size 576x360 with 1 Axes>"
      ]
     },
     "metadata": {
      "needs_background": "light"
     },
     "output_type": "display_data"
    }
   ],
   "source": [
    "plt.figure(figsize=(8,5))\n",
    "sns.scatterplot(x=\"BuiltAgo\",y=\"Saleprice\",hue=\"Fireplaces\",  data=plotdata)# fireplaces are nice, but they are not that hard to build if the house does not have one already"
   ]
  },
  {
   "cell_type": "code",
   "execution_count": 49,
   "metadata": {
    "execution": {
     "iopub.execute_input": "2020-09-11T07:11:16.204416Z",
     "iopub.status.busy": "2020-09-11T07:11:16.203526Z",
     "iopub.status.idle": "2020-09-11T07:11:16.325130Z",
     "shell.execute_reply": "2020-09-11T07:11:16.325524Z"
    },
    "papermill": {
     "duration": 0.208858,
     "end_time": "2020-09-11T07:11:16.325658",
     "exception": false,
     "start_time": "2020-09-11T07:11:16.116800",
     "status": "completed"
    },
    "tags": []
   },
   "outputs": [
    {
     "data": {
      "text/plain": [
       "<matplotlib.axes._subplots.AxesSubplot at 0x7f66fe11aa10>"
      ]
     },
     "execution_count": 49,
     "metadata": {},
     "output_type": "execute_result"
    },
    {
     "data": {
      "image/png": "[encoded data removed]",
      "text/plain": [
       "<Figure size 576x360 with 1 Axes>"
      ]
     },
     "metadata": {
      "needs_background": "light"
     },
     "output_type": "display_data"
    }
   ],
   "source": [
    "plt.figure(figsize=(8,5))\n",
    "sns.scatterplot(x=\"MSZoning\",y=\"Saleprice\",  data=plotdata)# some are clearly \"cheaper\""
   ]
  },
  {
   "cell_type": "code",
   "execution_count": 50,
   "metadata": {
    "execution": {
     "iopub.execute_input": "2020-09-11T07:11:16.499381Z",
     "iopub.status.busy": "2020-09-11T07:11:16.498505Z",
     "iopub.status.idle": "2020-09-11T07:11:16.642158Z",
     "shell.execute_reply": "2020-09-11T07:11:16.642561Z"
    },
    "papermill": {
     "duration": 0.231828,
     "end_time": "2020-09-11T07:11:16.642695",
     "exception": false,
     "start_time": "2020-09-11T07:11:16.410867",
     "status": "completed"
    },
    "tags": []
   },
   "outputs": [
    {
     "data": {
      "text/plain": [
       "<matplotlib.axes._subplots.AxesSubplot at 0x7f66fe1e3a10>"
      ]
     },
     "execution_count": 50,
     "metadata": {},
     "output_type": "execute_result"
    },
    {
     "data": {
      "image/png": "[encoded data removed]",
      "text/plain": [
       "<Figure size 576x360 with 1 Axes>"
      ]
     },
     "metadata": {
      "needs_background": "light"
     },
     "output_type": "display_data"
    }
   ],
   "source": [
    "plt.figure(figsize=(8,5))\n",
    "sns.scatterplot(x=\"GrLivArea\",y=\"Saleprice\",  data=plotdata,color='m') "
   ]
  },
  {
   "cell_type": "code",
   "execution_count": 51,
   "metadata": {
    "execution": {
     "iopub.execute_input": "2020-09-11T07:11:16.820734Z",
     "iopub.status.busy": "2020-09-11T07:11:16.819772Z",
     "iopub.status.idle": "2020-09-11T07:11:17.076778Z",
     "shell.execute_reply": "2020-09-11T07:11:17.076162Z"
    },
    "papermill": {
     "duration": 0.346211,
     "end_time": "2020-09-11T07:11:17.076892",
     "exception": false,
     "start_time": "2020-09-11T07:11:16.730681",
     "status": "completed"
    },
    "tags": []
   },
   "outputs": [
    {
     "data": {
      "text/plain": [
       "<matplotlib.axes._subplots.AxesSubplot at 0x7f66fc85ef90>"
      ]
     },
     "execution_count": 51,
     "metadata": {},
     "output_type": "execute_result"
    },
    {
     "data": {
      "image/png": "[encoded data removed]",
      "text/plain": [
       "<Figure size 576x360 with 1 Axes>"
      ]
     },
     "metadata": {
      "needs_background": "light"
     },
     "output_type": "display_data"
    }
   ],
   "source": [
    "plt.figure(figsize=(8,5))\n",
    "sns.scatterplot(x=\"GarageArea\",y=\"Saleprice\",hue=\"GarageCond\",  data=plotdata)"
   ]
  },
  {
   "cell_type": "code",
   "execution_count": 52,
   "metadata": {
    "execution": {
     "iopub.execute_input": "2020-09-11T07:11:17.289951Z",
     "iopub.status.busy": "2020-09-11T07:11:17.289347Z",
     "iopub.status.idle": "2020-09-11T07:11:17.530510Z",
     "shell.execute_reply": "2020-09-11T07:11:17.530949Z"
    },
    "papermill": {
     "duration": 0.357115,
     "end_time": "2020-09-11T07:11:17.531073",
     "exception": false,
     "start_time": "2020-09-11T07:11:17.173958",
     "status": "completed"
    },
    "tags": []
   },
   "outputs": [
    {
     "data": {
      "text/plain": [
       "<matplotlib.axes._subplots.AxesSubplot at 0x7f66fc7eb290>"
      ]
     },
     "execution_count": 52,
     "metadata": {},
     "output_type": "execute_result"
    },
    {
     "data": {
      "image/png": "[encoded data removed]",
      "text/plain": [
       "<Figure size 576x360 with 1 Axes>"
      ]
     },
     "metadata": {
      "needs_background": "light"
     },
     "output_type": "display_data"
    }
   ],
   "source": [
    "plt.figure(figsize=(8,5))\n",
    "sns.scatterplot(x=\"GarageArea\",y=\"Saleprice\",hue=\"GarageQual\",  data=plotdata)"
   ]
  },
  {
   "cell_type": "code",
   "execution_count": 53,
   "metadata": {
    "execution": {
     "iopub.execute_input": "2020-09-11T07:11:17.722833Z",
     "iopub.status.busy": "2020-09-11T07:11:17.722225Z",
     "iopub.status.idle": "2020-09-11T07:11:18.274388Z",
     "shell.execute_reply": "2020-09-11T07:11:18.274800Z"
    },
    "papermill": {
     "duration": 0.649737,
     "end_time": "2020-09-11T07:11:18.274937",
     "exception": false,
     "start_time": "2020-09-11T07:11:17.625200",
     "status": "completed"
    },
    "tags": []
   },
   "outputs": [
    {
     "data": {
      "image/png": "[encoded data removed]",
      "text/plain": [
       "<Figure size 1080x360 with 4 Axes>"
      ]
     },
     "metadata": {
      "needs_background": "light"
     },
     "output_type": "display_data"
    },
    {
     "data": {
      "text/plain": [
       "<Figure size 5760x3600 with 0 Axes>"
      ]
     },
     "metadata": {},
     "output_type": "display_data"
    }
   ],
   "source": [
    "fig, (ax1, ax2, ax3, ax4) = plt.subplots(1,4,figsize=(15,5))\n",
    "plt.figure(figsize=(80,50))\n",
    "fig.suptitle('Garage')\n",
    "ax1.scatter(x=\"GarageArea\",y=\"Saleprice\",  data=plotdata, linewidth=1)\n",
    "ax2.scatter(x=\"GarageQual\",y=\"Saleprice\",  data=plotdata, linewidth=1)\n",
    "ax3.scatter(x=\"GarageCond\",y=\"Saleprice\",  data=plotdata, linewidth=1)\n",
    "ax4.scatter(x=\"GarageFinish\",y=\"Saleprice\",  data=plotdata, linewidth=1)\n",
    "\n",
    "fig.tight_layout()"
   ]
  },
  {
   "cell_type": "code",
   "execution_count": 54,
   "metadata": {
    "execution": {
     "iopub.execute_input": "2020-09-11T07:11:18.475675Z",
     "iopub.status.busy": "2020-09-11T07:11:18.474700Z",
     "iopub.status.idle": "2020-09-11T07:11:18.700656Z",
     "shell.execute_reply": "2020-09-11T07:11:18.701112Z"
    },
    "papermill": {
     "duration": 0.333856,
     "end_time": "2020-09-11T07:11:18.701258",
     "exception": false,
     "start_time": "2020-09-11T07:11:18.367402",
     "status": "completed"
    },
    "tags": []
   },
   "outputs": [
    {
     "data": {
      "text/plain": [
       "<matplotlib.axes._subplots.AxesSubplot at 0x7f66fe684510>"
      ]
     },
     "execution_count": 54,
     "metadata": {},
     "output_type": "execute_result"
    },
    {
     "data": {
      "image/png": "[encoded data removed]",
      "text/plain": [
       "<Figure size 576x360 with 1 Axes>"
      ]
     },
     "metadata": {
      "needs_background": "light"
     },
     "output_type": "display_data"
    }
   ],
   "source": [
    "plt.figure(figsize=(8,5))\n",
    "sns.scatterplot(x=\"PoolArea\",y=\"Saleprice\",hue=\"PoolQC\",  data=plotdata)# a pool does not seem to make a house very expensive interestingly"
   ]
  },
  {
   "cell_type": "code",
   "execution_count": 55,
   "metadata": {
    "execution": {
     "iopub.execute_input": "2020-09-11T07:11:18.910436Z",
     "iopub.status.busy": "2020-09-11T07:11:18.909848Z",
     "iopub.status.idle": "2020-09-11T07:11:19.060378Z",
     "shell.execute_reply": "2020-09-11T07:11:19.059795Z"
    },
    "papermill": {
     "duration": 0.257218,
     "end_time": "2020-09-11T07:11:19.060478",
     "exception": false,
     "start_time": "2020-09-11T07:11:18.803260",
     "status": "completed"
    },
    "tags": []
   },
   "outputs": [
    {
     "data": {
      "text/plain": [
       "<matplotlib.axes._subplots.AxesSubplot at 0x7f66fc790ed0>"
      ]
     },
     "execution_count": 55,
     "metadata": {},
     "output_type": "execute_result"
    },
    {
     "data": {
      "image/png": "[encoded data removed]",
      "text/plain": [
       "<Figure size 576x360 with 1 Axes>"
      ]
     },
     "metadata": {
      "needs_background": "light"
     },
     "output_type": "display_data"
    }
   ],
   "source": [
    "plt.figure(figsize=(8,5))\n",
    "sns.scatterplot(x=\"SoldYrAgo\",y=\"Saleprice\", data=plotdata,color='g')#older sales=> more expensive  (bubble?)"
   ]
  },
  {
   "cell_type": "markdown",
   "metadata": {
    "papermill": {
     "duration": 0.094875,
     "end_time": "2020-09-11T07:11:19.250165",
     "exception": false,
     "start_time": "2020-09-11T07:11:19.155290",
     "status": "completed"
    },
    "tags": []
   },
   "source": [
    "# Models\n",
    "testing a lot of several models."
   ]
  },
  {
   "cell_type": "code",
   "execution_count": 56,
   "metadata": {
    "execution": {
     "iopub.execute_input": "2020-09-11T07:11:19.445475Z",
     "iopub.status.busy": "2020-09-11T07:11:19.444821Z",
     "iopub.status.idle": "2020-09-11T07:11:19.488722Z",
     "shell.execute_reply": "2020-09-11T07:11:19.488258Z"
    },
    "papermill": {
     "duration": 0.143533,
     "end_time": "2020-09-11T07:11:19.488844",
     "exception": false,
     "start_time": "2020-09-11T07:11:19.345311",
     "status": "completed"
    },
    "tags": []
   },
   "outputs": [
    {
     "name": "stdout",
     "output_type": "stream",
     "text": [
      "[]\n"
     ]
    }
   ],
   "source": [
    "#final nan check\n",
    "nan=[col for col in allData.columns if allData[col].isnull().sum()>0] #List of Cols with nan   after filling in stuff\n",
    "print(nan)"
   ]
  },
  {
   "cell_type": "code",
   "execution_count": 57,
   "metadata": {
    "execution": {
     "iopub.execute_input": "2020-09-11T07:11:19.687401Z",
     "iopub.status.busy": "2020-09-11T07:11:19.686747Z",
     "iopub.status.idle": "2020-09-11T07:11:19.705501Z",
     "shell.execute_reply": "2020-09-11T07:11:19.704814Z"
    },
    "papermill": {
     "duration": 0.122726,
     "end_time": "2020-09-11T07:11:19.705619",
     "exception": false,
     "start_time": "2020-09-11T07:11:19.582893",
     "status": "completed"
    },
    "tags": []
   },
   "outputs": [],
   "source": [
    "#data for the models\n",
    "trainX=np.array(allData[:trainLen])\n",
    "testX=np.array(allData[trainLen:])\n",
    "trainY=np.array(trainY)"
   ]
  },
  {
   "cell_type": "markdown",
   "metadata": {
    "papermill": {
     "duration": 0.09414,
     "end_time": "2020-09-11T07:11:19.900756",
     "exception": false,
     "start_time": "2020-09-11T07:11:19.806616",
     "status": "completed"
    },
    "tags": []
   },
   "source": [
    "# Linear regression"
   ]
  },
  {
   "cell_type": "markdown",
   "metadata": {
    "papermill": {
     "duration": 0.096319,
     "end_time": "2020-09-11T07:11:20.096692",
     "exception": false,
     "start_time": "2020-09-11T07:11:20.000373",
     "status": "completed"
    },
    "tags": []
   },
   "source": [
    "there is a strange bug, wehre saleprice with index 1444 will return inf. But if I use the Robustscaler it works."
   ]
  },
  {
   "cell_type": "code",
   "execution_count": 58,
   "metadata": {
    "execution": {
     "iopub.execute_input": "2020-09-11T07:11:20.289297Z",
     "iopub.status.busy": "2020-09-11T07:11:20.288709Z",
     "iopub.status.idle": "2020-09-11T07:11:20.366812Z",
     "shell.execute_reply": "2020-09-11T07:11:20.367264Z"
    },
    "papermill": {
     "duration": 0.176255,
     "end_time": "2020-09-11T07:11:20.367418",
     "exception": false,
     "start_time": "2020-09-11T07:11:20.191163",
     "status": "completed"
    },
    "tags": []
   },
   "outputs": [],
   "source": [
    "from sklearn.linear_model import LinearRegression"
   ]
  },
  {
   "cell_type": "code",
   "execution_count": 59,
   "metadata": {
    "execution": {
     "iopub.execute_input": "2020-09-11T07:11:20.566726Z",
     "iopub.status.busy": "2020-09-11T07:11:20.565889Z",
     "iopub.status.idle": "2020-09-11T07:11:20.569952Z",
     "shell.execute_reply": "2020-09-11T07:11:20.569391Z"
    },
    "papermill": {
     "duration": 0.104636,
     "end_time": "2020-09-11T07:11:20.570050",
     "exception": false,
     "start_time": "2020-09-11T07:11:20.465414",
     "status": "completed"
    },
    "tags": []
   },
   "outputs": [],
   "source": [
    "# modelLin = LinearRegression()\n",
    "# modelLin.fit(trainX, trainY)\n",
    "# predTrain=np.expm1(modelLin.predict(trainX))\n",
    "# LinAcc = mean_squared_error(predTrain, np.expm1(trainY))\n",
    "# print (str(LinAcc) + ' MSE') #Score= failed(bug?)"
   ]
  },
  {
   "cell_type": "code",
   "execution_count": 60,
   "metadata": {
    "execution": {
     "iopub.execute_input": "2020-09-11T07:11:20.765666Z",
     "iopub.status.busy": "2020-09-11T07:11:20.765024Z",
     "iopub.status.idle": "2020-09-11T07:11:20.767766Z",
     "shell.execute_reply": "2020-09-11T07:11:20.767355Z"
    },
    "papermill": {
     "duration": 0.102092,
     "end_time": "2020-09-11T07:11:20.767868",
     "exception": false,
     "start_time": "2020-09-11T07:11:20.665776",
     "status": "completed"
    },
    "tags": []
   },
   "outputs": [],
   "source": [
    "# modelLin = make_pipeline(RobustScaler(), LinearRegression())\n",
    "# modelLin.fit(trainX, trainY)\n",
    "# predTrain=np.expm1(modelLin.predict(trainX))\n",
    "# LinAcc = mean_squared_error(predTrain, np.expm1(trainY))\n",
    "# print (str(LinAcc) + ' MSE') #Score= 0.14579"
   ]
  },
  {
   "cell_type": "code",
   "execution_count": 61,
   "metadata": {
    "execution": {
     "iopub.execute_input": "2020-09-11T07:11:20.962359Z",
     "iopub.status.busy": "2020-09-11T07:11:20.961437Z",
     "iopub.status.idle": "2020-09-11T07:11:20.963680Z",
     "shell.execute_reply": "2020-09-11T07:11:20.964416Z"
    },
    "papermill": {
     "duration": 0.101723,
     "end_time": "2020-09-11T07:11:20.964600",
     "exception": false,
     "start_time": "2020-09-11T07:11:20.862877",
     "status": "completed"
    },
    "tags": []
   },
   "outputs": [],
   "source": [
    "# # plot results\n",
    "# plt.figure(figsize=(12,5))\n",
    "# sns.distplot((np.expm1(trainY)),bins=30, color='m')\n",
    "# sns.distplot((predTrain),bins=30, color='g')"
   ]
  },
  {
   "cell_type": "markdown",
   "metadata": {
    "papermill": {
     "duration": 0.099058,
     "end_time": "2020-09-11T07:11:21.184365",
     "exception": false,
     "start_time": "2020-09-11T07:11:21.085307",
     "status": "completed"
    },
    "tags": []
   },
   "source": [
    "the score seems to be very bad"
   ]
  },
  {
   "cell_type": "markdown",
   "metadata": {
    "papermill": {
     "duration": 0.094745,
     "end_time": "2020-09-11T07:11:21.374421",
     "exception": false,
     "start_time": "2020-09-11T07:11:21.279676",
     "status": "completed"
    },
    "tags": []
   },
   "source": [
    "# SVR"
   ]
  },
  {
   "cell_type": "code",
   "execution_count": 62,
   "metadata": {
    "execution": {
     "iopub.execute_input": "2020-09-11T07:11:21.568651Z",
     "iopub.status.busy": "2020-09-11T07:11:21.568072Z",
     "iopub.status.idle": "2020-09-11T07:11:21.570701Z",
     "shell.execute_reply": "2020-09-11T07:11:21.570285Z"
    },
    "papermill": {
     "duration": 0.101999,
     "end_time": "2020-09-11T07:11:21.570816",
     "exception": false,
     "start_time": "2020-09-11T07:11:21.468817",
     "status": "completed"
    },
    "tags": []
   },
   "outputs": [],
   "source": [
    "from sklearn.svm import SVR"
   ]
  },
  {
   "cell_type": "markdown",
   "metadata": {
    "papermill": {
     "duration": 0.096032,
     "end_time": "2020-09-11T07:11:21.765792",
     "exception": false,
     "start_time": "2020-09-11T07:11:21.669760",
     "status": "completed"
    },
    "tags": []
   },
   "source": [
    "manually tunning"
   ]
  },
  {
   "cell_type": "code",
   "execution_count": 63,
   "metadata": {
    "execution": {
     "iopub.execute_input": "2020-09-11T07:11:21.961355Z",
     "iopub.status.busy": "2020-09-11T07:11:21.960755Z",
     "iopub.status.idle": "2020-09-11T07:11:22.295376Z",
     "shell.execute_reply": "2020-09-11T07:11:22.294806Z"
    },
    "papermill": {
     "duration": 0.434597,
     "end_time": "2020-09-11T07:11:22.295480",
     "exception": false,
     "start_time": "2020-09-11T07:11:21.860883",
     "status": "completed"
    },
    "tags": []
   },
   "outputs": [
    {
     "data": {
      "text/plain": [
       "Pipeline(steps=[('robustscaler', RobustScaler()),\n",
       "                ('svr', SVR(C=1, degree=1, kernel='poly'))])"
      ]
     },
     "execution_count": 63,
     "metadata": {},
     "output_type": "execute_result"
    }
   ],
   "source": [
    "# kernels: poly, rbf\n",
    "modelSvr = make_pipeline(RobustScaler(), SVR(kernel=\"poly\", C=1, degree=1))\n",
    "modelSvr.fit(trainX,trainY)"
   ]
  },
  {
   "cell_type": "code",
   "execution_count": 64,
   "metadata": {
    "execution": {
     "iopub.execute_input": "2020-09-11T07:11:22.492641Z",
     "iopub.status.busy": "2020-09-11T07:11:22.491474Z",
     "iopub.status.idle": "2020-09-11T07:11:22.680862Z",
     "shell.execute_reply": "2020-09-11T07:11:22.680405Z"
    },
    "papermill": {
     "duration": 0.2908,
     "end_time": "2020-09-11T07:11:22.680970",
     "exception": false,
     "start_time": "2020-09-11T07:11:22.390170",
     "status": "completed"
    },
    "tags": []
   },
   "outputs": [
    {
     "name": "stdout",
     "output_type": "stream",
     "text": [
      "3359490636.129536 MSE\n"
     ]
    }
   ],
   "source": [
    "predTrain=np.expm1(modelSvr.predict(trainX))\n",
    "SVRAcc = mean_squared_error(predTrain, np.expm1(trainY))\n",
    "print (str(SVRAcc) + ' MSE') # huge mse   score=0.13343   #very diffrent than houseprice1"
   ]
  },
  {
   "cell_type": "code",
   "execution_count": 65,
   "metadata": {
    "execution": {
     "iopub.execute_input": "2020-09-11T07:11:22.879038Z",
     "iopub.status.busy": "2020-09-11T07:11:22.878493Z",
     "iopub.status.idle": "2020-09-11T07:11:23.107693Z",
     "shell.execute_reply": "2020-09-11T07:11:23.108121Z"
    },
    "papermill": {
     "duration": 0.330202,
     "end_time": "2020-09-11T07:11:23.108258",
     "exception": false,
     "start_time": "2020-09-11T07:11:22.778056",
     "status": "completed"
    },
    "tags": []
   },
   "outputs": [
    {
     "data": {
      "text/plain": [
       "<matplotlib.axes._subplots.AxesSubplot at 0x7f66f6b59110>"
      ]
     },
     "execution_count": 65,
     "metadata": {},
     "output_type": "execute_result"
    },
    {
     "data": {
      "image/png": "[encoded data removed]",
      "text/plain": [
       "<Figure size 864x360 with 1 Axes>"
      ]
     },
     "metadata": {
      "needs_background": "light"
     },
     "output_type": "display_data"
    }
   ],
   "source": [
    "# plot results\n",
    "plt.figure(figsize=(12,5))\n",
    "sns.distplot((np.expm1(trainY)),bins=30, color='m')\n",
    "sns.distplot((predTrain),bins=30, color='g')"
   ]
  },
  {
   "cell_type": "markdown",
   "metadata": {
    "papermill": {
     "duration": 0.096508,
     "end_time": "2020-09-11T07:11:23.302067",
     "exception": false,
     "start_time": "2020-09-11T07:11:23.205559",
     "status": "completed"
    },
    "tags": []
   },
   "source": [
    "# XGBoost"
   ]
  },
  {
   "cell_type": "code",
   "execution_count": 66,
   "metadata": {
    "execution": {
     "iopub.execute_input": "2020-09-11T07:11:23.500306Z",
     "iopub.status.busy": "2020-09-11T07:11:23.499751Z",
     "iopub.status.idle": "2020-09-11T07:11:24.197893Z",
     "shell.execute_reply": "2020-09-11T07:11:24.197020Z"
    },
    "papermill": {
     "duration": 0.798786,
     "end_time": "2020-09-11T07:11:24.198056",
     "exception": false,
     "start_time": "2020-09-11T07:11:23.399270",
     "status": "completed"
    },
    "tags": []
   },
   "outputs": [],
   "source": [
    "import xgboost"
   ]
  },
  {
   "cell_type": "markdown",
   "metadata": {
    "papermill": {
     "duration": 0.097017,
     "end_time": "2020-09-11T07:11:24.397265",
     "exception": false,
     "start_time": "2020-09-11T07:11:24.300248",
     "status": "completed"
    },
    "tags": []
   },
   "source": [
    "Hypertunning 1<br>\n",
    "attention, the hypertunning may take a very long time(don't run this for your own sake)"
   ]
  },
  {
   "cell_type": "code",
   "execution_count": 67,
   "metadata": {
    "execution": {
     "iopub.execute_input": "2020-09-11T07:11:24.595905Z",
     "iopub.status.busy": "2020-09-11T07:11:24.595346Z",
     "iopub.status.idle": "2020-09-11T07:11:24.598493Z",
     "shell.execute_reply": "2020-09-11T07:11:24.598015Z"
    },
    "papermill": {
     "duration": 0.104455,
     "end_time": "2020-09-11T07:11:24.598606",
     "exception": false,
     "start_time": "2020-09-11T07:11:24.494151",
     "status": "completed"
    },
    "tags": []
   },
   "outputs": [],
   "source": [
    "# #xgboost\n",
    "# modelX=xgboost.XGBRegressor(verbose=2)\n",
    "\n",
    "# n_estimators = [500, 900, 2000] # a lot of cols=> many estim..\n",
    "# max_depth = [3, 6,9,12]\n",
    "# booster=['gbtree','gblinear'] #\"dart\"\n",
    "# learning_rate=[.02,.05,.1,.2]\n",
    "# min_child_weight=[2,5,9]\n",
    "# base_score=[.01,.25,.5,.75]\n",
    "# max_depth=[2,4,6,8]\n",
    "# min_split_loss=[0,0.01,.1]\n",
    "# hyperparameter_grid = {\n",
    "#     'n_estimators': n_estimators,\n",
    "#     'max_depth':max_depth,\n",
    "#     'learning_rate':learning_rate,\n",
    "#     'min_child_weight':min_child_weight,\n",
    "#     'booster':booster,\n",
    "#     'base_score':base_score,\n",
    "#     \"max_depth\":max_depth,\n",
    "#     \"min_split_loss\":min_split_loss}\n",
    "\n",
    "# random_cv = RandomizedSearchCV(estimator=modelX,\n",
    "#             param_distributions=hyperparameter_grid,\n",
    "#             cv=5, n_iter=100,\n",
    "#             scoring='neg_root_mean_squared_error',\n",
    "#                                n_jobs = -1,\n",
    "#             verbose = 5, \n",
    "#             return_train_score = True,\n",
    "#             random_state=42)\n",
    "\n",
    "# random_cv.fit(trainX,trainY)"
   ]
  },
  {
   "cell_type": "code",
   "execution_count": 68,
   "metadata": {
    "execution": {
     "iopub.execute_input": "2020-09-11T07:11:24.816102Z",
     "iopub.status.busy": "2020-09-11T07:11:24.815500Z",
     "iopub.status.idle": "2020-09-11T07:11:24.818827Z",
     "shell.execute_reply": "2020-09-11T07:11:24.818386Z"
    },
    "papermill": {
     "duration": 0.1136,
     "end_time": "2020-09-11T07:11:24.818942",
     "exception": false,
     "start_time": "2020-09-11T07:11:24.705342",
     "status": "completed"
    },
    "tags": []
   },
   "outputs": [],
   "source": [
    "# random_cv.best_estimator_    #if best estim are at the edge=> additional tests"
   ]
  },
  {
   "cell_type": "code",
   "execution_count": 69,
   "metadata": {
    "execution": {
     "iopub.execute_input": "2020-09-11T07:11:25.026104Z",
     "iopub.status.busy": "2020-09-11T07:11:25.025462Z",
     "iopub.status.idle": "2020-09-11T07:11:25.028189Z",
     "shell.execute_reply": "2020-09-11T07:11:25.027706Z"
    },
    "papermill": {
     "duration": 0.109894,
     "end_time": "2020-09-11T07:11:25.028298",
     "exception": false,
     "start_time": "2020-09-11T07:11:24.918404",
     "status": "completed"
    },
    "tags": []
   },
   "outputs": [],
   "source": [
    "# modelX=xgboost.XGBRegressor(base_score=0.5, booster='gbtree', colsample_bylevel=1,\n",
    "#              colsample_bynode=1, colsample_bytree=1, gamma=0, gpu_id=-1,\n",
    "#              importance_type='gain', interaction_constraints='',\n",
    "#              learning_rate=0.02, max_delta_step=0, max_depth=8,\n",
    "#              min_child_weight=9, min_split_loss=0, missing=None,\n",
    "#              monotone_constraints='()', n_estimators=2000, n_jobs=0,\n",
    "#              num_parallel_tree=1, random_state=0, reg_alpha=0, reg_lambda=1,\n",
    "#              scale_pos_weight=1, subsample=1, tree_method='exact',\n",
    "#              validate_parameters=1,  verbosity=None)#Score= 0.12949"
   ]
  },
  {
   "cell_type": "code",
   "execution_count": 70,
   "metadata": {
    "execution": {
     "iopub.execute_input": "2020-09-11T07:11:25.231719Z",
     "iopub.status.busy": "2020-09-11T07:11:25.230948Z",
     "iopub.status.idle": "2020-09-11T07:11:25.233588Z",
     "shell.execute_reply": "2020-09-11T07:11:25.233117Z"
    },
    "papermill": {
     "duration": 0.106774,
     "end_time": "2020-09-11T07:11:25.233687",
     "exception": false,
     "start_time": "2020-09-11T07:11:25.126913",
     "status": "completed"
    },
    "tags": []
   },
   "outputs": [],
   "source": [
    "# modelX=xgboost.XGBRegressor(base_score=0.01, booster='gbtree', colsample_bylevel=1,\n",
    "#              colsample_bynode=1, colsample_bytree=1, gamma=0, gpu_id=-1,\n",
    "#              importance_type='gain', interaction_constraints='',\n",
    "#              learning_rate=0.05, max_delta_step=0, max_depth=4,\n",
    "#              min_child_weight=5, min_split_loss=0, missing=None,\n",
    "#              monotone_constraints='()', n_estimators=500, n_jobs=0,\n",
    "#              num_parallel_tree=1, random_state=0, reg_alpha=0, reg_lambda=1,\n",
    "#              scale_pos_weight=1, subsample=1, tree_method='exact',\n",
    "#              validate_parameters=1, verbose=2, verbosity=None)#  score = 0.12808"
   ]
  },
  {
   "cell_type": "code",
   "execution_count": 71,
   "metadata": {
    "execution": {
     "iopub.execute_input": "2020-09-11T07:11:25.436666Z",
     "iopub.status.busy": "2020-09-11T07:11:25.436060Z",
     "iopub.status.idle": "2020-09-11T07:11:25.438490Z",
     "shell.execute_reply": "2020-09-11T07:11:25.438026Z"
    },
    "papermill": {
     "duration": 0.105223,
     "end_time": "2020-09-11T07:11:25.438593",
     "exception": false,
     "start_time": "2020-09-11T07:11:25.333370",
     "status": "completed"
    },
    "tags": []
   },
   "outputs": [],
   "source": [
    "# modelX.fit(trainX,trainY)"
   ]
  },
  {
   "cell_type": "code",
   "execution_count": 72,
   "metadata": {
    "execution": {
     "iopub.execute_input": "2020-09-11T07:11:25.640787Z",
     "iopub.status.busy": "2020-09-11T07:11:25.640122Z",
     "iopub.status.idle": "2020-09-11T07:11:25.641816Z",
     "shell.execute_reply": "2020-09-11T07:11:25.642322Z"
    },
    "papermill": {
     "duration": 0.105418,
     "end_time": "2020-09-11T07:11:25.642463",
     "exception": false,
     "start_time": "2020-09-11T07:11:25.537045",
     "status": "completed"
    },
    "tags": []
   },
   "outputs": [],
   "source": [
    "# predTrain=np.expm1(modelX.predict(trainX))\n",
    "# XAcc = mean_squared_error(predTrain, np.expm1(trainY))\n",
    "# print (str(XAcc) + ' MSE') #Score= 0.12808"
   ]
  },
  {
   "cell_type": "markdown",
   "metadata": {
    "papermill": {
     "duration": 0.108225,
     "end_time": "2020-09-11T07:11:25.858459",
     "exception": false,
     "start_time": "2020-09-11T07:11:25.750234",
     "status": "completed"
    },
    "tags": []
   },
   "source": [
    "manually tunning<br>\n",
    "after having seen the score of the light GBM i wanted to atleaset go below a score of 0.13"
   ]
  },
  {
   "cell_type": "code",
   "execution_count": 73,
   "metadata": {
    "execution": {
     "iopub.execute_input": "2020-09-11T07:11:26.064414Z",
     "iopub.status.busy": "2020-09-11T07:11:26.063798Z",
     "iopub.status.idle": "2020-09-11T07:11:26.068155Z",
     "shell.execute_reply": "2020-09-11T07:11:26.067588Z"
    },
    "papermill": {
     "duration": 0.104806,
     "end_time": "2020-09-11T07:11:26.068259",
     "exception": false,
     "start_time": "2020-09-11T07:11:25.963453",
     "status": "completed"
    },
    "tags": []
   },
   "outputs": [],
   "source": [
    "# modelX=xgboost.XGBRegressor( booster='gbtree', colsample_bylevel=1,\n",
    "#              colsample_bynode=1, colsample_bytree=1, gamma=0, gpu_id=-1,\n",
    "#              importance_type='gain', interaction_constraints='',\n",
    "#              learning_rate=0.015, max_delta_step=0, max_depth=4,\n",
    "#              min_child_weight=5, min_split_loss=0, missing=None,\n",
    "#              monotone_constraints='()', n_estimators=3000, n_jobs=0,\n",
    "#              num_parallel_tree=1, random_state=0, reg_alpha=0, reg_lambda=1,\n",
    "#              scale_pos_weight=1, subsample=1, tree_method='exact',\n",
    "#              validate_parameters=1,  verbosity=None)\n",
    "# modelX.fit(trainX,trainY)"
   ]
  },
  {
   "cell_type": "code",
   "execution_count": 74,
   "metadata": {
    "execution": {
     "iopub.execute_input": "2020-09-11T07:11:26.268201Z",
     "iopub.status.busy": "2020-09-11T07:11:26.267268Z",
     "iopub.status.idle": "2020-09-11T07:11:26.270534Z",
     "shell.execute_reply": "2020-09-11T07:11:26.270992Z"
    },
    "papermill": {
     "duration": 0.105234,
     "end_time": "2020-09-11T07:11:26.271164",
     "exception": false,
     "start_time": "2020-09-11T07:11:26.165930",
     "status": "completed"
    },
    "tags": []
   },
   "outputs": [],
   "source": [
    "# predTrain=np.expm1(modelX.predict(trainX))\n",
    "# XAcc = mean_squared_error(predTrain, np.expm1(trainY))\n",
    "# print (str(XAcc) + ' MSE') #Score= 0.12670"
   ]
  },
  {
   "cell_type": "code",
   "execution_count": 75,
   "metadata": {
    "execution": {
     "iopub.execute_input": "2020-09-11T07:11:26.470564Z",
     "iopub.status.busy": "2020-09-11T07:11:26.469955Z",
     "iopub.status.idle": "2020-09-11T07:11:26.472945Z",
     "shell.execute_reply": "2020-09-11T07:11:26.472462Z"
    },
    "papermill": {
     "duration": 0.104173,
     "end_time": "2020-09-11T07:11:26.473059",
     "exception": false,
     "start_time": "2020-09-11T07:11:26.368886",
     "status": "completed"
    },
    "tags": []
   },
   "outputs": [],
   "source": [
    "# # plot results\n",
    "# plt.figure(figsize=(12,5))\n",
    "# sns.distplot((np.expm1(trainY)),bins=30, color='m')\n",
    "# sns.distplot((predTrain),bins=30, color='g')"
   ]
  },
  {
   "cell_type": "markdown",
   "metadata": {
    "papermill": {
     "duration": 0.099255,
     "end_time": "2020-09-11T07:11:26.670856",
     "exception": false,
     "start_time": "2020-09-11T07:11:26.571601",
     "status": "completed"
    },
    "tags": []
   },
   "source": [
    "Notes: <br>\n",
    "the 2. Hypertuned XGBoost model has a better MSE with the training data but performs worse with the test data:\n",
    "- 1 Hyper...= 0.13105 score\n",
    "- 2 Hyper...= 0.13458 score"
   ]
  },
  {
   "cell_type": "markdown",
   "metadata": {
    "papermill": {
     "duration": 0.09916,
     "end_time": "2020-09-11T07:11:26.867647",
     "exception": false,
     "start_time": "2020-09-11T07:11:26.768487",
     "status": "completed"
    },
    "tags": []
   },
   "source": [
    "# Random Forrest"
   ]
  },
  {
   "cell_type": "code",
   "execution_count": 76,
   "metadata": {
    "execution": {
     "iopub.execute_input": "2020-09-11T07:11:27.068240Z",
     "iopub.status.busy": "2020-09-11T07:11:27.067636Z",
     "iopub.status.idle": "2020-09-11T07:11:27.189810Z",
     "shell.execute_reply": "2020-09-11T07:11:27.189209Z"
    },
    "papermill": {
     "duration": 0.22374,
     "end_time": "2020-09-11T07:11:27.189913",
     "exception": false,
     "start_time": "2020-09-11T07:11:26.966173",
     "status": "completed"
    },
    "tags": []
   },
   "outputs": [],
   "source": [
    "from sklearn.ensemble import  RandomForestRegressor"
   ]
  },
  {
   "cell_type": "markdown",
   "metadata": {
    "papermill": {
     "duration": 0.098133,
     "end_time": "2020-09-11T07:11:27.385950",
     "exception": false,
     "start_time": "2020-09-11T07:11:27.287817",
     "status": "completed"
    },
    "tags": []
   },
   "source": [
    "Hypertunning 1<br>\n",
    "attention, the hypertunning may take a long time"
   ]
  },
  {
   "cell_type": "code",
   "execution_count": 77,
   "metadata": {
    "execution": {
     "iopub.execute_input": "2020-09-11T07:11:27.585739Z",
     "iopub.status.busy": "2020-09-11T07:11:27.585173Z",
     "iopub.status.idle": "2020-09-11T07:11:27.589898Z",
     "shell.execute_reply": "2020-09-11T07:11:27.589372Z"
    },
    "papermill": {
     "duration": 0.106576,
     "end_time": "2020-09-11T07:11:27.590005",
     "exception": false,
     "start_time": "2020-09-11T07:11:27.483429",
     "status": "completed"
    },
    "tags": []
   },
   "outputs": [],
   "source": [
    "# modelForrest=RandomForestRegressor()# not regressor\n",
    "\n",
    "# #Hypertunning    from https://www.kaggle.com/harshkothari21/beginners-notebook-90-accuracy\n",
    "# n_estimators = [100,300, 500, 1000]\n",
    "# depth = [3,5,10,15]\n",
    "# min_split=[2,3,4]\n",
    "# min_leaf=[2,3,4]\n",
    "# bootstrap = ['True', 'False']\n",
    "# verbose = [5]\n",
    "\n",
    "# hyperparameter = {\n",
    "#     'n_estimators': n_estimators,\n",
    "#     'max_depth':depth,\n",
    "#     'bootstrap':bootstrap,\n",
    "#     'verbose':verbose,\n",
    "#     'min_samples_split':min_split,\n",
    "#     'min_samples_leaf':min_leaf    }\n",
    "\n",
    "# modelForrest = RandomizedSearchCV(estimator=modelForrest,\n",
    "#                                param_distributions=hyperparameter,\n",
    "#                                cv=5, #n_iter=100,\n",
    "#                                scoring = 'neg_mean_absolute_error',\n",
    "#                                n_jobs = 4, \n",
    "#                                return_train_score = True,\n",
    "#                                random_state=1)\n",
    "# modelForrest.fit(trainX,trainY)"
   ]
  },
  {
   "cell_type": "code",
   "execution_count": 78,
   "metadata": {
    "execution": {
     "iopub.execute_input": "2020-09-11T07:11:27.795992Z",
     "iopub.status.busy": "2020-09-11T07:11:27.795394Z",
     "iopub.status.idle": "2020-09-11T07:11:27.798157Z",
     "shell.execute_reply": "2020-09-11T07:11:27.797683Z"
    },
    "papermill": {
     "duration": 0.108386,
     "end_time": "2020-09-11T07:11:27.798259",
     "exception": false,
     "start_time": "2020-09-11T07:11:27.689873",
     "status": "completed"
    },
    "tags": []
   },
   "outputs": [],
   "source": [
    "# modelForrest.best_estimator_    #if best estim are at the edge=> additional tests"
   ]
  },
  {
   "cell_type": "code",
   "execution_count": 79,
   "metadata": {
    "execution": {
     "iopub.execute_input": "2020-09-11T07:11:28.038478Z",
     "iopub.status.busy": "2020-09-11T07:11:28.037576Z",
     "iopub.status.idle": "2020-09-11T07:11:28.040944Z",
     "shell.execute_reply": "2020-09-11T07:11:28.041475Z"
    },
    "papermill": {
     "duration": 0.144489,
     "end_time": "2020-09-11T07:11:28.041620",
     "exception": false,
     "start_time": "2020-09-11T07:11:27.897131",
     "status": "completed"
    },
    "tags": []
   },
   "outputs": [],
   "source": [
    "# modelForrest=RandomForestRegressor(bootstrap='False', max_depth=15, min_samples_leaf=3,\n",
    "#                       verbose=1)\n",
    "# modelForrest.fit(trainX,trainY)"
   ]
  },
  {
   "cell_type": "code",
   "execution_count": 80,
   "metadata": {
    "execution": {
     "iopub.execute_input": "2020-09-11T07:11:28.249928Z",
     "iopub.status.busy": "2020-09-11T07:11:28.249025Z",
     "iopub.status.idle": "2020-09-11T07:11:28.252510Z",
     "shell.execute_reply": "2020-09-11T07:11:28.252933Z"
    },
    "papermill": {
     "duration": 0.109904,
     "end_time": "2020-09-11T07:11:28.253071",
     "exception": false,
     "start_time": "2020-09-11T07:11:28.143167",
     "status": "completed"
    },
    "tags": []
   },
   "outputs": [],
   "source": [
    "# predTrain=np.expm1(modelForrest.predict(trainX))\n",
    "# ForrestAcc = mean_squared_error(predTrain, np.expm1(trainY))\n",
    "# print (str(ForrestAcc) + ' MSE') #Score= 0.14578"
   ]
  },
  {
   "cell_type": "markdown",
   "metadata": {
    "papermill": {
     "duration": 0.107756,
     "end_time": "2020-09-11T07:11:28.463000",
     "exception": false,
     "start_time": "2020-09-11T07:11:28.355244",
     "status": "completed"
    },
    "tags": []
   },
   "source": [
    "Hypertunning 2<br>\n",
    "manually tuning"
   ]
  },
  {
   "cell_type": "code",
   "execution_count": 81,
   "metadata": {
    "execution": {
     "iopub.execute_input": "2020-09-11T07:11:28.683725Z",
     "iopub.status.busy": "2020-09-11T07:11:28.682774Z",
     "iopub.status.idle": "2020-09-11T07:11:28.685748Z",
     "shell.execute_reply": "2020-09-11T07:11:28.686240Z"
    },
    "papermill": {
     "duration": 0.115952,
     "end_time": "2020-09-11T07:11:28.686392",
     "exception": false,
     "start_time": "2020-09-11T07:11:28.570440",
     "status": "completed"
    },
    "tags": []
   },
   "outputs": [],
   "source": [
    "# modelForrest=RandomForestRegressor(n_estimators=1100, bootstrap='True', max_depth=14, min_samples_leaf=3,\n",
    "#                       verbose=1)\n",
    "# modelForrest.fit(trainX,trainY)"
   ]
  },
  {
   "cell_type": "code",
   "execution_count": 82,
   "metadata": {
    "execution": {
     "iopub.execute_input": "2020-09-11T07:11:28.923461Z",
     "iopub.status.busy": "2020-09-11T07:11:28.922618Z",
     "iopub.status.idle": "2020-09-11T07:11:28.925811Z",
     "shell.execute_reply": "2020-09-11T07:11:28.926245Z"
    },
    "papermill": {
     "duration": 0.112642,
     "end_time": "2020-09-11T07:11:28.926397",
     "exception": false,
     "start_time": "2020-09-11T07:11:28.813755",
     "status": "completed"
    },
    "tags": []
   },
   "outputs": [],
   "source": [
    "# predTrain=np.expm1(modelForrest.predict(trainX))\n",
    "# ForrestAcc = mean_squared_error(predTrain, np.expm1(trainY))\n",
    "# print (str(ForrestAcc) + ' MSE') #Score= 0.14492"
   ]
  },
  {
   "cell_type": "code",
   "execution_count": 83,
   "metadata": {
    "execution": {
     "iopub.execute_input": "2020-09-11T07:11:29.143068Z",
     "iopub.status.busy": "2020-09-11T07:11:29.142213Z",
     "iopub.status.idle": "2020-09-11T07:11:29.145157Z",
     "shell.execute_reply": "2020-09-11T07:11:29.145581Z"
    },
    "papermill": {
     "duration": 0.113916,
     "end_time": "2020-09-11T07:11:29.145727",
     "exception": false,
     "start_time": "2020-09-11T07:11:29.031811",
     "status": "completed"
    },
    "tags": []
   },
   "outputs": [],
   "source": [
    "# # plot results\n",
    "# plt.figure(figsize=(12,5))\n",
    "# sns.distplot((np.expm1(trainY)),bins=30, color='m')\n",
    "# sns.distplot((predTrain),bins=30, color='g')"
   ]
  },
  {
   "cell_type": "markdown",
   "metadata": {
    "papermill": {
     "duration": 0.109152,
     "end_time": "2020-09-11T07:11:29.362840",
     "exception": false,
     "start_time": "2020-09-11T07:11:29.253688",
     "status": "completed"
    },
    "tags": []
   },
   "source": [
    "# Light Gradient Boosting"
   ]
  },
  {
   "cell_type": "code",
   "execution_count": 84,
   "metadata": {
    "execution": {
     "iopub.execute_input": "2020-09-11T07:11:29.582279Z",
     "iopub.status.busy": "2020-09-11T07:11:29.581237Z",
     "iopub.status.idle": "2020-09-11T07:11:29.624403Z",
     "shell.execute_reply": "2020-09-11T07:11:29.623363Z"
    },
    "papermill": {
     "duration": 0.153988,
     "end_time": "2020-09-11T07:11:29.624518",
     "exception": false,
     "start_time": "2020-09-11T07:11:29.470530",
     "status": "completed"
    },
    "tags": []
   },
   "outputs": [],
   "source": [
    "from lightgbm import LGBMRegressor"
   ]
  },
  {
   "cell_type": "markdown",
   "metadata": {
    "papermill": {
     "duration": 0.098839,
     "end_time": "2020-09-11T07:11:29.822430",
     "exception": false,
     "start_time": "2020-09-11T07:11:29.723591",
     "status": "completed"
    },
    "tags": []
   },
   "source": [
    "Hypertunning 1 attention, the hypertunning may take along time <br>\n",
    "(I don't know much about light gbm -> can't hypertune very well)"
   ]
  },
  {
   "cell_type": "code",
   "execution_count": 85,
   "metadata": {
    "execution": {
     "iopub.execute_input": "2020-09-11T07:11:30.025034Z",
     "iopub.status.busy": "2020-09-11T07:11:30.024467Z",
     "iopub.status.idle": "2020-09-11T07:11:30.027220Z",
     "shell.execute_reply": "2020-09-11T07:11:30.026728Z"
    },
    "papermill": {
     "duration": 0.105991,
     "end_time": "2020-09-11T07:11:30.027322",
     "exception": false,
     "start_time": "2020-09-11T07:11:29.921331",
     "status": "completed"
    },
    "tags": []
   },
   "outputs": [],
   "source": [
    "# modelLight=LGBMRegressor()\n",
    "\n",
    "# n_estimators = [ 700, 1000, 1500, 2000, 3000]\n",
    "# learning_rate=[.02,.05,.1,.15,.20]\n",
    "# max_depth =[0,3, 5, 8]\n",
    "# num_leaves =[16,25,31]  #Maximum tree leaves\n",
    "\n",
    "# hyperparameter_grid = {\n",
    "#     'n_estimators': n_estimators,\n",
    "#     'learning_rate':learning_rate,\n",
    "#     'num_leaves':num_leaves,\n",
    "#     \"max_depth\": max_depth}\n",
    "\n",
    "# modelLight = RandomizedSearchCV(estimator=modelLight,\n",
    "#             param_distributions=hyperparameter_grid,\n",
    "#             cv=5, n_iter=50,\n",
    "#             scoring = 'neg_mean_absolute_error',n_jobs = 4,\n",
    "#             verbose = 5, \n",
    "#             return_train_score = True,\n",
    "#             random_state=42)\n",
    "# modelLight.fit(trainX,trainY)"
   ]
  },
  {
   "cell_type": "code",
   "execution_count": 86,
   "metadata": {
    "execution": {
     "iopub.execute_input": "2020-09-11T07:11:30.230194Z",
     "iopub.status.busy": "2020-09-11T07:11:30.229596Z",
     "iopub.status.idle": "2020-09-11T07:11:30.232731Z",
     "shell.execute_reply": "2020-09-11T07:11:30.232268Z"
    },
    "papermill": {
     "duration": 0.107073,
     "end_time": "2020-09-11T07:11:30.232830",
     "exception": false,
     "start_time": "2020-09-11T07:11:30.125757",
     "status": "completed"
    },
    "tags": []
   },
   "outputs": [],
   "source": [
    "# modelLight.best_estimator_    #if best estim are at the edge=> additional tests"
   ]
  },
  {
   "cell_type": "code",
   "execution_count": 87,
   "metadata": {
    "execution": {
     "iopub.execute_input": "2020-09-11T07:11:30.437352Z",
     "iopub.status.busy": "2020-09-11T07:11:30.436726Z",
     "iopub.status.idle": "2020-09-11T07:11:30.439693Z",
     "shell.execute_reply": "2020-09-11T07:11:30.440147Z"
    },
    "papermill": {
     "duration": 0.108538,
     "end_time": "2020-09-11T07:11:30.440288",
     "exception": false,
     "start_time": "2020-09-11T07:11:30.331750",
     "status": "completed"
    },
    "tags": []
   },
   "outputs": [],
   "source": [
    "# modelLight =LGBMRegressor(learning_rate=0.05, max_depth=3, n_estimators=700, num_leaves=25)\n",
    "# modelLight.fit(trainX,trainY)"
   ]
  },
  {
   "cell_type": "code",
   "execution_count": 88,
   "metadata": {
    "execution": {
     "iopub.execute_input": "2020-09-11T07:11:30.685987Z",
     "iopub.status.busy": "2020-09-11T07:11:30.685390Z",
     "iopub.status.idle": "2020-09-11T07:11:30.689563Z",
     "shell.execute_reply": "2020-09-11T07:11:30.690010Z"
    },
    "papermill": {
     "duration": 0.149961,
     "end_time": "2020-09-11T07:11:30.690179",
     "exception": false,
     "start_time": "2020-09-11T07:11:30.540218",
     "status": "completed"
    },
    "tags": []
   },
   "outputs": [],
   "source": [
    "# predTrain=np.expm1(modelLight.predict(trainX))\n",
    "# LightAcc = mean_squared_error(predTrain, np.expm1(trainY))\n",
    "# print (str(LightAcc) + ' MSE') #Score= don't trust this one"
   ]
  },
  {
   "cell_type": "markdown",
   "metadata": {
    "papermill": {
     "duration": 0.09968,
     "end_time": "2020-09-11T07:11:30.889838",
     "exception": false,
     "start_time": "2020-09-11T07:11:30.790158",
     "status": "completed"
    },
    "tags": []
   },
   "source": [
    "Manual<br>"
   ]
  },
  {
   "cell_type": "code",
   "execution_count": 89,
   "metadata": {
    "execution": {
     "iopub.execute_input": "2020-09-11T07:11:31.095985Z",
     "iopub.status.busy": "2020-09-11T07:11:31.095427Z",
     "iopub.status.idle": "2020-09-11T07:11:31.098528Z",
     "shell.execute_reply": "2020-09-11T07:11:31.098043Z"
    },
    "papermill": {
     "duration": 0.107107,
     "end_time": "2020-09-11T07:11:31.098638",
     "exception": false,
     "start_time": "2020-09-11T07:11:30.991531",
     "status": "completed"
    },
    "tags": []
   },
   "outputs": [],
   "source": [
    "# modelLight =LGBMRegressor(learning_rate=0.02, max_depth=4, n_estimators=700*10, num_leaves=12)\n",
    "# modelLight.fit(trainX,trainY)"
   ]
  },
  {
   "cell_type": "code",
   "execution_count": 90,
   "metadata": {
    "execution": {
     "iopub.execute_input": "2020-09-11T07:11:31.300894Z",
     "iopub.status.busy": "2020-09-11T07:11:31.300345Z",
     "iopub.status.idle": "2020-09-11T07:11:31.302920Z",
     "shell.execute_reply": "2020-09-11T07:11:31.302474Z"
    },
    "papermill": {
     "duration": 0.105505,
     "end_time": "2020-09-11T07:11:31.303016",
     "exception": false,
     "start_time": "2020-09-11T07:11:31.197511",
     "status": "completed"
    },
    "tags": []
   },
   "outputs": [],
   "source": [
    "# predTrain=np.expm1(modelLight.predict(trainX))\n",
    "# LightAcc = mean_squared_error(predTrain, np.expm1(trainY))\n",
    "# print (str(LightAcc) + ' MSE') #Score= 0.12763"
   ]
  },
  {
   "cell_type": "markdown",
   "metadata": {
    "papermill": {
     "duration": 0.108184,
     "end_time": "2020-09-11T07:11:31.519962",
     "exception": false,
     "start_time": "2020-09-11T07:11:31.411778",
     "status": "completed"
    },
    "tags": []
   },
   "source": [
    "As I don't know much about light gbm I also looked at another notebook  https://www.kaggle.com/jesucristo/1-house-prices-solution-top-1"
   ]
  },
  {
   "cell_type": "code",
   "execution_count": 91,
   "metadata": {
    "execution": {
     "iopub.execute_input": "2020-09-11T07:11:31.739790Z",
     "iopub.status.busy": "2020-09-11T07:11:31.739148Z",
     "iopub.status.idle": "2020-09-11T07:11:31.743637Z",
     "shell.execute_reply": "2020-09-11T07:11:31.742882Z"
    },
    "papermill": {
     "duration": 0.115477,
     "end_time": "2020-09-11T07:11:31.743764",
     "exception": false,
     "start_time": "2020-09-11T07:11:31.628287",
     "status": "completed"
    },
    "tags": []
   },
   "outputs": [],
   "source": [
    "# modelLight = LGBMRegressor(objective='regression', \n",
    "#                        num_leaves=6,\n",
    "#                        learning_rate=0.01, \n",
    "#                        n_estimators=7000,\n",
    "#                        max_bin=200, \n",
    "#                        bagging_fraction=0.8,\n",
    "#                        bagging_freq=4, \n",
    "#                        bagging_seed=8,\n",
    "#                        feature_fraction=0.2,\n",
    "#                        feature_fraction_seed=8,\n",
    "#                        min_sum_hessian_in_leaf = 11,\n",
    "#                        verbose=-1,\n",
    "#                        random_state=42)\n",
    "# modelLight.fit(trainX,trainY)"
   ]
  },
  {
   "cell_type": "code",
   "execution_count": 92,
   "metadata": {
    "execution": {
     "iopub.execute_input": "2020-09-11T07:11:31.954454Z",
     "iopub.status.busy": "2020-09-11T07:11:31.953629Z",
     "iopub.status.idle": "2020-09-11T07:11:31.955908Z",
     "shell.execute_reply": "2020-09-11T07:11:31.956399Z"
    },
    "papermill": {
     "duration": 0.107967,
     "end_time": "2020-09-11T07:11:31.956534",
     "exception": false,
     "start_time": "2020-09-11T07:11:31.848567",
     "status": "completed"
    },
    "tags": []
   },
   "outputs": [],
   "source": [
    "# predTrain=np.expm1(modelLight.predict(trainX))\n",
    "# LightAcc = mean_squared_error(predTrain, np.expm1(trainY))\n",
    "# print (str(LightAcc) + ' MSE') #Score= 0.12185"
   ]
  },
  {
   "cell_type": "code",
   "execution_count": 93,
   "metadata": {
    "execution": {
     "iopub.execute_input": "2020-09-11T07:11:32.195894Z",
     "iopub.status.busy": "2020-09-11T07:11:32.195347Z",
     "iopub.status.idle": "2020-09-11T07:11:32.197519Z",
     "shell.execute_reply": "2020-09-11T07:11:32.197883Z"
    },
    "papermill": {
     "duration": 0.123599,
     "end_time": "2020-09-11T07:11:32.198008",
     "exception": false,
     "start_time": "2020-09-11T07:11:32.074409",
     "status": "completed"
    },
    "tags": []
   },
   "outputs": [],
   "source": [
    "# # plot results\n",
    "# plt.figure(figsize=(12,5))\n",
    "# sns.distplot((np.expm1(trainY)),bins=30, color='m')\n",
    "# sns.distplot((predTrain),bins=30, color='g')"
   ]
  },
  {
   "cell_type": "markdown",
   "metadata": {
    "papermill": {
     "duration": 0.103077,
     "end_time": "2020-09-11T07:11:32.404807",
     "exception": false,
     "start_time": "2020-09-11T07:11:32.301730",
     "status": "completed"
    },
    "tags": []
   },
   "source": [
    "# Gradient Boost"
   ]
  },
  {
   "cell_type": "code",
   "execution_count": 94,
   "metadata": {
    "execution": {
     "iopub.execute_input": "2020-09-11T07:11:32.615820Z",
     "iopub.status.busy": "2020-09-11T07:11:32.614853Z",
     "iopub.status.idle": "2020-09-11T07:11:32.618227Z",
     "shell.execute_reply": "2020-09-11T07:11:32.618946Z"
    },
    "papermill": {
     "duration": 0.111757,
     "end_time": "2020-09-11T07:11:32.619162",
     "exception": false,
     "start_time": "2020-09-11T07:11:32.507405",
     "status": "completed"
    },
    "tags": []
   },
   "outputs": [],
   "source": [
    "from sklearn.ensemble import  GradientBoostingRegressor"
   ]
  },
  {
   "cell_type": "markdown",
   "metadata": {
    "papermill": {
     "duration": 0.10383,
     "end_time": "2020-09-11T07:11:32.834261",
     "exception": false,
     "start_time": "2020-09-11T07:11:32.730431",
     "status": "completed"
    },
    "tags": []
   },
   "source": [
    "Hypertunning 1\n",
    "attention, the hypertunning may take a very long time"
   ]
  },
  {
   "cell_type": "code",
   "execution_count": 95,
   "metadata": {
    "execution": {
     "iopub.execute_input": "2020-09-11T07:11:33.049541Z",
     "iopub.status.busy": "2020-09-11T07:11:33.048637Z",
     "iopub.status.idle": "2020-09-11T07:11:33.051178Z",
     "shell.execute_reply": "2020-09-11T07:11:33.050577Z"
    },
    "papermill": {
     "duration": 0.111683,
     "end_time": "2020-09-11T07:11:33.051302",
     "exception": false,
     "start_time": "2020-09-11T07:11:32.939619",
     "status": "completed"
    },
    "tags": []
   },
   "outputs": [],
   "source": [
    "# modelGrad=GradientBoostingRegressor()\n",
    "\n",
    "# n_estimators = [ 700, 1000, 1500, 2000, 3000]\n",
    "# loss=[ \"huber\"]\n",
    "# criterion=[\"friedman_mse\"]\n",
    "# learning_rate=[.02,.05,.1,.15,.20]\n",
    "# min_samples_split=[1,3, 5, 8]\n",
    "# min_samples_leaf=[1, 2, 3, 4, 5]\n",
    "# hyperparameter_grid = {\n",
    "#     'n_estimators': n_estimators,\n",
    "#     'learning_rate':learning_rate,\n",
    "#     'min_samples_split':min_samples_split,\n",
    "#     \"loss\" :loss,\n",
    "#     'min_samples_leaf':min_samples_leaf,\n",
    "#     \"criterion\": criterion}\n",
    "\n",
    "# modelGrad = RandomizedSearchCV(estimator=modelGrad,\n",
    "#             param_distributions=hyperparameter_grid,\n",
    "#             cv=5, n_iter=50,\n",
    "#             scoring = 'neg_mean_absolute_error',n_jobs = 4,\n",
    "#             verbose = 5, \n",
    "#             return_train_score = True,\n",
    "#             random_state=42)\n",
    "# modelGrad.fit(trainX,trainY)"
   ]
  },
  {
   "cell_type": "code",
   "execution_count": 96,
   "metadata": {
    "execution": {
     "iopub.execute_input": "2020-09-11T07:11:33.263979Z",
     "iopub.status.busy": "2020-09-11T07:11:33.263074Z",
     "iopub.status.idle": "2020-09-11T07:11:33.266736Z",
     "shell.execute_reply": "2020-09-11T07:11:33.267371Z"
    },
    "papermill": {
     "duration": 0.11076,
     "end_time": "2020-09-11T07:11:33.267504",
     "exception": false,
     "start_time": "2020-09-11T07:11:33.156744",
     "status": "completed"
    },
    "tags": []
   },
   "outputs": [],
   "source": [
    "# modelGrad.best_estimator_    #if best estim are at the edge=> additional tests"
   ]
  },
  {
   "cell_type": "code",
   "execution_count": 97,
   "metadata": {
    "execution": {
     "iopub.execute_input": "2020-09-11T07:11:33.476877Z",
     "iopub.status.busy": "2020-09-11T07:11:33.476210Z",
     "iopub.status.idle": "2020-09-11T07:11:33.478266Z",
     "shell.execute_reply": "2020-09-11T07:11:33.478675Z"
    },
    "papermill": {
     "duration": 0.109046,
     "end_time": "2020-09-11T07:11:33.478791",
     "exception": false,
     "start_time": "2020-09-11T07:11:33.369745",
     "status": "completed"
    },
    "tags": []
   },
   "outputs": [],
   "source": [
    "# modelGrad=GradientBoostingRegressor(learning_rate=0.02, loss='huber', min_samples_split=3,\n",
    "#                           n_estimators=3000)\n",
    "# modelGrad.fit(trainX,trainY)"
   ]
  },
  {
   "cell_type": "code",
   "execution_count": 98,
   "metadata": {
    "execution": {
     "iopub.execute_input": "2020-09-11T07:11:33.685789Z",
     "iopub.status.busy": "2020-09-11T07:11:33.685259Z",
     "iopub.status.idle": "2020-09-11T07:11:33.688849Z",
     "shell.execute_reply": "2020-09-11T07:11:33.688356Z"
    },
    "papermill": {
     "duration": 0.107436,
     "end_time": "2020-09-11T07:11:33.688959",
     "exception": false,
     "start_time": "2020-09-11T07:11:33.581523",
     "status": "completed"
    },
    "tags": []
   },
   "outputs": [],
   "source": [
    "# predTrain=modelGrad.predict(trainX)\n",
    "# GradAcc = mean_squared_error(predTrain, trainY)\n",
    "# print (str(GradAcc) + ' MSE') # score="
   ]
  },
  {
   "cell_type": "markdown",
   "metadata": {
    "papermill": {
     "duration": 0.104139,
     "end_time": "2020-09-11T07:11:33.896051",
     "exception": false,
     "start_time": "2020-09-11T07:11:33.791912",
     "status": "completed"
    },
    "tags": []
   },
   "source": [
    "manual tunning"
   ]
  },
  {
   "cell_type": "code",
   "execution_count": 99,
   "metadata": {
    "execution": {
     "iopub.execute_input": "2020-09-11T07:11:34.103561Z",
     "iopub.status.busy": "2020-09-11T07:11:34.102930Z",
     "iopub.status.idle": "2020-09-11T07:11:34.105743Z",
     "shell.execute_reply": "2020-09-11T07:11:34.106239Z"
    },
    "papermill": {
     "duration": 0.105969,
     "end_time": "2020-09-11T07:11:34.106362",
     "exception": false,
     "start_time": "2020-09-11T07:11:34.000393",
     "status": "completed"
    },
    "tags": []
   },
   "outputs": [],
   "source": [
    "# modelGrad=GradientBoostingRegressor(learning_rate=0.01, loss='huber', min_samples_split=4,\n",
    "#                           n_estimators=3500)\n",
    "# modelGrad.fit(trainX,trainY)"
   ]
  },
  {
   "cell_type": "code",
   "execution_count": 100,
   "metadata": {
    "execution": {
     "iopub.execute_input": "2020-09-11T07:11:34.312540Z",
     "iopub.status.busy": "2020-09-11T07:11:34.311984Z",
     "iopub.status.idle": "2020-09-11T07:11:34.316173Z",
     "shell.execute_reply": "2020-09-11T07:11:34.315723Z"
    },
    "papermill": {
     "duration": 0.109938,
     "end_time": "2020-09-11T07:11:34.316280",
     "exception": false,
     "start_time": "2020-09-11T07:11:34.206342",
     "status": "completed"
    },
    "tags": []
   },
   "outputs": [],
   "source": [
    "# predTrain=modelGrad.predict(trainX)\n",
    "# GradAcc = mean_squared_error(predTrain, trainY)\n",
    "# print (str(GradAcc) + ' MSE') # score= "
   ]
  },
  {
   "cell_type": "code",
   "execution_count": 101,
   "metadata": {
    "execution": {
     "iopub.execute_input": "2020-09-11T07:11:34.521293Z",
     "iopub.status.busy": "2020-09-11T07:11:34.520568Z",
     "iopub.status.idle": "2020-09-11T07:11:34.522331Z",
     "shell.execute_reply": "2020-09-11T07:11:34.522984Z"
    },
    "papermill": {
     "duration": 0.105506,
     "end_time": "2020-09-11T07:11:34.523138",
     "exception": false,
     "start_time": "2020-09-11T07:11:34.417632",
     "status": "completed"
    },
    "tags": []
   },
   "outputs": [],
   "source": [
    "# # plot results\n",
    "# plt.figure(figsize=(12,5))\n",
    "# sns.distplot((np.expm1(trainY)),bins=30, color='m')\n",
    "# sns.distplot((predTrain),bins=30, color='g')"
   ]
  },
  {
   "cell_type": "markdown",
   "metadata": {
    "papermill": {
     "duration": 0.10047,
     "end_time": "2020-09-11T07:11:34.728803",
     "exception": false,
     "start_time": "2020-09-11T07:11:34.628333",
     "status": "completed"
    },
    "tags": []
   },
   "source": [
    "# Adaboost"
   ]
  },
  {
   "cell_type": "code",
   "execution_count": 102,
   "metadata": {
    "execution": {
     "iopub.execute_input": "2020-09-11T07:11:34.937873Z",
     "iopub.status.busy": "2020-09-11T07:11:34.937319Z",
     "iopub.status.idle": "2020-09-11T07:11:34.941140Z",
     "shell.execute_reply": "2020-09-11T07:11:34.941627Z"
    },
    "papermill": {
     "duration": 0.109484,
     "end_time": "2020-09-11T07:11:34.941753",
     "exception": false,
     "start_time": "2020-09-11T07:11:34.832269",
     "status": "completed"
    },
    "tags": []
   },
   "outputs": [],
   "source": [
    "from sklearn.ensemble import  AdaBoostRegressor"
   ]
  },
  {
   "cell_type": "markdown",
   "metadata": {
    "papermill": {
     "duration": 0.099911,
     "end_time": "2020-09-11T07:11:35.141417",
     "exception": false,
     "start_time": "2020-09-11T07:11:35.041506",
     "status": "completed"
    },
    "tags": []
   },
   "source": [
    "Hypertunning 1 <br>"
   ]
  },
  {
   "cell_type": "code",
   "execution_count": 103,
   "metadata": {
    "execution": {
     "iopub.execute_input": "2020-09-11T07:11:35.343979Z",
     "iopub.status.busy": "2020-09-11T07:11:35.343409Z",
     "iopub.status.idle": "2020-09-11T07:11:35.347111Z",
     "shell.execute_reply": "2020-09-11T07:11:35.347500Z"
    },
    "papermill": {
     "duration": 0.106621,
     "end_time": "2020-09-11T07:11:35.347632",
     "exception": false,
     "start_time": "2020-09-11T07:11:35.241011",
     "status": "completed"
    },
    "tags": []
   },
   "outputs": [],
   "source": [
    "# modelAda=AdaBoostRegressor()\n",
    "\n",
    "# n_estimators = [ 700, 1000, 1500, 2000, 3000]\n",
    "# loss=[ \"linear\", \"square\"]\n",
    "# learning_rate=[.02,.1,.15,.60, 1]\n",
    "\n",
    "# hyperparameter_grid = {\n",
    "#     'n_estimators': n_estimators,\n",
    "#     'learning_rate':learning_rate,\n",
    "#     \"loss\" :loss,\n",
    "#     }\n",
    "\n",
    "# modelAda = RandomizedSearchCV(estimator=modelAda,\n",
    "#             param_distributions=hyperparameter_grid,\n",
    "#             cv=5, n_iter=50,\n",
    "#             scoring = 'neg_mean_absolute_error',n_jobs = 4,\n",
    "#             verbose = 5, \n",
    "#             return_train_score = True,\n",
    "#             random_state=42)\n",
    "# modelAda.fit(trainX,trainY)"
   ]
  },
  {
   "cell_type": "code",
   "execution_count": 104,
   "metadata": {
    "execution": {
     "iopub.execute_input": "2020-09-11T07:11:35.552616Z",
     "iopub.status.busy": "2020-09-11T07:11:35.552027Z",
     "iopub.status.idle": "2020-09-11T07:11:35.556413Z",
     "shell.execute_reply": "2020-09-11T07:11:35.555902Z"
    },
    "papermill": {
     "duration": 0.108546,
     "end_time": "2020-09-11T07:11:35.556533",
     "exception": false,
     "start_time": "2020-09-11T07:11:35.447987",
     "status": "completed"
    },
    "tags": []
   },
   "outputs": [],
   "source": [
    "# modelAda.best_estimator_    #if best estim are at the edge=> additional tests"
   ]
  },
  {
   "cell_type": "code",
   "execution_count": 105,
   "metadata": {
    "execution": {
     "iopub.execute_input": "2020-09-11T07:11:35.807455Z",
     "iopub.status.busy": "2020-09-11T07:11:35.806851Z",
     "iopub.status.idle": "2020-09-11T07:11:35.809589Z",
     "shell.execute_reply": "2020-09-11T07:11:35.809180Z"
    },
    "papermill": {
     "duration": 0.117057,
     "end_time": "2020-09-11T07:11:35.809690",
     "exception": false,
     "start_time": "2020-09-11T07:11:35.692633",
     "status": "completed"
    },
    "tags": []
   },
   "outputs": [],
   "source": [
    "# modelAda=AdaBoostRegressor(learning_rate=0.02, n_estimators=1500)\n",
    "# modelAda.fit(trainX,trainY)"
   ]
  },
  {
   "cell_type": "code",
   "execution_count": 106,
   "metadata": {
    "execution": {
     "iopub.execute_input": "2020-09-11T07:11:36.015352Z",
     "iopub.status.busy": "2020-09-11T07:11:36.014753Z",
     "iopub.status.idle": "2020-09-11T07:11:36.017332Z",
     "shell.execute_reply": "2020-09-11T07:11:36.017744Z"
    },
    "papermill": {
     "duration": 0.107071,
     "end_time": "2020-09-11T07:11:36.017881",
     "exception": false,
     "start_time": "2020-09-11T07:11:35.910810",
     "status": "completed"
    },
    "tags": []
   },
   "outputs": [],
   "source": [
    "# predTrain=modelAda.predict(trainX)\n",
    "# AdaAcc = mean_squared_error(predTrain, trainY)\n",
    "# print (str(AdaAcc) + ' MSE') # score= "
   ]
  },
  {
   "cell_type": "markdown",
   "metadata": {
    "papermill": {
     "duration": 0.099793,
     "end_time": "2020-09-11T07:11:36.219642",
     "exception": false,
     "start_time": "2020-09-11T07:11:36.119849",
     "status": "completed"
    },
    "tags": []
   },
   "source": [
    "manual tunning"
   ]
  },
  {
   "cell_type": "code",
   "execution_count": 107,
   "metadata": {
    "execution": {
     "iopub.execute_input": "2020-09-11T07:11:36.423798Z",
     "iopub.status.busy": "2020-09-11T07:11:36.423228Z",
     "iopub.status.idle": "2020-09-11T07:11:36.426227Z",
     "shell.execute_reply": "2020-09-11T07:11:36.425784Z"
    },
    "papermill": {
     "duration": 0.106644,
     "end_time": "2020-09-11T07:11:36.426325",
     "exception": false,
     "start_time": "2020-09-11T07:11:36.319681",
     "status": "completed"
    },
    "tags": []
   },
   "outputs": [],
   "source": [
    "# modelAda=AdaBoostRegressor(learning_rate=0.01, n_estimators=3000)\n",
    "# modelAda.fit(trainX,trainY)"
   ]
  },
  {
   "cell_type": "code",
   "execution_count": 108,
   "metadata": {
    "execution": {
     "iopub.execute_input": "2020-09-11T07:11:36.631263Z",
     "iopub.status.busy": "2020-09-11T07:11:36.630656Z",
     "iopub.status.idle": "2020-09-11T07:11:36.633185Z",
     "shell.execute_reply": "2020-09-11T07:11:36.632706Z"
    },
    "papermill": {
     "duration": 0.106387,
     "end_time": "2020-09-11T07:11:36.633286",
     "exception": false,
     "start_time": "2020-09-11T07:11:36.526899",
     "status": "completed"
    },
    "tags": []
   },
   "outputs": [],
   "source": [
    "# predTrain=modelAda.predict(trainX)\n",
    "# AdaAcc = mean_squared_error(predTrain, trainY)\n",
    "# print (str(AdaAcc) + ' MSE') # score= 0.20880  same as before but bigger=> worse"
   ]
  },
  {
   "cell_type": "code",
   "execution_count": 109,
   "metadata": {
    "execution": {
     "iopub.execute_input": "2020-09-11T07:11:36.838674Z",
     "iopub.status.busy": "2020-09-11T07:11:36.838109Z",
     "iopub.status.idle": "2020-09-11T07:11:36.840805Z",
     "shell.execute_reply": "2020-09-11T07:11:36.840339Z"
    },
    "papermill": {
     "duration": 0.107266,
     "end_time": "2020-09-11T07:11:36.840903",
     "exception": false,
     "start_time": "2020-09-11T07:11:36.733637",
     "status": "completed"
    },
    "tags": []
   },
   "outputs": [],
   "source": [
    "# # plot results\n",
    "# plt.figure(figsize=(12,5))\n",
    "# sns.distplot((np.expm1(trainY)),bins=30, color='m')\n",
    "# sns.distplot((predTrain),bins=30, color='g')"
   ]
  },
  {
   "cell_type": "markdown",
   "metadata": {
    "papermill": {
     "duration": 0.100873,
     "end_time": "2020-09-11T07:11:37.044317",
     "exception": false,
     "start_time": "2020-09-11T07:11:36.943444",
     "status": "completed"
    },
    "tags": []
   },
   "source": [
    "I decided to remove ridge, lasso, and elastic net regression as i din't know much about it."
   ]
  },
  {
   "cell_type": "markdown",
   "metadata": {
    "papermill": {
     "duration": 0.105906,
     "end_time": "2020-09-11T07:11:37.250535",
     "exception": false,
     "start_time": "2020-09-11T07:11:37.144629",
     "status": "completed"
    },
    "tags": []
   },
   "source": [
    "# Stacking the models"
   ]
  },
  {
   "cell_type": "code",
   "execution_count": 110,
   "metadata": {
    "execution": {
     "iopub.execute_input": "2020-09-11T07:11:37.456687Z",
     "iopub.status.busy": "2020-09-11T07:11:37.455784Z",
     "iopub.status.idle": "2020-09-11T07:11:37.492245Z",
     "shell.execute_reply": "2020-09-11T07:11:37.491644Z"
    },
    "papermill": {
     "duration": 0.140481,
     "end_time": "2020-09-11T07:11:37.492406",
     "exception": false,
     "start_time": "2020-09-11T07:11:37.351925",
     "status": "completed"
    },
    "tags": []
   },
   "outputs": [],
   "source": [
    "from mlxtend.regressor import StackingCVRegressor"
   ]
  },
  {
   "cell_type": "code",
   "execution_count": 111,
   "metadata": {
    "execution": {
     "iopub.execute_input": "2020-09-11T07:11:37.699372Z",
     "iopub.status.busy": "2020-09-11T07:11:37.698455Z",
     "iopub.status.idle": "2020-09-11T07:11:37.701846Z",
     "shell.execute_reply": "2020-09-11T07:11:37.702345Z"
    },
    "papermill": {
     "duration": 0.108746,
     "end_time": "2020-09-11T07:11:37.702483",
     "exception": false,
     "start_time": "2020-09-11T07:11:37.593737",
     "status": "completed"
    },
    "tags": []
   },
   "outputs": [],
   "source": [
    "# # im testing with dif models\n",
    "# modelStack = StackingCVRegressor(regressors=(\n",
    "#                                              modelSvr,#  modelLin, \n",
    "#                                             modelForrest, modelX, modelLight\n",
    "#                                            , modelAda, # modelGrad\n",
    "#                                                 ),\n",
    "#                                 meta_regressor=modelX,  # i trust xgboost/light gbm the most as they performed better than the other models\n",
    "#                                 use_features_in_secondary=True)"
   ]
  },
  {
   "cell_type": "code",
   "execution_count": 112,
   "metadata": {
    "execution": {
     "iopub.execute_input": "2020-09-11T07:11:37.911503Z",
     "iopub.status.busy": "2020-09-11T07:11:37.910622Z",
     "iopub.status.idle": "2020-09-11T07:11:37.913944Z",
     "shell.execute_reply": "2020-09-11T07:11:37.914461Z"
    },
    "papermill": {
     "duration": 0.108046,
     "end_time": "2020-09-11T07:11:37.914585",
     "exception": false,
     "start_time": "2020-09-11T07:11:37.806539",
     "status": "completed"
    },
    "tags": []
   },
   "outputs": [],
   "source": [
    "# modelStack.fit(trainX,trainY)"
   ]
  },
  {
   "cell_type": "code",
   "execution_count": 113,
   "metadata": {
    "execution": {
     "iopub.execute_input": "2020-09-11T07:11:38.120622Z",
     "iopub.status.busy": "2020-09-11T07:11:38.119729Z",
     "iopub.status.idle": "2020-09-11T07:11:38.122881Z",
     "shell.execute_reply": "2020-09-11T07:11:38.123437Z"
    },
    "papermill": {
     "duration": 0.107978,
     "end_time": "2020-09-11T07:11:38.123571",
     "exception": false,
     "start_time": "2020-09-11T07:11:38.015593",
     "status": "completed"
    },
    "tags": []
   },
   "outputs": [],
   "source": [
    "# predTrain=modelStack.predict(trainX)\n",
    "# StAcc = mean_squared_error(predTrain, trainY)\n",
    "# print (str(StAcc) + ' MSE') "
   ]
  },
  {
   "cell_type": "code",
   "execution_count": 114,
   "metadata": {
    "execution": {
     "iopub.execute_input": "2020-09-11T07:11:38.329985Z",
     "iopub.status.busy": "2020-09-11T07:11:38.329185Z",
     "iopub.status.idle": "2020-09-11T07:11:38.332233Z",
     "shell.execute_reply": "2020-09-11T07:11:38.332645Z"
    },
    "papermill": {
     "duration": 0.107649,
     "end_time": "2020-09-11T07:11:38.332786",
     "exception": false,
     "start_time": "2020-09-11T07:11:38.225137",
     "status": "completed"
    },
    "tags": []
   },
   "outputs": [],
   "source": [
    "# # plot results\n",
    "# plt.figure(figsize=(12,5))\n",
    "# sns.distplot((np.expm1(trainY)),bins=30, color='m')\n",
    "# sns.distplot((predTrain),bins=30, color='g')"
   ]
  },
  {
   "cell_type": "markdown",
   "metadata": {
    "papermill": {
     "duration": 0.101425,
     "end_time": "2020-09-11T07:11:38.535702",
     "exception": false,
     "start_time": "2020-09-11T07:11:38.434277",
     "status": "completed"
    },
    "tags": []
   },
   "source": [
    "notes:\n",
    "- 1. try models used: modelForrest, modelX, modelLight, modelAda, modelSvr.  Metamodel=modelX, score=\n",
    "- 2 try models used: modelForrest, modelX, modelLight, modelAda.  Metamodel=modelX, score=\n",
    "- 3. try models used: modelForrest, modelX, modelLight, modelAda, modelSvr, modelGrad.  Metamodel=modelX, score=\n"
   ]
  },
  {
   "cell_type": "markdown",
   "metadata": {
    "papermill": {
     "duration": 0.138514,
     "end_time": "2020-09-11T07:11:38.776824",
     "exception": false,
     "start_time": "2020-09-11T07:11:38.638310",
     "status": "completed"
    },
    "tags": []
   },
   "source": [
    "# averaging\n",
    "taking the average of good performing models to see if results get better."
   ]
  },
  {
   "cell_type": "code",
   "execution_count": 115,
   "metadata": {
    "execution": {
     "iopub.execute_input": "2020-09-11T07:11:38.983804Z",
     "iopub.status.busy": "2020-09-11T07:11:38.983238Z",
     "iopub.status.idle": "2020-09-11T07:11:38.985988Z",
     "shell.execute_reply": "2020-09-11T07:11:38.986419Z"
    },
    "papermill": {
     "duration": 0.108264,
     "end_time": "2020-09-11T07:11:38.986543",
     "exception": false,
     "start_time": "2020-09-11T07:11:38.878279",
     "status": "completed"
    },
    "tags": []
   },
   "outputs": [],
   "source": [
    "# predictions=pd.DataFrame({'Id': test.index,\n",
    "#                        'SalePrice': (modelX.predict(testX)+modelLight.predict(testX))/2})"
   ]
  },
  {
   "cell_type": "markdown",
   "metadata": {
    "papermill": {
     "duration": 0.101117,
     "end_time": "2020-09-11T07:11:39.189457",
     "exception": false,
     "start_time": "2020-09-11T07:11:39.088340",
     "status": "completed"
    },
    "tags": []
   },
   "source": [
    "# save Prediction"
   ]
  },
  {
   "cell_type": "code",
   "execution_count": 116,
   "metadata": {
    "execution": {
     "iopub.execute_input": "2020-09-11T07:11:39.395777Z",
     "iopub.status.busy": "2020-09-11T07:11:39.395182Z",
     "iopub.status.idle": "2020-09-11T07:11:39.588832Z",
     "shell.execute_reply": "2020-09-11T07:11:39.589275Z"
    },
    "papermill": {
     "duration": 0.298556,
     "end_time": "2020-09-11T07:11:39.589418",
     "exception": false,
     "start_time": "2020-09-11T07:11:39.290862",
     "status": "completed"
    },
    "tags": []
   },
   "outputs": [],
   "source": [
    "predictions=pd.DataFrame({'Id': test.index,\n",
    "                       'SalePrice': np.expm1(modelSvr.predict(testX))})\n",
    "#2905 not working? inf?"
   ]
  },
  {
   "cell_type": "code",
   "execution_count": 117,
   "metadata": {
    "execution": {
     "iopub.execute_input": "2020-09-11T07:11:39.796856Z",
     "iopub.status.busy": "2020-09-11T07:11:39.796288Z",
     "iopub.status.idle": "2020-09-11T07:11:39.798985Z",
     "shell.execute_reply": "2020-09-11T07:11:39.799409Z"
    },
    "papermill": {
     "duration": 0.107681,
     "end_time": "2020-09-11T07:11:39.799534",
     "exception": false,
     "start_time": "2020-09-11T07:11:39.691853",
     "status": "completed"
    },
    "tags": []
   },
   "outputs": [],
   "source": [
    "# predictions.loc[1444] # because linReg somehow gets inf on this ID"
   ]
  },
  {
   "cell_type": "code",
   "execution_count": 118,
   "metadata": {
    "execution": {
     "iopub.execute_input": "2020-09-11T07:11:40.019712Z",
     "iopub.status.busy": "2020-09-11T07:11:40.019071Z",
     "iopub.status.idle": "2020-09-11T07:11:40.022434Z",
     "shell.execute_reply": "2020-09-11T07:11:40.022815Z"
    },
    "papermill": {
     "duration": 0.120672,
     "end_time": "2020-09-11T07:11:40.022944",
     "exception": false,
     "start_time": "2020-09-11T07:11:39.902272",
     "status": "completed"
    },
    "tags": []
   },
   "outputs": [
    {
     "data": {
      "text/html": [
       "<div>\n",
       "<style scoped>\n",
       "    .dataframe tbody tr th:only-of-type {\n",
       "        vertical-align: middle;\n",
       "    }\n",
       "\n",
       "    .dataframe tbody tr th {\n",
       "        vertical-align: top;\n",
       "    }\n",
       "\n",
       "    .dataframe thead th {\n",
       "        text-align: right;\n",
       "    }\n",
       "</style>\n",
       "<table border=\"1\" class=\"dataframe\">\n",
       "  <thead>\n",
       "    <tr style=\"text-align: right;\">\n",
       "      <th></th>\n",
       "      <th>Id</th>\n",
       "      <th>SalePrice</th>\n",
       "    </tr>\n",
       "  </thead>\n",
       "  <tbody>\n",
       "    <tr>\n",
       "      <th>0</th>\n",
       "      <td>1461</td>\n",
       "      <td>113512.431984</td>\n",
       "    </tr>\n",
       "    <tr>\n",
       "      <th>1</th>\n",
       "      <td>1462</td>\n",
       "      <td>155083.175327</td>\n",
       "    </tr>\n",
       "    <tr>\n",
       "      <th>2</th>\n",
       "      <td>1463</td>\n",
       "      <td>177215.215112</td>\n",
       "    </tr>\n",
       "    <tr>\n",
       "      <th>3</th>\n",
       "      <td>1464</td>\n",
       "      <td>199273.334442</td>\n",
       "    </tr>\n",
       "    <tr>\n",
       "      <th>4</th>\n",
       "      <td>1465</td>\n",
       "      <td>190112.863222</td>\n",
       "    </tr>\n",
       "    <tr>\n",
       "      <th>...</th>\n",
       "      <td>...</td>\n",
       "      <td>...</td>\n",
       "    </tr>\n",
       "    <tr>\n",
       "      <th>1454</th>\n",
       "      <td>2915</td>\n",
       "      <td>87562.739736</td>\n",
       "    </tr>\n",
       "    <tr>\n",
       "      <th>1455</th>\n",
       "      <td>2916</td>\n",
       "      <td>83660.660328</td>\n",
       "    </tr>\n",
       "    <tr>\n",
       "      <th>1456</th>\n",
       "      <td>2917</td>\n",
       "      <td>170835.972648</td>\n",
       "    </tr>\n",
       "    <tr>\n",
       "      <th>1457</th>\n",
       "      <td>2918</td>\n",
       "      <td>115220.132474</td>\n",
       "    </tr>\n",
       "    <tr>\n",
       "      <th>1458</th>\n",
       "      <td>2919</td>\n",
       "      <td>226701.768239</td>\n",
       "    </tr>\n",
       "  </tbody>\n",
       "</table>\n",
       "<p>1459 rows × 2 columns</p>\n",
       "</div>"
      ],
      "text/plain": [
       "        Id      SalePrice\n",
       "0     1461  113512.431984\n",
       "1     1462  155083.175327\n",
       "2     1463  177215.215112\n",
       "3     1464  199273.334442\n",
       "4     1465  190112.863222\n",
       "...    ...            ...\n",
       "1454  2915   87562.739736\n",
       "1455  2916   83660.660328\n",
       "1456  2917  170835.972648\n",
       "1457  2918  115220.132474\n",
       "1458  2919  226701.768239\n",
       "\n",
       "[1459 rows x 2 columns]"
      ]
     },
     "execution_count": 118,
     "metadata": {},
     "output_type": "execute_result"
    }
   ],
   "source": [
    "predictions"
   ]
  },
  {
   "cell_type": "code",
   "execution_count": 119,
   "metadata": {
    "execution": {
     "iopub.execute_input": "2020-09-11T07:11:40.238505Z",
     "iopub.status.busy": "2020-09-11T07:11:40.237919Z",
     "iopub.status.idle": "2020-09-11T07:11:40.528798Z",
     "shell.execute_reply": "2020-09-11T07:11:40.528243Z"
    },
    "papermill": {
     "duration": 0.404176,
     "end_time": "2020-09-11T07:11:40.528899",
     "exception": false,
     "start_time": "2020-09-11T07:11:40.124723",
     "status": "completed"
    },
    "tags": []
   },
   "outputs": [
    {
     "data": {
      "text/plain": [
       "<matplotlib.axes._subplots.AxesSubplot at 0x7f66ecc3e6d0>"
      ]
     },
     "execution_count": 119,
     "metadata": {},
     "output_type": "execute_result"
    },
    {
     "data": {
      "image/png": "[encoded data removed]",
      "text/plain": [
       "<Figure size 864x360 with 1 Axes>"
      ]
     },
     "metadata": {
      "needs_background": "light"
     },
     "output_type": "display_data"
    }
   ],
   "source": [
    "# plot results\n",
    "plt.figure(figsize=(12,5))\n",
    "sns.distplot(predictions[\"SalePrice\"],bins=30, color='m')"
   ]
  },
  {
   "cell_type": "code",
   "execution_count": 120,
   "metadata": {
    "execution": {
     "iopub.execute_input": "2020-09-11T07:11:40.777012Z",
     "iopub.status.busy": "2020-09-11T07:11:40.776423Z",
     "iopub.status.idle": "2020-09-11T07:11:40.824755Z",
     "shell.execute_reply": "2020-09-11T07:11:40.825216Z"
    },
    "papermill": {
     "duration": 0.192737,
     "end_time": "2020-09-11T07:11:40.825378",
     "exception": false,
     "start_time": "2020-09-11T07:11:40.632641",
     "status": "completed"
    },
    "tags": []
   },
   "outputs": [],
   "source": [
    "predictions.to_csv(\"submit.csv\", index=False)"
   ]
  }
 ],
 "metadata": {
  "kernelspec": {
   "display_name": "Python 3",
   "language": "python",
   "name": "python3"
  },
  "language_info": {
   "codemirror_mode": {
    "name": "ipython",
    "version": 3
   },
   "file_extension": ".py",
   "mimetype": "text/x-python",
   "name": "python",
   "nbconvert_exporter": "python",
   "pygments_lexer": "ipython3",
   "version": "3.7.6"
  },
  "papermill": {
   "duration": 41.328889,
   "end_time": "2020-09-11T07:11:41.037804",
   "environment_variables": {},
   "exception": null,
   "input_path": "__notebook__.ipynb",
   "output_path": "__notebook__.ipynb",
   "parameters": {},
   "start_time": "2020-09-11T07:10:59.708915",
   "version": "2.1.0"
  }
 },
 "nbformat": 4,
 "nbformat_minor": 4
}
